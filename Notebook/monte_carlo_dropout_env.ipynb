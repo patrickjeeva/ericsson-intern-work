{
 "cells": [
  {
   "cell_type": "code",
   "execution_count": 34,
   "id": "8d16a29e",
   "metadata": {},
   "outputs": [],
   "source": [
    "import gym\n",
    "\n",
    "import numpy as np\n",
    "import pandas as pd\n",
    "import matplotlib.pyplot as plt\n",
    "import random\n",
    "\n",
    "import torch\n",
    "import torch.nn as nn\n",
    "import torch.nn.functional as F\n",
    "import torch.optim as optim\n",
    "\n",
    "import sklearn\n",
    "from sklearn.metrics import mean_squared_error, r2_score\n",
    "\n",
    "import pickle\n",
    "\n",
    "import os"
   ]
  },
  {
   "cell_type": "code",
   "execution_count": 35,
   "id": "25156e53",
   "metadata": {},
   "outputs": [
    {
     "name": "stdout",
     "output_type": "stream",
     "text": [
      "cuda\n"
     ]
    }
   ],
   "source": [
    "# Check GPU availability\n",
    "device = torch.device(\"cuda\" if torch.cuda.is_available() else \"cpu\")\n",
    "print(device)"
   ]
  },
  {
   "cell_type": "code",
   "execution_count": 36,
   "id": "a750a894",
   "metadata": {},
   "outputs": [],
   "source": [
    "# Initialize CartPole environment\n",
    "#env_name = 'CartPole-v1'\n",
    "#env_name = 'MountainCarContinuous-v0'\n",
    "#env_name = 'MountainCar-v0'\n",
    "env_name = 'Pendulum-v1'\n",
    "\n",
    "# Create the CartPole environment\n",
    "env = gym.make(env_name)"
   ]
  },
  {
   "cell_type": "markdown",
   "id": "acb5b8be",
   "metadata": {},
   "source": [
    "# Define the Monte Carlo Dropout model"
   ]
  },
  {
   "cell_type": "code",
   "execution_count": 37,
   "id": "7956be18",
   "metadata": {},
   "outputs": [],
   "source": [
    "class MC_Dropout_Net(nn.Module):\n",
    "    def __init__(self, input_size, output_size, num_hidden_layers, hidden_layer_nodes, activation, dropout_prob, num_network):\n",
    "        super(MC_Dropout_Net, self).__init__()\n",
    "        self.input_size = input_size\n",
    "        self.output_size = output_size\n",
    "        self.num_hidden_layers = num_hidden_layers\n",
    "        self.hidden_layer_nodes = hidden_layer_nodes\n",
    "        self.activation = activation\n",
    "        self.num_network = num_network\n",
    "        \n",
    "        # Define the layers\n",
    "        self.input_layer = nn.Linear(input_size, hidden_layer_nodes)\n",
    "        self.hidden_layers = nn.ModuleList()\n",
    "        for _ in range(num_hidden_layers):\n",
    "            self.hidden_layers.append(nn.Linear(hidden_layer_nodes, hidden_layer_nodes))\n",
    "            self.hidden_layers.append(nn.Dropout(p=dropout_prob))\n",
    "        self.output_layer = nn.Linear(hidden_layer_nodes, output_size)\n",
    "\n",
    "    def forward(self, x):\n",
    "        total_output = 0.0\n",
    "        for i in range(self.num_network):\n",
    "            x_temp = x\n",
    "            x_temp = self.activation(self.input_layer(x_temp))\n",
    "            for hidden_layer in self.hidden_layers:\n",
    "                x_temp = self.activation(hidden_layer(x_temp))\n",
    "            output = self.output_layer(x_temp)\n",
    "            total_output += output\n",
    "        average_output = total_output / self.num_network\n",
    "        return average_output\n"
   ]
  },
  {
   "cell_type": "markdown",
   "id": "e18a1acd",
   "metadata": {},
   "source": [
    "# Initialize the model"
   ]
  },
  {
   "cell_type": "code",
   "execution_count": 38,
   "id": "30859c26",
   "metadata": {},
   "outputs": [],
   "source": [
    "#Initialize parameters for model\n",
    "action = env.action_space.sample()\n",
    "\n",
    "if isinstance(action, int):\n",
    "    input_size = env.observation_space.shape[0] + 1\n",
    "elif isinstance(action, np.ndarray):\n",
    "    input_size = env.observation_space.shape[0] + len(action)\n",
    "\n",
    "output_size = env.observation_space.shape[0] + 2\n",
    "num_hidden_layers = 3\n",
    "hidden_layer_nodes = 20\n",
    "activation = F.relu\n",
    "learning_rate = 0.01\n",
    "dropout_prob = 0.3\n",
    "num_networks = 5\n",
    "\n",
    "\n",
    "# Instantiate the model\n",
    "model = MC_Dropout_Net(input_size, output_size, num_hidden_layers, hidden_layer_nodes, activation, dropout_prob, num_networks).to(device)\n",
    "\n",
    "# Define loss function and optimizer\n",
    "criterion = nn.MSELoss()\n",
    "optimizer = optim.Adam(model.parameters(), lr=learning_rate)"
   ]
  },
  {
   "cell_type": "markdown",
   "id": "d334d878",
   "metadata": {},
   "source": [
    "# Loading the Dataset"
   ]
  },
  {
   "cell_type": "code",
   "execution_count": 39,
   "id": "d8fb865c",
   "metadata": {},
   "outputs": [],
   "source": [
    "batch_size = 32\n",
    "\n",
    "num_samples = '50k'\n",
    "\n",
    "# Load datasets\n",
    "with open(env_name + '_' + num_samples + '_train_dataset.pkl', 'rb') as f:\n",
    "    train_dataset_loaded = pickle.load(f)\n",
    "\n",
    "with open(env_name + '_' + num_samples + '_test_dataset.pkl', 'rb') as f:\n",
    "    test_dataset_loaded = pickle.load(f)\n",
    "\n",
    "train_loader = torch.utils.data.DataLoader(train_dataset_loaded, batch_size=batch_size, shuffle=True)\n",
    "test_loader = torch.utils.data.DataLoader(test_dataset_loaded, batch_size=batch_size, shuffle=False)"
   ]
  },
  {
   "cell_type": "markdown",
   "id": "1e717ae5",
   "metadata": {},
   "source": [
    "# Training the Model "
   ]
  },
  {
   "cell_type": "code",
   "execution_count": 40,
   "id": "7cd916fd",
   "metadata": {},
   "outputs": [
    {
     "name": "stdout",
     "output_type": "stream",
     "text": [
      "Epoch [1/50], Training Loss: 2.975367941761017\n",
      "Epoch [1/50], Test Loss: 2.818069199784495\n",
      "Epoch [2/50], Training Loss: 2.724068147277832\n",
      "Epoch [2/50], Test Loss: 2.7414820803620943\n",
      "Epoch [3/50], Training Loss: 2.6667794897079466\n",
      "Epoch [3/50], Test Loss: 2.7135560634418034\n",
      "Epoch [4/50], Training Loss: 2.642442583179474\n",
      "Epoch [4/50], Test Loss: 2.6468222845857516\n",
      "Epoch [5/50], Training Loss: 2.639388488483429\n",
      "Epoch [5/50], Test Loss: 2.6673267161884247\n",
      "Epoch [6/50], Training Loss: 2.6280567712783816\n",
      "Epoch [6/50], Test Loss: 2.614171108498741\n",
      "Epoch [7/50], Training Loss: 2.637756496143341\n",
      "Epoch [7/50], Test Loss: 2.773378559575675\n",
      "Epoch [8/50], Training Loss: 2.6349081681251527\n",
      "Epoch [8/50], Test Loss: 2.6524836247721417\n",
      "Epoch [9/50], Training Loss: 2.6166102779388427\n",
      "Epoch [9/50], Test Loss: 2.716686177177551\n",
      "Epoch [10/50], Training Loss: 2.6161154432296754\n",
      "Epoch [10/50], Test Loss: 2.6300444762927655\n",
      "Epoch [11/50], Training Loss: 2.6163379276275633\n",
      "Epoch [11/50], Test Loss: 2.655030388039903\n",
      "Epoch [12/50], Training Loss: 2.6202660937309266\n",
      "Epoch [12/50], Test Loss: 2.641830212011124\n",
      "Epoch [13/50], Training Loss: 2.6216127237319946\n",
      "Epoch [13/50], Test Loss: 2.5907601038107093\n",
      "Epoch [14/50], Training Loss: 2.621946485710144\n",
      "Epoch [14/50], Test Loss: 2.7082048071839937\n",
      "Epoch [15/50], Training Loss: 2.6181419051170347\n",
      "Epoch [15/50], Test Loss: 2.600374147153129\n",
      "Epoch [16/50], Training Loss: 2.61704074010849\n",
      "Epoch [16/50], Test Loss: 2.7050382473979133\n",
      "Epoch [17/50], Training Loss: 2.612084697151184\n",
      "Epoch [17/50], Test Loss: 2.6208559019497026\n",
      "Epoch [18/50], Training Loss: 2.6110641421318053\n",
      "Epoch [18/50], Test Loss: 2.5879405066609\n",
      "Epoch [19/50], Training Loss: 2.62025553150177\n",
      "Epoch [19/50], Test Loss: 2.6234967579095128\n",
      "Epoch [20/50], Training Loss: 2.606583418464661\n",
      "Epoch [20/50], Test Loss: 2.616036730071607\n",
      "Epoch [21/50], Training Loss: 2.610147687149048\n",
      "Epoch [21/50], Test Loss: 2.6434476931635946\n",
      "Epoch [22/50], Training Loss: 2.62111563539505\n",
      "Epoch [22/50], Test Loss: 2.7641434730432284\n",
      "Epoch [23/50], Training Loss: 2.6260139575958252\n",
      "Epoch [23/50], Test Loss: 2.6678663023744527\n",
      "Epoch [24/50], Training Loss: 2.6148929341316225\n",
      "Epoch [24/50], Test Loss: 2.5990385495054835\n",
      "Epoch [25/50], Training Loss: 2.612566269302368\n",
      "Epoch [25/50], Test Loss: 2.6242150982347923\n",
      "Epoch [26/50], Training Loss: 2.6187045920372007\n",
      "Epoch [26/50], Test Loss: 2.611853111285371\n",
      "Epoch [27/50], Training Loss: 2.609964491844177\n",
      "Epoch [27/50], Test Loss: 2.605511779221483\n",
      "Epoch [28/50], Training Loss: 2.616436830711365\n",
      "Epoch [28/50], Test Loss: 2.6188641002002995\n",
      "Epoch [29/50], Training Loss: 2.619081589126587\n",
      "Epoch [29/50], Test Loss: 2.635646735898222\n",
      "Epoch [30/50], Training Loss: 2.628338041114807\n",
      "Epoch [30/50], Test Loss: 2.6635210426470723\n",
      "Epoch [31/50], Training Loss: 2.6116256310462953\n",
      "Epoch [31/50], Test Loss: 2.6000438117371583\n",
      "Epoch [32/50], Training Loss: 2.6295289552688597\n",
      "Epoch [32/50], Test Loss: 2.650660482077553\n",
      "Epoch [33/50], Training Loss: 2.6194458253860473\n",
      "Epoch [33/50], Test Loss: 2.7257036907604326\n",
      "Epoch [34/50], Training Loss: 2.612997979927063\n",
      "Epoch [34/50], Test Loss: 2.674472602411581\n",
      "Epoch [35/50], Training Loss: 2.6126200196266174\n",
      "Epoch [35/50], Test Loss: 2.6636040793440214\n",
      "Epoch [36/50], Training Loss: 2.6310001244544985\n",
      "Epoch [36/50], Test Loss: 2.669090851427267\n",
      "Epoch [37/50], Training Loss: 2.6142893637657165\n",
      "Epoch [37/50], Test Loss: 2.6659675893692163\n",
      "Epoch [38/50], Training Loss: 2.6320422645568846\n",
      "Epoch [38/50], Test Loss: 2.6264773100709764\n",
      "Epoch [39/50], Training Loss: 2.6166137568473817\n",
      "Epoch [39/50], Test Loss: 2.606287948620586\n",
      "Epoch [40/50], Training Loss: 2.6211156016349793\n",
      "Epoch [40/50], Test Loss: 2.6369084314035534\n",
      "Epoch [41/50], Training Loss: 2.617452024078369\n",
      "Epoch [41/50], Test Loss: 2.680178138394706\n",
      "Epoch [42/50], Training Loss: 2.6095040568351746\n",
      "Epoch [42/50], Test Loss: 2.632292580299865\n",
      "Epoch [43/50], Training Loss: 2.6190017815589903\n",
      "Epoch [43/50], Test Loss: 2.638022039264155\n",
      "Epoch [44/50], Training Loss: 2.623722578239441\n",
      "Epoch [44/50], Test Loss: 2.6444531682962045\n",
      "Epoch [45/50], Training Loss: 2.627901281642914\n",
      "Epoch [45/50], Test Loss: 2.625577229661302\n",
      "Epoch [46/50], Training Loss: 2.6379520137786865\n",
      "Epoch [46/50], Test Loss: 2.6866254665600224\n",
      "Epoch [47/50], Training Loss: 2.629088488197327\n",
      "Epoch [47/50], Test Loss: 2.6081708852475445\n",
      "Epoch [48/50], Training Loss: 2.624051933670044\n",
      "Epoch [48/50], Test Loss: 2.6434434145784227\n",
      "Epoch [49/50], Training Loss: 2.639135203552246\n",
      "Epoch [49/50], Test Loss: 2.6395554950062077\n",
      "Epoch [50/50], Training Loss: 2.6246054091453552\n",
      "Epoch [50/50], Test Loss: 2.7304197972574933\n"
     ]
    }
   ],
   "source": [
    "model_weights_file_path = 'montecarlodropout_'+ env_name + '_' + num_samples +'.pth' \n",
    "\n",
    "'''\n",
    "if os.path.exists(model_weights_file_path):\n",
    "    model.load_state_dict(torch.load('model_weights.pth'))\n",
    "'''\n",
    "\n",
    "# Training loop with evaluation\n",
    "num_epochs = 50\n",
    "train_losses = []\n",
    "test_losses = []\n",
    "save_interval = 100\n",
    "for epoch in range(num_epochs):\n",
    "    model.train()\n",
    "    running_loss = 0.0\n",
    "    for inputs, labels in train_loader:\n",
    "        inputs, labels = inputs.to(device), labels.to(device)\n",
    "        optimizer.zero_grad()\n",
    "        outputs = model(inputs)\n",
    "        loss = criterion(outputs, labels)\n",
    "        loss.backward()\n",
    "        optimizer.step()\n",
    "        running_loss += loss.item()\n",
    "    epoch_train_loss = running_loss / len(train_loader)\n",
    "    print(f\"Epoch [{epoch + 1}/{num_epochs}], Training Loss: {epoch_train_loss}\")\n",
    "    train_losses.append(epoch_train_loss)\n",
    "    \n",
    "    # Evaluation on test data\n",
    "    #model.eval()\n",
    "    running_test_loss = 0.0\n",
    "    with torch.no_grad():\n",
    "        for inputs, labels in test_loader:\n",
    "            inputs, labels = inputs.to(device), labels.to(device)\n",
    "            outputs = model(inputs)\n",
    "            test_loss = criterion(outputs, labels)\n",
    "            running_test_loss += test_loss.item()\n",
    "    epoch_test_loss = running_test_loss / len(test_loader)\n",
    "    print(f\"Epoch [{epoch + 1}/{num_epochs}], Test Loss: {epoch_test_loss}\")\n",
    "    \n",
    "    if (epoch + 1) % save_interval == 0:\n",
    "        # Save model state\n",
    "        torch.save(model.state_dict(), f'montecarlodropout_{env_name}_{num_samples}_epoch_{epoch+1}.pt')\n",
    "        \n",
    "    test_losses.append(epoch_test_loss)"
   ]
  },
  {
   "cell_type": "code",
   "execution_count": 41,
   "id": "35626402",
   "metadata": {},
   "outputs": [
    {
     "data": {
      "image/png": "[encoded data removed]",
      "text/plain": [
       "<Figure size 640x480 with 1 Axes>"
      ]
     },
     "metadata": {},
     "output_type": "display_data"
    }
   ],
   "source": [
    "# Plotting the evaluation loss curve\n",
    "plt.plot(range(1, num_epochs + 1), test_losses, label='Test Loss')\n",
    "plt.plot(range(1, num_epochs + 1), train_losses, label='Training Loss')\n",
    "plt.xlabel('Epochs')\n",
    "plt.ylabel('Loss')\n",
    "plt.title('Evaluation Loss Curve')\n",
    "plt.legend()\n",
    "plt.grid(True)\n",
    "# Save the plot\n",
    "plt.savefig('montecarlodropout_'+ env_name + '_' + num_samples + '_evaluation_loss_curve.png')\n",
    "plt.show()"
   ]
  },
  {
   "cell_type": "code",
   "execution_count": 42,
   "id": "227022a3",
   "metadata": {
    "scrolled": true
   },
   "outputs": [
    {
     "name": "stdout",
     "output_type": "stream",
     "text": [
      "Mean Squared Error (MSE): 2.7207534313201904\n",
      "R-squared: 0.2410692337671359\n"
     ]
    }
   ],
   "source": [
    "# Switch model to evaluation mode\n",
    "#model.eval()\n",
    "\n",
    "# Lists to store predictions and true labels\n",
    "predictions = []\n",
    "true_labels = []\n",
    "\n",
    "# Iterate over test data\n",
    "with torch.no_grad():\n",
    "    for inputs, labels in test_loader:\n",
    "        inputs, labels = inputs.to(device), labels.to(device)\n",
    "        outputs = model(inputs)\n",
    "        predictions.extend(outputs.cpu().numpy())\n",
    "        true_labels.extend(labels.cpu().numpy())\n",
    "\n",
    "# Convert lists to numpy arrays\n",
    "predictions = np.array(predictions)\n",
    "true_labels = np.array(true_labels)\n",
    "\n",
    "# Calculate Mean Squared Error (MSE) and R-squared\n",
    "mse = mean_squared_error(true_labels, predictions)\n",
    "r2 = r2_score(true_labels, predictions)\n",
    "\n",
    "print(f\"Mean Squared Error (MSE): {mse}\")\n",
    "print(f\"R-squared: {r2}\")"
   ]
  },
  {
   "cell_type": "code",
   "execution_count": 43,
   "id": "ec9a77fa",
   "metadata": {},
   "outputs": [],
   "source": [
    "model_weights_file_path = 'montecarlodropout_'+ env_name + '_' + num_samples +'.pth' \n",
    "# Save the trained model\n",
    "torch.save(model.state_dict(), model_weights_file_path)"
   ]
  },
  {
   "cell_type": "code",
   "execution_count": 44,
   "id": "e8470cea",
   "metadata": {},
   "outputs": [
    {
     "data": {
      "text/plain": [
       "<All keys matched successfully>"
      ]
     },
     "execution_count": 44,
     "metadata": {},
     "output_type": "execute_result"
    }
   ],
   "source": [
    "model = MC_Dropout_Net(input_size, output_size, num_hidden_layers, hidden_layer_nodes, activation, dropout_prob, num_networks).to(device)\n",
    "\n",
    "model.load_state_dict(torch.load(model_weights_file_path))"
   ]
  },
  {
   "cell_type": "markdown",
   "id": "8301e408",
   "metadata": {},
   "source": [
    "# Genearate MDP"
   ]
  },
  {
   "cell_type": "code",
   "execution_count": 29,
   "id": "831f5210",
   "metadata": {},
   "outputs": [
    {
     "name": "stdout",
     "output_type": "stream",
     "text": [
      "Requirement already satisfied: tensorflow in /home/jeeva/anaconda3/lib/python3.11/site-packages (2.15.0.post1)\n",
      "Requirement already satisfied: absl-py>=1.0.0 in /home/jeeva/anaconda3/lib/python3.11/site-packages (from tensorflow) (2.0.0)\n",
      "Requirement already satisfied: astunparse>=1.6.0 in /home/jeeva/anaconda3/lib/python3.11/site-packages (from tensorflow) (1.6.3)\n",
      "Requirement already satisfied: flatbuffers>=23.5.26 in /home/jeeva/anaconda3/lib/python3.11/site-packages (from tensorflow) (23.5.26)\n",
      "Requirement already satisfied: gast!=0.5.0,!=0.5.1,!=0.5.2,>=0.2.1 in /home/jeeva/anaconda3/lib/python3.11/site-packages (from tensorflow) (0.5.4)\n",
      "Requirement already satisfied: google-pasta>=0.1.1 in /home/jeeva/anaconda3/lib/python3.11/site-packages (from tensorflow) (0.2.0)\n",
      "Requirement already satisfied: h5py>=2.9.0 in /home/jeeva/anaconda3/lib/python3.11/site-packages (from tensorflow) (3.9.0)\n",
      "Requirement already satisfied: libclang>=13.0.0 in /home/jeeva/anaconda3/lib/python3.11/site-packages (from tensorflow) (16.0.6)\n",
      "Requirement already satisfied: ml-dtypes~=0.2.0 in /home/jeeva/anaconda3/lib/python3.11/site-packages (from tensorflow) (0.2.0)\n",
      "Requirement already satisfied: numpy<2.0.0,>=1.23.5 in /home/jeeva/anaconda3/lib/python3.11/site-packages (from tensorflow) (1.24.3)\n",
      "Requirement already satisfied: opt-einsum>=2.3.2 in /home/jeeva/anaconda3/lib/python3.11/site-packages (from tensorflow) (3.3.0)\n",
      "Requirement already satisfied: packaging in /home/jeeva/anaconda3/lib/python3.11/site-packages (from tensorflow) (23.2)\n",
      "Requirement already satisfied: protobuf!=4.21.0,!=4.21.1,!=4.21.2,!=4.21.3,!=4.21.4,!=4.21.5,<5.0.0dev,>=3.20.3 in /home/jeeva/anaconda3/lib/python3.11/site-packages (from tensorflow) (4.23.4)\n",
      "Requirement already satisfied: setuptools in /home/jeeva/anaconda3/lib/python3.11/site-packages (from tensorflow) (69.0.3)\n",
      "Requirement already satisfied: six>=1.12.0 in /home/jeeva/anaconda3/lib/python3.11/site-packages (from tensorflow) (1.16.0)\n",
      "Requirement already satisfied: termcolor>=1.1.0 in /home/jeeva/anaconda3/lib/python3.11/site-packages (from tensorflow) (2.4.0)\n",
      "Requirement already satisfied: typing-extensions>=3.6.6 in /home/jeeva/anaconda3/lib/python3.11/site-packages (from tensorflow) (4.10.0)\n",
      "Requirement already satisfied: wrapt<1.15,>=1.11.0 in /home/jeeva/anaconda3/lib/python3.11/site-packages (from tensorflow) (1.14.1)\n",
      "Requirement already satisfied: tensorflow-io-gcs-filesystem>=0.23.1 in /home/jeeva/anaconda3/lib/python3.11/site-packages (from tensorflow) (0.34.0)\n",
      "Requirement already satisfied: grpcio<2.0,>=1.24.3 in /home/jeeva/anaconda3/lib/python3.11/site-packages (from tensorflow) (1.60.0)\n",
      "Requirement already satisfied: tensorboard<2.16,>=2.15 in /home/jeeva/anaconda3/lib/python3.11/site-packages (from tensorflow) (2.15.1)\n",
      "Requirement already satisfied: tensorflow-estimator<2.16,>=2.15.0 in /home/jeeva/anaconda3/lib/python3.11/site-packages (from tensorflow) (2.15.0)\n",
      "Requirement already satisfied: keras<2.16,>=2.15.0 in /home/jeeva/anaconda3/lib/python3.11/site-packages (from tensorflow) (2.15.0)\n",
      "Requirement already satisfied: wheel<1.0,>=0.23.0 in /home/jeeva/anaconda3/lib/python3.11/site-packages (from astunparse>=1.6.0->tensorflow) (0.38.4)\n",
      "Requirement already satisfied: google-auth<3,>=1.6.3 in /home/jeeva/anaconda3/lib/python3.11/site-packages (from tensorboard<2.16,>=2.15->tensorflow) (2.25.2)\n",
      "Requirement already satisfied: google-auth-oauthlib<2,>=0.5 in /home/jeeva/anaconda3/lib/python3.11/site-packages (from tensorboard<2.16,>=2.15->tensorflow) (1.2.0)\n",
      "Requirement already satisfied: markdown>=2.6.8 in /home/jeeva/anaconda3/lib/python3.11/site-packages (from tensorboard<2.16,>=2.15->tensorflow) (3.4.1)\n",
      "Requirement already satisfied: requests<3,>=2.21.0 in /home/jeeva/anaconda3/lib/python3.11/site-packages (from tensorboard<2.16,>=2.15->tensorflow) (2.31.0)\n",
      "Requirement already satisfied: tensorboard-data-server<0.8.0,>=0.7.0 in /home/jeeva/anaconda3/lib/python3.11/site-packages (from tensorboard<2.16,>=2.15->tensorflow) (0.7.2)\n",
      "Requirement already satisfied: werkzeug>=1.0.1 in /home/jeeva/anaconda3/lib/python3.11/site-packages (from tensorboard<2.16,>=2.15->tensorflow) (2.2.3)\n",
      "Requirement already satisfied: cachetools<6.0,>=2.0.0 in /home/jeeva/anaconda3/lib/python3.11/site-packages (from google-auth<3,>=1.6.3->tensorboard<2.16,>=2.15->tensorflow) (5.3.2)\n",
      "Requirement already satisfied: pyasn1-modules>=0.2.1 in /home/jeeva/anaconda3/lib/python3.11/site-packages (from google-auth<3,>=1.6.3->tensorboard<2.16,>=2.15->tensorflow) (0.2.8)\n",
      "Requirement already satisfied: rsa<5,>=3.1.4 in /home/jeeva/anaconda3/lib/python3.11/site-packages (from google-auth<3,>=1.6.3->tensorboard<2.16,>=2.15->tensorflow) (4.9)\n",
      "Requirement already satisfied: requests-oauthlib>=0.7.0 in /home/jeeva/anaconda3/lib/python3.11/site-packages (from google-auth-oauthlib<2,>=0.5->tensorboard<2.16,>=2.15->tensorflow) (1.3.1)\n",
      "Requirement already satisfied: charset-normalizer<4,>=2 in /home/jeeva/anaconda3/lib/python3.11/site-packages (from requests<3,>=2.21.0->tensorboard<2.16,>=2.15->tensorflow) (2.0.4)\n",
      "Requirement already satisfied: idna<4,>=2.5 in /home/jeeva/anaconda3/lib/python3.11/site-packages (from requests<3,>=2.21.0->tensorboard<2.16,>=2.15->tensorflow) (3.4)\n",
      "Requirement already satisfied: urllib3<3,>=1.21.1 in /home/jeeva/anaconda3/lib/python3.11/site-packages (from requests<3,>=2.21.0->tensorboard<2.16,>=2.15->tensorflow) (1.26.16)\n",
      "Requirement already satisfied: certifi>=2017.4.17 in /home/jeeva/anaconda3/lib/python3.11/site-packages (from requests<3,>=2.21.0->tensorboard<2.16,>=2.15->tensorflow) (2023.7.22)\n",
      "Requirement already satisfied: MarkupSafe>=2.1.1 in /home/jeeva/anaconda3/lib/python3.11/site-packages (from werkzeug>=1.0.1->tensorboard<2.16,>=2.15->tensorflow) (2.1.1)\n",
      "Requirement already satisfied: pyasn1<0.5.0,>=0.4.6 in /home/jeeva/anaconda3/lib/python3.11/site-packages (from pyasn1-modules>=0.2.1->google-auth<3,>=1.6.3->tensorboard<2.16,>=2.15->tensorflow) (0.4.8)\n",
      "Requirement already satisfied: oauthlib>=3.0.0 in /home/jeeva/anaconda3/lib/python3.11/site-packages (from requests-oauthlib>=0.7.0->google-auth-oauthlib<2,>=0.5->tensorboard<2.16,>=2.15->tensorflow) (3.2.2)\n",
      "\u001b[33mDEPRECATION: omegaconf 2.0.6 has a non-standard dependency specifier PyYAML>=5.1.*. pip 24.0 will enforce this behaviour change. A possible replacement is to upgrade to a newer version of omegaconf or contact the author to suggest that they release a version with a conforming dependency specifiers. Discussion can be found at https://github.com/pypa/pip/issues/12063\u001b[0m\u001b[33m\n",
      "\u001b[0m\n",
      "\u001b[1m[\u001b[0m\u001b[34;49mnotice\u001b[0m\u001b[1;39;49m]\u001b[0m\u001b[39;49m A new release of pip is available: \u001b[0m\u001b[31;49m23.3.2\u001b[0m\u001b[39;49m -> \u001b[0m\u001b[32;49m24.0\u001b[0m\n",
      "\u001b[1m[\u001b[0m\u001b[34;49mnotice\u001b[0m\u001b[1;39;49m]\u001b[0m\u001b[39;49m To update, run: \u001b[0m\u001b[32;49mpip install --upgrade pip\u001b[0m\n",
      "Requirement already satisfied: pandas in /home/jeeva/anaconda3/lib/python3.11/site-packages (2.0.3)\n",
      "Requirement already satisfied: python-dateutil>=2.8.2 in /home/jeeva/anaconda3/lib/python3.11/site-packages (from pandas) (2.8.2)\n",
      "Requirement already satisfied: pytz>=2020.1 in /home/jeeva/anaconda3/lib/python3.11/site-packages (from pandas) (2023.3.post1)\n",
      "Requirement already satisfied: tzdata>=2022.1 in /home/jeeva/anaconda3/lib/python3.11/site-packages (from pandas) (2023.3)\n",
      "Requirement already satisfied: numpy>=1.21.0 in /home/jeeva/anaconda3/lib/python3.11/site-packages (from pandas) (1.24.3)\n",
      "Requirement already satisfied: six>=1.5 in /home/jeeva/anaconda3/lib/python3.11/site-packages (from python-dateutil>=2.8.2->pandas) (1.16.0)\n",
      "\u001b[33mDEPRECATION: omegaconf 2.0.6 has a non-standard dependency specifier PyYAML>=5.1.*. pip 24.0 will enforce this behaviour change. A possible replacement is to upgrade to a newer version of omegaconf or contact the author to suggest that they release a version with a conforming dependency specifiers. Discussion can be found at https://github.com/pypa/pip/issues/12063\u001b[0m\u001b[33m\n",
      "\u001b[0m\n",
      "\u001b[1m[\u001b[0m\u001b[34;49mnotice\u001b[0m\u001b[1;39;49m]\u001b[0m\u001b[39;49m A new release of pip is available: \u001b[0m\u001b[31;49m23.3.2\u001b[0m\u001b[39;49m -> \u001b[0m\u001b[32;49m24.0\u001b[0m\n",
      "\u001b[1m[\u001b[0m\u001b[34;49mnotice\u001b[0m\u001b[1;39;49m]\u001b[0m\u001b[39;49m To update, run: \u001b[0m\u001b[32;49mpip install --upgrade pip\u001b[0m\n"
     ]
    }
   ],
   "source": [
    "import gym\n",
    "import numpy as np\n",
    "import matplotlib.pyplot as plt\n",
    "import random\n",
    "!pip install tensorflow\n",
    "!pip install pandas\n",
    "import pandas as pd\n",
    "from tensorflow.keras.models import Sequential\n",
    "from tensorflow.keras.layers import Dense\n",
    "from tensorflow.keras.optimizers import Adam\n",
    "from collections import deque\n",
    "import os\n",
    "import math\n",
    "import pandas as pd\n",
    "import networkx as nx\n",
    "import matplotlib.pyplot as plt"
   ]
  },
  {
   "cell_type": "code",
   "execution_count": 30,
   "id": "ece71d5d",
   "metadata": {},
   "outputs": [
    {
     "ename": "RuntimeError",
     "evalue": "Error(s) in loading state_dict for MC_Dropout_Net:\n\tsize mismatch for input_layer.weight: copying a param with shape torch.Size([20, 5]) from checkpoint, the shape in current model is torch.Size([20, 4]).\n\tsize mismatch for output_layer.weight: copying a param with shape torch.Size([6, 20]) from checkpoint, the shape in current model is torch.Size([5, 20]).\n\tsize mismatch for output_layer.bias: copying a param with shape torch.Size([6]) from checkpoint, the shape in current model is torch.Size([5]).",
     "output_type": "error",
     "traceback": [
      "\u001b[0;31m---------------------------------------------------------------------------\u001b[0m",
      "\u001b[0;31mRuntimeError\u001b[0m                              Traceback (most recent call last)",
      "Cell \u001b[0;32mIn[30], line 9\u001b[0m\n\u001b[1;32m      5\u001b[0m model_weights_file_path \u001b[38;5;241m=\u001b[39m \u001b[38;5;124m'\u001b[39m\u001b[38;5;124mmontecarlodropout_\u001b[39m\u001b[38;5;124m'\u001b[39m\u001b[38;5;241m+\u001b[39m env_name \u001b[38;5;241m+\u001b[39m \u001b[38;5;124m'\u001b[39m\u001b[38;5;124m_\u001b[39m\u001b[38;5;124m'\u001b[39m \u001b[38;5;241m+\u001b[39m num_samples \u001b[38;5;241m+\u001b[39m\u001b[38;5;124m'\u001b[39m\u001b[38;5;124m.pth\u001b[39m\u001b[38;5;124m'\u001b[39m \n\u001b[1;32m      7\u001b[0m model \u001b[38;5;241m=\u001b[39m MC_Dropout_Net(input_size, output_size, num_hidden_layers, hidden_layer_nodes, activation, dropout_prob, num_networks)\u001b[38;5;241m.\u001b[39mto(device)\n\u001b[0;32m----> 9\u001b[0m model\u001b[38;5;241m.\u001b[39mload_state_dict(torch\u001b[38;5;241m.\u001b[39mload(model_weights_file_path))\n",
      "File \u001b[0;32m~/anaconda3/lib/python3.11/site-packages/torch/nn/modules/module.py:2153\u001b[0m, in \u001b[0;36mModule.load_state_dict\u001b[0;34m(self, state_dict, strict, assign)\u001b[0m\n\u001b[1;32m   2148\u001b[0m         error_msgs\u001b[38;5;241m.\u001b[39minsert(\n\u001b[1;32m   2149\u001b[0m             \u001b[38;5;241m0\u001b[39m, \u001b[38;5;124m'\u001b[39m\u001b[38;5;124mMissing key(s) in state_dict: \u001b[39m\u001b[38;5;132;01m{}\u001b[39;00m\u001b[38;5;124m. \u001b[39m\u001b[38;5;124m'\u001b[39m\u001b[38;5;241m.\u001b[39mformat(\n\u001b[1;32m   2150\u001b[0m                 \u001b[38;5;124m'\u001b[39m\u001b[38;5;124m, \u001b[39m\u001b[38;5;124m'\u001b[39m\u001b[38;5;241m.\u001b[39mjoin(\u001b[38;5;124mf\u001b[39m\u001b[38;5;124m'\u001b[39m\u001b[38;5;124m\"\u001b[39m\u001b[38;5;132;01m{\u001b[39;00mk\u001b[38;5;132;01m}\u001b[39;00m\u001b[38;5;124m\"\u001b[39m\u001b[38;5;124m'\u001b[39m \u001b[38;5;28;01mfor\u001b[39;00m k \u001b[38;5;129;01min\u001b[39;00m missing_keys)))\n\u001b[1;32m   2152\u001b[0m \u001b[38;5;28;01mif\u001b[39;00m \u001b[38;5;28mlen\u001b[39m(error_msgs) \u001b[38;5;241m>\u001b[39m \u001b[38;5;241m0\u001b[39m:\n\u001b[0;32m-> 2153\u001b[0m     \u001b[38;5;28;01mraise\u001b[39;00m \u001b[38;5;167;01mRuntimeError\u001b[39;00m(\u001b[38;5;124m'\u001b[39m\u001b[38;5;124mError(s) in loading state_dict for \u001b[39m\u001b[38;5;132;01m{}\u001b[39;00m\u001b[38;5;124m:\u001b[39m\u001b[38;5;130;01m\\n\u001b[39;00m\u001b[38;5;130;01m\\t\u001b[39;00m\u001b[38;5;132;01m{}\u001b[39;00m\u001b[38;5;124m'\u001b[39m\u001b[38;5;241m.\u001b[39mformat(\n\u001b[1;32m   2154\u001b[0m                        \u001b[38;5;28mself\u001b[39m\u001b[38;5;241m.\u001b[39m\u001b[38;5;18m__class__\u001b[39m\u001b[38;5;241m.\u001b[39m\u001b[38;5;18m__name__\u001b[39m, \u001b[38;5;124m\"\u001b[39m\u001b[38;5;130;01m\\n\u001b[39;00m\u001b[38;5;130;01m\\t\u001b[39;00m\u001b[38;5;124m\"\u001b[39m\u001b[38;5;241m.\u001b[39mjoin(error_msgs)))\n\u001b[1;32m   2155\u001b[0m \u001b[38;5;28;01mreturn\u001b[39;00m _IncompatibleKeys(missing_keys, unexpected_keys)\n",
      "\u001b[0;31mRuntimeError\u001b[0m: Error(s) in loading state_dict for MC_Dropout_Net:\n\tsize mismatch for input_layer.weight: copying a param with shape torch.Size([20, 5]) from checkpoint, the shape in current model is torch.Size([20, 4]).\n\tsize mismatch for output_layer.weight: copying a param with shape torch.Size([6, 20]) from checkpoint, the shape in current model is torch.Size([5, 20]).\n\tsize mismatch for output_layer.bias: copying a param with shape torch.Size([6]) from checkpoint, the shape in current model is torch.Size([5])."
     ]
    }
   ],
   "source": [
    "env_name = 'CartPole-v1'\n",
    "\n",
    "num_samples = '10k'\n",
    "\n",
    "model_weights_file_path = 'montecarlodropout_'+ env_name + '_' + num_samples +'.pth' \n",
    "\n",
    "model = MC_Dropout_Net(input_size, output_size, num_hidden_layers, hidden_layer_nodes, activation, dropout_prob, num_networks).to(device)\n",
    "\n",
    "model.load_state_dict(torch.load(model_weights_file_path))"
   ]
  },
  {
   "cell_type": "code",
   "execution_count": null,
   "id": "3229dc3a",
   "metadata": {},
   "outputs": [],
   "source": [
    "class Sample:\n",
    "    def __init__(self, model, env):\n",
    "        self.model = model\n",
    "        # Create the CartPole environment\n",
    "        self.env = env\n",
    "        self.df_discrete = None\n",
    "        self.df_MDP = None\n",
    "        \n",
    "    def generateSample(self, filename, episodes=1000, max_episode_length=2000, noise = 0):\n",
    "        device = torch.device(\"cuda\" if torch.cuda.is_available() else \"cpu\")\n",
    "        self.model.to(device)\n",
    "        state_size = self.env.observation_space.shape[0]\n",
    "        #state_size = 4\n",
    "        samples = []\n",
    "        for episode in range(episodes):\n",
    "            state = self.env.reset()[0]\n",
    "            episode_length = 0\n",
    "\n",
    "            while episode_length <= max_episode_length:\n",
    "                action = self.env.action_space.sample()\n",
    "                input_model = list(state) + [action]\n",
    "                input_model = torch.tensor(input_model, device=device, dtype=torch.float32)\n",
    "                #print(f\"Model is on device: \" + str(next(model.parameters()).device))\n",
    "                #print(f\"input_model is on device: {input_model.device}\")\n",
    "                next_state = self.model(input_model)\n",
    "                state = list(state)\n",
    "                action = [str(action)]\n",
    "                next_state = next_state.tolist()\n",
    "                next_state, reward, done = next_state[:-2], next_state[-2], next_state[-1]\n",
    "                reward = [reward]\n",
    "                #next_state = [noise*random.uniform(-1, 1)+next_state[i] for i in range(state_size)]\n",
    "                #next_state = self.add_noise(next_state)\n",
    "\n",
    "                sample = state + action + reward + next_state\n",
    "                samples.append(sample)\n",
    "                state = next_state\n",
    "                \n",
    "                episode_length += 1\n",
    "                if done:\n",
    "                    break\n",
    "                    \n",
    "        df = pd.DataFrame(samples)\n",
    "        df.columns = [f'variable_{i}' for i in range(state_size)] + ['action','reward'] + [f'nx_variable_{i}' for i in range(state_size)]\n",
    "        self.df_data = df\n",
    "        df.to_csv(filename, index=False)  "
   ]
  },
  {
   "cell_type": "code",
   "execution_count": null,
   "id": "068741fb",
   "metadata": {},
   "outputs": [],
   "source": [
    "# Create the CartPole environment\n",
    "env = gym.make(env_name)\n",
    "sample = Sample(model,env)\n",
    "sample_filename = 'monte_carlo_dropout_'+ env_name + '_' + num_samples + '_sample.csv'\n",
    "sample.generateSample(max_episode_length = 100, noise = 0, filename = sample_filename)"
   ]
  },
  {
   "cell_type": "code",
   "execution_count": null,
   "id": "c03651c4",
   "metadata": {},
   "outputs": [],
   "source": []
  }
 ],
 "metadata": {
  "kernelspec": {
   "display_name": "Python 3 (ipykernel)",
   "language": "python",
   "name": "python3"
  },
  "language_info": {
   "codemirror_mode": {
    "name": "ipython",
    "version": 3
   },
   "file_extension": ".py",
   "mimetype": "text/x-python",
   "name": "python",
   "nbconvert_exporter": "python",
   "pygments_lexer": "ipython3",
   "version": "3.11.5"
  }
 },
 "nbformat": 4,
 "nbformat_minor": 5
}
