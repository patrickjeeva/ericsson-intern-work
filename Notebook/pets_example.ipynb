{
 "cells": [
  {
   "cell_type": "markdown",
   "metadata": {},
   "source": [
    "#### Note: This example is compatible with versions v0.2.1dev or higher (i.e., up to date with GitHub). For instructions on how to run with latest pip stable versions (<=v0.1.5), see [this](https://github.com/facebookresearch/mbrl-lib/blob/main/notebooks/pets_example_v0.1.5.ipynb) notebook."
   ]
  },
  {
   "cell_type": "markdown",
   "metadata": {},
   "source": [
    "# Preview\n",
    "\n",
    "In this example, we are going to use our toolbox to write the [PETS](https://arxiv.org/pdf/1805.12114.pdf) algorithm (Chua at al., 2018), and use it to solve a continuous version of the cartpole environment. PETS is a model-based algorithm that consists of two main components: an ensemble of probabilistic models (each a feed-forward neural network), and a planner using the [Cross-Entropy Method](https://people.smp.uq.edu.au/DirkKroese/ps/aortut.pdf) (de Boer et al., 2004). \n",
    "\n",
    "A basic implementation of this algorithm consists of the following sequence of steps:\n",
    "\n",
    "1. Gather data using an exploration policy\n",
    "2. Repeat:<br>\n",
    "  2.1. Train the dynamics model using all available data.<br>\n",
    "  2.2. Do a trajectory on the environment, choosing actions with the planner, using the dynamics model to simulate environment transitions.\n",
    "  \n",
    "The ensemble model is trained to predict the environment's dynamics, and the planner tries to find high-reward trajectories over the model dynamics. \n",
    "\n",
    "To implement this using `MBRL-Lib`, we will use an ensemble of neural networks (NNs) modelling Gaussian distributions (available in the [mbrl.models](https://luisenp.github.io/mbrl-lib/models.html#mbrl.models.GaussianMLP) module), and a trajectory optimizer agent that uses CEM (available in the [mbrl.planning](https://luisenp.github.io/mbrl-lib/planning.html#mbrl.planning.TrajectoryOptimizerAgent) module). We will also rely on several of the utilities available in the [mbrl.util](https://luisenp.github.io/mbrl-lib/util.html) module. Finally, we will wrap the dynamics model into a [gym-like environment](https://luisenp.github.io/mbrl-lib/models.html#mbrl.models.ModelEnv) over which we can plan action sequences."
   ]
  },
  {
   "cell_type": "code",
   "execution_count": 1,
   "metadata": {},
   "outputs": [
    {
     "name": "stdout",
     "output_type": "stream",
     "text": [
      "Requirement already satisfied: torch in /home/jeeva/anaconda3/lib/python3.11/site-packages (2.1.2)\n",
      "Requirement already satisfied: filelock in /home/jeeva/anaconda3/lib/python3.11/site-packages (from torch) (3.9.0)\n",
      "Requirement already satisfied: typing-extensions in /home/jeeva/anaconda3/lib/python3.11/site-packages (from torch) (4.7.1)\n",
      "Requirement already satisfied: sympy in /home/jeeva/anaconda3/lib/python3.11/site-packages (from torch) (1.11.1)\n",
      "Requirement already satisfied: networkx in /home/jeeva/anaconda3/lib/python3.11/site-packages (from torch) (3.1)\n",
      "Requirement already satisfied: jinja2 in /home/jeeva/anaconda3/lib/python3.11/site-packages (from torch) (3.1.2)\n",
      "Requirement already satisfied: fsspec in /home/jeeva/anaconda3/lib/python3.11/site-packages (from torch) (2023.4.0)\n",
      "Requirement already satisfied: nvidia-cuda-nvrtc-cu12==12.1.105 in /home/jeeva/anaconda3/lib/python3.11/site-packages (from torch) (12.1.105)\n",
      "Requirement already satisfied: nvidia-cuda-runtime-cu12==12.1.105 in /home/jeeva/anaconda3/lib/python3.11/site-packages (from torch) (12.1.105)\n",
      "Requirement already satisfied: nvidia-cuda-cupti-cu12==12.1.105 in /home/jeeva/anaconda3/lib/python3.11/site-packages (from torch) (12.1.105)\n",
      "Requirement already satisfied: nvidia-cudnn-cu12==8.9.2.26 in /home/jeeva/anaconda3/lib/python3.11/site-packages (from torch) (8.9.2.26)\n",
      "Requirement already satisfied: nvidia-cublas-cu12==12.1.3.1 in /home/jeeva/anaconda3/lib/python3.11/site-packages (from torch) (12.1.3.1)\n",
      "Requirement already satisfied: nvidia-cufft-cu12==11.0.2.54 in /home/jeeva/anaconda3/lib/python3.11/site-packages (from torch) (11.0.2.54)\n",
      "Requirement already satisfied: nvidia-curand-cu12==10.3.2.106 in /home/jeeva/anaconda3/lib/python3.11/site-packages (from torch) (10.3.2.106)\n",
      "Requirement already satisfied: nvidia-cusolver-cu12==11.4.5.107 in /home/jeeva/anaconda3/lib/python3.11/site-packages (from torch) (11.4.5.107)\n",
      "Requirement already satisfied: nvidia-cusparse-cu12==12.1.0.106 in /home/jeeva/anaconda3/lib/python3.11/site-packages (from torch) (12.1.0.106)\n",
      "Requirement already satisfied: nvidia-nccl-cu12==2.18.1 in /home/jeeva/anaconda3/lib/python3.11/site-packages (from torch) (2.18.1)\n",
      "Requirement already satisfied: nvidia-nvtx-cu12==12.1.105 in /home/jeeva/anaconda3/lib/python3.11/site-packages (from torch) (12.1.105)\n",
      "Requirement already satisfied: triton==2.1.0 in /home/jeeva/anaconda3/lib/python3.11/site-packages (from torch) (2.1.0)\n",
      "Requirement already satisfied: nvidia-nvjitlink-cu12 in /home/jeeva/anaconda3/lib/python3.11/site-packages (from nvidia-cusolver-cu12==11.4.5.107->torch) (12.3.101)\n",
      "Requirement already satisfied: MarkupSafe>=2.0 in /home/jeeva/anaconda3/lib/python3.11/site-packages (from jinja2->torch) (2.1.1)\n",
      "Requirement already satisfied: mpmath>=0.19 in /home/jeeva/anaconda3/lib/python3.11/site-packages (from sympy->torch) (1.3.0)\n",
      "\u001b[33mDEPRECATION: omegaconf 2.0.6 has a non-standard dependency specifier PyYAML>=5.1.*. pip 24.0 will enforce this behaviour change. A possible replacement is to upgrade to a newer version of omegaconf or contact the author to suggest that they release a version with a conforming dependency specifiers. Discussion can be found at https://github.com/pypa/pip/issues/12063\u001b[0m\u001b[33m\n",
      "\u001b[0mRequirement already satisfied: omegaconf in /home/jeeva/anaconda3/lib/python3.11/site-packages (2.0.6)\n",
      "Requirement already satisfied: PyYAML>=5.1.* in /home/jeeva/anaconda3/lib/python3.11/site-packages (from omegaconf) (6.0)\n",
      "Requirement already satisfied: typing-extensions in /home/jeeva/anaconda3/lib/python3.11/site-packages (from omegaconf) (4.7.1)\n",
      "\u001b[33mDEPRECATION: omegaconf 2.0.6 has a non-standard dependency specifier PyYAML>=5.1.*. pip 24.0 will enforce this behaviour change. A possible replacement is to upgrade to a newer version of omegaconf or contact the author to suggest that they release a version with a conforming dependency specifiers. Discussion can be found at https://github.com/pypa/pip/issues/12063\u001b[0m\u001b[33m\n",
      "\u001b[0mRequirement already satisfied: mbrl in /home/jeeva/anaconda3/lib/python3.11/site-packages (0.2.0)\n",
      "Requirement already satisfied: omegaconf<2.1,>=2.0 in /home/jeeva/anaconda3/lib/python3.11/site-packages (from mbrl) (2.0.6)\n",
      "Requirement already satisfied: hydra-core==1.0.3 in /home/jeeva/anaconda3/lib/python3.11/site-packages (from mbrl) (1.0.3)\n",
      "Requirement already satisfied: termcolor>=1.1.0 in /home/jeeva/anaconda3/lib/python3.11/site-packages (from mbrl) (2.4.0)\n",
      "Requirement already satisfied: tensorboard>=2.4.0 in /home/jeeva/anaconda3/lib/python3.11/site-packages (from mbrl) (2.15.1)\n",
      "Requirement already satisfied: imageio>=2.9.0 in /home/jeeva/anaconda3/lib/python3.11/site-packages (from mbrl) (2.31.1)\n",
      "Requirement already satisfied: numpy>=1.19.1 in /home/jeeva/anaconda3/lib/python3.11/site-packages (from mbrl) (1.24.3)\n",
      "Requirement already satisfied: matplotlib>=3.3.1 in /home/jeeva/anaconda3/lib/python3.11/site-packages (from mbrl) (3.7.2)\n",
      "Requirement already satisfied: gymnasium==0.26.3 in /home/jeeva/anaconda3/lib/python3.11/site-packages (from mbrl) (0.26.3)\n",
      "Requirement already satisfied: jupyter>=1.0.0 in /home/jeeva/anaconda3/lib/python3.11/site-packages (from mbrl) (1.0.0)\n",
      "Requirement already satisfied: pytest>=6.0.1 in /home/jeeva/anaconda3/lib/python3.11/site-packages (from mbrl) (7.4.0)\n",
      "Requirement already satisfied: sk-video>=1.1.10 in /home/jeeva/anaconda3/lib/python3.11/site-packages (from mbrl) (1.1.10)\n",
      "Requirement already satisfied: tqdm>=4.48.2 in /home/jeeva/anaconda3/lib/python3.11/site-packages (from mbrl) (4.65.0)\n",
      "Requirement already satisfied: cloudpickle>=1.2.0 in /home/jeeva/anaconda3/lib/python3.11/site-packages (from gymnasium==0.26.3->mbrl) (2.2.1)\n",
      "Requirement already satisfied: gymnasium-notices>=0.0.1 in /home/jeeva/anaconda3/lib/python3.11/site-packages (from gymnasium==0.26.3->mbrl) (0.0.1)\n",
      "Requirement already satisfied: antlr4-python3-runtime==4.8 in /home/jeeva/anaconda3/lib/python3.11/site-packages (from hydra-core==1.0.3->mbrl) (4.8)\n",
      "Requirement already satisfied: pillow>=8.3.2 in /home/jeeva/anaconda3/lib/python3.11/site-packages (from imageio>=2.9.0->mbrl) (9.4.0)\n",
      "Requirement already satisfied: notebook in /home/jeeva/anaconda3/lib/python3.11/site-packages (from jupyter>=1.0.0->mbrl) (6.5.4)\n",
      "Requirement already satisfied: qtconsole in /home/jeeva/anaconda3/lib/python3.11/site-packages (from jupyter>=1.0.0->mbrl) (5.4.2)\n",
      "Requirement already satisfied: jupyter-console in /home/jeeva/anaconda3/lib/python3.11/site-packages (from jupyter>=1.0.0->mbrl) (6.6.3)\n",
      "Requirement already satisfied: nbconvert in /home/jeeva/anaconda3/lib/python3.11/site-packages (from jupyter>=1.0.0->mbrl) (6.5.4)\n",
      "Requirement already satisfied: ipykernel in /home/jeeva/anaconda3/lib/python3.11/site-packages (from jupyter>=1.0.0->mbrl) (6.25.0)\n",
      "Requirement already satisfied: ipywidgets in /home/jeeva/anaconda3/lib/python3.11/site-packages (from jupyter>=1.0.0->mbrl) (8.0.4)\n",
      "Requirement already satisfied: contourpy>=1.0.1 in /home/jeeva/anaconda3/lib/python3.11/site-packages (from matplotlib>=3.3.1->mbrl) (1.0.5)\n",
      "Requirement already satisfied: cycler>=0.10 in /home/jeeva/anaconda3/lib/python3.11/site-packages (from matplotlib>=3.3.1->mbrl) (0.11.0)\n",
      "Requirement already satisfied: fonttools>=4.22.0 in /home/jeeva/anaconda3/lib/python3.11/site-packages (from matplotlib>=3.3.1->mbrl) (4.25.0)\n",
      "Requirement already satisfied: kiwisolver>=1.0.1 in /home/jeeva/anaconda3/lib/python3.11/site-packages (from matplotlib>=3.3.1->mbrl) (1.4.4)\n",
      "Requirement already satisfied: packaging>=20.0 in /home/jeeva/anaconda3/lib/python3.11/site-packages (from matplotlib>=3.3.1->mbrl) (23.1)\n",
      "Requirement already satisfied: pyparsing<3.1,>=2.3.1 in /home/jeeva/anaconda3/lib/python3.11/site-packages (from matplotlib>=3.3.1->mbrl) (3.0.9)\n",
      "Requirement already satisfied: python-dateutil>=2.7 in /home/jeeva/anaconda3/lib/python3.11/site-packages (from matplotlib>=3.3.1->mbrl) (2.8.2)\n",
      "Requirement already satisfied: PyYAML>=5.1.* in /home/jeeva/anaconda3/lib/python3.11/site-packages (from omegaconf<2.1,>=2.0->mbrl) (6.0)\n",
      "Requirement already satisfied: typing-extensions in /home/jeeva/anaconda3/lib/python3.11/site-packages (from omegaconf<2.1,>=2.0->mbrl) (4.7.1)\n"
     ]
    },
    {
     "name": "stdout",
     "output_type": "stream",
     "text": [
      "Requirement already satisfied: iniconfig in /home/jeeva/anaconda3/lib/python3.11/site-packages (from pytest>=6.0.1->mbrl) (1.1.1)\n",
      "Requirement already satisfied: pluggy<2.0,>=0.12 in /home/jeeva/anaconda3/lib/python3.11/site-packages (from pytest>=6.0.1->mbrl) (1.0.0)\n",
      "Requirement already satisfied: scipy in /home/jeeva/anaconda3/lib/python3.11/site-packages (from sk-video>=1.1.10->mbrl) (1.11.1)\n",
      "Requirement already satisfied: absl-py>=0.4 in /home/jeeva/anaconda3/lib/python3.11/site-packages (from tensorboard>=2.4.0->mbrl) (2.0.0)\n",
      "Requirement already satisfied: grpcio>=1.48.2 in /home/jeeva/anaconda3/lib/python3.11/site-packages (from tensorboard>=2.4.0->mbrl) (1.60.0)\n",
      "Requirement already satisfied: google-auth<3,>=1.6.3 in /home/jeeva/anaconda3/lib/python3.11/site-packages (from tensorboard>=2.4.0->mbrl) (2.25.2)\n",
      "Requirement already satisfied: google-auth-oauthlib<2,>=0.5 in /home/jeeva/anaconda3/lib/python3.11/site-packages (from tensorboard>=2.4.0->mbrl) (1.2.0)\n",
      "Requirement already satisfied: markdown>=2.6.8 in /home/jeeva/anaconda3/lib/python3.11/site-packages (from tensorboard>=2.4.0->mbrl) (3.4.1)\n",
      "Requirement already satisfied: protobuf<4.24,>=3.19.6 in /home/jeeva/anaconda3/lib/python3.11/site-packages (from tensorboard>=2.4.0->mbrl) (4.23.4)\n",
      "Requirement already satisfied: requests<3,>=2.21.0 in /home/jeeva/anaconda3/lib/python3.11/site-packages (from tensorboard>=2.4.0->mbrl) (2.31.0)\n",
      "Requirement already satisfied: setuptools>=41.0.0 in /home/jeeva/anaconda3/lib/python3.11/site-packages (from tensorboard>=2.4.0->mbrl) (69.0.3)\n",
      "Requirement already satisfied: six>1.9 in /home/jeeva/anaconda3/lib/python3.11/site-packages (from tensorboard>=2.4.0->mbrl) (1.16.0)\n",
      "Requirement already satisfied: tensorboard-data-server<0.8.0,>=0.7.0 in /home/jeeva/anaconda3/lib/python3.11/site-packages (from tensorboard>=2.4.0->mbrl) (0.7.2)\n",
      "Requirement already satisfied: werkzeug>=1.0.1 in /home/jeeva/anaconda3/lib/python3.11/site-packages (from tensorboard>=2.4.0->mbrl) (2.2.3)\n",
      "Requirement already satisfied: cachetools<6.0,>=2.0.0 in /home/jeeva/anaconda3/lib/python3.11/site-packages (from google-auth<3,>=1.6.3->tensorboard>=2.4.0->mbrl) (5.3.2)\n",
      "Requirement already satisfied: pyasn1-modules>=0.2.1 in /home/jeeva/anaconda3/lib/python3.11/site-packages (from google-auth<3,>=1.6.3->tensorboard>=2.4.0->mbrl) (0.2.8)\n",
      "Requirement already satisfied: rsa<5,>=3.1.4 in /home/jeeva/anaconda3/lib/python3.11/site-packages (from google-auth<3,>=1.6.3->tensorboard>=2.4.0->mbrl) (4.9)\n",
      "Requirement already satisfied: requests-oauthlib>=0.7.0 in /home/jeeva/anaconda3/lib/python3.11/site-packages (from google-auth-oauthlib<2,>=0.5->tensorboard>=2.4.0->mbrl) (1.3.1)\n",
      "Requirement already satisfied: charset-normalizer<4,>=2 in /home/jeeva/anaconda3/lib/python3.11/site-packages (from requests<3,>=2.21.0->tensorboard>=2.4.0->mbrl) (2.0.4)\n",
      "Requirement already satisfied: idna<4,>=2.5 in /home/jeeva/anaconda3/lib/python3.11/site-packages (from requests<3,>=2.21.0->tensorboard>=2.4.0->mbrl) (3.4)\n",
      "Requirement already satisfied: urllib3<3,>=1.21.1 in /home/jeeva/anaconda3/lib/python3.11/site-packages (from requests<3,>=2.21.0->tensorboard>=2.4.0->mbrl) (1.26.16)\n",
      "Requirement already satisfied: certifi>=2017.4.17 in /home/jeeva/anaconda3/lib/python3.11/site-packages (from requests<3,>=2.21.0->tensorboard>=2.4.0->mbrl) (2023.7.22)\n",
      "Requirement already satisfied: MarkupSafe>=2.1.1 in /home/jeeva/anaconda3/lib/python3.11/site-packages (from werkzeug>=1.0.1->tensorboard>=2.4.0->mbrl) (2.1.1)\n",
      "Requirement already satisfied: comm>=0.1.1 in /home/jeeva/anaconda3/lib/python3.11/site-packages (from ipykernel->jupyter>=1.0.0->mbrl) (0.1.2)\n",
      "Requirement already satisfied: debugpy>=1.6.5 in /home/jeeva/anaconda3/lib/python3.11/site-packages (from ipykernel->jupyter>=1.0.0->mbrl) (1.6.7)\n",
      "Requirement already satisfied: ipython>=7.23.1 in /home/jeeva/anaconda3/lib/python3.11/site-packages (from ipykernel->jupyter>=1.0.0->mbrl) (8.15.0)\n",
      "Requirement already satisfied: jupyter-client>=6.1.12 in /home/jeeva/anaconda3/lib/python3.11/site-packages (from ipykernel->jupyter>=1.0.0->mbrl) (7.4.9)\n",
      "Requirement already satisfied: jupyter-core!=5.0.*,>=4.12 in /home/jeeva/anaconda3/lib/python3.11/site-packages (from ipykernel->jupyter>=1.0.0->mbrl) (5.3.0)\n",
      "Requirement already satisfied: matplotlib-inline>=0.1 in /home/jeeva/anaconda3/lib/python3.11/site-packages (from ipykernel->jupyter>=1.0.0->mbrl) (0.1.6)\n",
      "Requirement already satisfied: nest-asyncio in /home/jeeva/anaconda3/lib/python3.11/site-packages (from ipykernel->jupyter>=1.0.0->mbrl) (1.5.6)\n",
      "Requirement already satisfied: psutil in /home/jeeva/anaconda3/lib/python3.11/site-packages (from ipykernel->jupyter>=1.0.0->mbrl) (5.9.0)\n",
      "Requirement already satisfied: pyzmq>=20 in /home/jeeva/anaconda3/lib/python3.11/site-packages (from ipykernel->jupyter>=1.0.0->mbrl) (23.2.0)\n",
      "Requirement already satisfied: tornado>=6.1 in /home/jeeva/anaconda3/lib/python3.11/site-packages (from ipykernel->jupyter>=1.0.0->mbrl) (6.3.2)\n",
      "Requirement already satisfied: traitlets>=5.4.0 in /home/jeeva/anaconda3/lib/python3.11/site-packages (from ipykernel->jupyter>=1.0.0->mbrl) (5.7.1)\n",
      "Requirement already satisfied: widgetsnbextension~=4.0 in /home/jeeva/anaconda3/lib/python3.11/site-packages (from ipywidgets->jupyter>=1.0.0->mbrl) (4.0.5)\n",
      "Requirement already satisfied: jupyterlab-widgets~=3.0 in /home/jeeva/anaconda3/lib/python3.11/site-packages (from ipywidgets->jupyter>=1.0.0->mbrl) (3.0.5)\n",
      "Requirement already satisfied: prompt-toolkit>=3.0.30 in /home/jeeva/anaconda3/lib/python3.11/site-packages (from jupyter-console->jupyter>=1.0.0->mbrl) (3.0.36)\n",
      "Requirement already satisfied: pygments in /home/jeeva/anaconda3/lib/python3.11/site-packages (from jupyter-console->jupyter>=1.0.0->mbrl) (2.15.1)\n",
      "Requirement already satisfied: lxml in /home/jeeva/anaconda3/lib/python3.11/site-packages (from nbconvert->jupyter>=1.0.0->mbrl) (4.9.3)\n",
      "Requirement already satisfied: beautifulsoup4 in /home/jeeva/anaconda3/lib/python3.11/site-packages (from nbconvert->jupyter>=1.0.0->mbrl) (4.12.2)\n",
      "Requirement already satisfied: bleach in /home/jeeva/anaconda3/lib/python3.11/site-packages (from nbconvert->jupyter>=1.0.0->mbrl) (4.1.0)\n",
      "Requirement already satisfied: defusedxml in /home/jeeva/anaconda3/lib/python3.11/site-packages (from nbconvert->jupyter>=1.0.0->mbrl) (0.7.1)\n",
      "Requirement already satisfied: entrypoints>=0.2.2 in /home/jeeva/anaconda3/lib/python3.11/site-packages (from nbconvert->jupyter>=1.0.0->mbrl) (0.4)\n",
      "Requirement already satisfied: jinja2>=3.0 in /home/jeeva/anaconda3/lib/python3.11/site-packages (from nbconvert->jupyter>=1.0.0->mbrl) (3.1.2)\n",
      "Requirement already satisfied: jupyterlab-pygments in /home/jeeva/anaconda3/lib/python3.11/site-packages (from nbconvert->jupyter>=1.0.0->mbrl) (0.1.2)\n",
      "Requirement already satisfied: mistune<2,>=0.8.1 in /home/jeeva/anaconda3/lib/python3.11/site-packages (from nbconvert->jupyter>=1.0.0->mbrl) (0.8.4)\n",
      "Requirement already satisfied: nbclient>=0.5.0 in /home/jeeva/anaconda3/lib/python3.11/site-packages (from nbconvert->jupyter>=1.0.0->mbrl) (0.5.13)\n",
      "Requirement already satisfied: nbformat>=5.1 in /home/jeeva/anaconda3/lib/python3.11/site-packages (from nbconvert->jupyter>=1.0.0->mbrl) (5.9.2)\n",
      "Requirement already satisfied: pandocfilters>=1.4.1 in /home/jeeva/anaconda3/lib/python3.11/site-packages (from nbconvert->jupyter>=1.0.0->mbrl) (1.5.0)\n",
      "Requirement already satisfied: tinycss2 in /home/jeeva/anaconda3/lib/python3.11/site-packages (from nbconvert->jupyter>=1.0.0->mbrl) (1.2.1)\n",
      "Requirement already satisfied: argon2-cffi in /home/jeeva/anaconda3/lib/python3.11/site-packages (from notebook->jupyter>=1.0.0->mbrl) (21.3.0)\n",
      "Requirement already satisfied: ipython-genutils in /home/jeeva/anaconda3/lib/python3.11/site-packages (from notebook->jupyter>=1.0.0->mbrl) (0.2.0)\n",
      "Requirement already satisfied: Send2Trash>=1.8.0 in /home/jeeva/anaconda3/lib/python3.11/site-packages (from notebook->jupyter>=1.0.0->mbrl) (1.8.0)\n",
      "Requirement already satisfied: terminado>=0.8.3 in /home/jeeva/anaconda3/lib/python3.11/site-packages (from notebook->jupyter>=1.0.0->mbrl) (0.17.1)\n",
      "Requirement already satisfied: prometheus-client in /home/jeeva/anaconda3/lib/python3.11/site-packages (from notebook->jupyter>=1.0.0->mbrl) (0.14.1)\n",
      "Requirement already satisfied: nbclassic>=0.4.7 in /home/jeeva/anaconda3/lib/python3.11/site-packages (from notebook->jupyter>=1.0.0->mbrl) (0.5.5)\n"
     ]
    },
    {
     "name": "stdout",
     "output_type": "stream",
     "text": [
      "Requirement already satisfied: qtpy>=2.0.1 in /home/jeeva/anaconda3/lib/python3.11/site-packages (from qtconsole->jupyter>=1.0.0->mbrl) (2.2.0)\n",
      "Requirement already satisfied: backcall in /home/jeeva/anaconda3/lib/python3.11/site-packages (from ipython>=7.23.1->ipykernel->jupyter>=1.0.0->mbrl) (0.2.0)\n",
      "Requirement already satisfied: decorator in /home/jeeva/anaconda3/lib/python3.11/site-packages (from ipython>=7.23.1->ipykernel->jupyter>=1.0.0->mbrl) (5.1.1)\n",
      "Requirement already satisfied: jedi>=0.16 in /home/jeeva/anaconda3/lib/python3.11/site-packages (from ipython>=7.23.1->ipykernel->jupyter>=1.0.0->mbrl) (0.18.1)\n",
      "Requirement already satisfied: pickleshare in /home/jeeva/anaconda3/lib/python3.11/site-packages (from ipython>=7.23.1->ipykernel->jupyter>=1.0.0->mbrl) (0.7.5)\n",
      "Requirement already satisfied: stack-data in /home/jeeva/anaconda3/lib/python3.11/site-packages (from ipython>=7.23.1->ipykernel->jupyter>=1.0.0->mbrl) (0.2.0)\n",
      "Requirement already satisfied: pexpect>4.3 in /home/jeeva/anaconda3/lib/python3.11/site-packages (from ipython>=7.23.1->ipykernel->jupyter>=1.0.0->mbrl) (4.8.0)\n",
      "Requirement already satisfied: platformdirs>=2.5 in /home/jeeva/anaconda3/lib/python3.11/site-packages (from jupyter-core!=5.0.*,>=4.12->ipykernel->jupyter>=1.0.0->mbrl) (3.10.0)\n",
      "Requirement already satisfied: jupyter-server>=1.8 in /home/jeeva/anaconda3/lib/python3.11/site-packages (from nbclassic>=0.4.7->notebook->jupyter>=1.0.0->mbrl) (1.23.4)\n",
      "Requirement already satisfied: notebook-shim>=0.1.0 in /home/jeeva/anaconda3/lib/python3.11/site-packages (from nbclassic>=0.4.7->notebook->jupyter>=1.0.0->mbrl) (0.2.2)\n",
      "Requirement already satisfied: fastjsonschema in /home/jeeva/anaconda3/lib/python3.11/site-packages (from nbformat>=5.1->nbconvert->jupyter>=1.0.0->mbrl) (2.16.2)\n",
      "Requirement already satisfied: jsonschema>=2.6 in /home/jeeva/anaconda3/lib/python3.11/site-packages (from nbformat>=5.1->nbconvert->jupyter>=1.0.0->mbrl) (4.17.3)\n",
      "Requirement already satisfied: wcwidth in /home/jeeva/anaconda3/lib/python3.11/site-packages (from prompt-toolkit>=3.0.30->jupyter-console->jupyter>=1.0.0->mbrl) (0.2.5)\n",
      "Requirement already satisfied: pyasn1<0.5.0,>=0.4.6 in /home/jeeva/anaconda3/lib/python3.11/site-packages (from pyasn1-modules>=0.2.1->google-auth<3,>=1.6.3->tensorboard>=2.4.0->mbrl) (0.4.8)\n",
      "Requirement already satisfied: oauthlib>=3.0.0 in /home/jeeva/anaconda3/lib/python3.11/site-packages (from requests-oauthlib>=0.7.0->google-auth-oauthlib<2,>=0.5->tensorboard>=2.4.0->mbrl) (3.2.2)\n",
      "Requirement already satisfied: ptyprocess in /home/jeeva/anaconda3/lib/python3.11/site-packages (from terminado>=0.8.3->notebook->jupyter>=1.0.0->mbrl) (0.7.0)\n",
      "Requirement already satisfied: argon2-cffi-bindings in /home/jeeva/anaconda3/lib/python3.11/site-packages (from argon2-cffi->notebook->jupyter>=1.0.0->mbrl) (21.2.0)\n",
      "Requirement already satisfied: soupsieve>1.2 in /home/jeeva/anaconda3/lib/python3.11/site-packages (from beautifulsoup4->nbconvert->jupyter>=1.0.0->mbrl) (2.4)\n",
      "Requirement already satisfied: webencodings in /home/jeeva/anaconda3/lib/python3.11/site-packages (from bleach->nbconvert->jupyter>=1.0.0->mbrl) (0.5.1)\n",
      "Requirement already satisfied: parso<0.9.0,>=0.8.0 in /home/jeeva/anaconda3/lib/python3.11/site-packages (from jedi>=0.16->ipython>=7.23.1->ipykernel->jupyter>=1.0.0->mbrl) (0.8.3)\n",
      "Requirement already satisfied: attrs>=17.4.0 in /home/jeeva/anaconda3/lib/python3.11/site-packages (from jsonschema>=2.6->nbformat>=5.1->nbconvert->jupyter>=1.0.0->mbrl) (22.1.0)\n",
      "Requirement already satisfied: pyrsistent!=0.17.0,!=0.17.1,!=0.17.2,>=0.14.0 in /home/jeeva/anaconda3/lib/python3.11/site-packages (from jsonschema>=2.6->nbformat>=5.1->nbconvert->jupyter>=1.0.0->mbrl) (0.18.0)\n",
      "Requirement already satisfied: anyio<4,>=3.1.0 in /home/jeeva/anaconda3/lib/python3.11/site-packages (from jupyter-server>=1.8->nbclassic>=0.4.7->notebook->jupyter>=1.0.0->mbrl) (3.5.0)\n",
      "Requirement already satisfied: websocket-client in /home/jeeva/anaconda3/lib/python3.11/site-packages (from jupyter-server>=1.8->nbclassic>=0.4.7->notebook->jupyter>=1.0.0->mbrl) (0.58.0)\n",
      "Requirement already satisfied: cffi>=1.0.1 in /home/jeeva/anaconda3/lib/python3.11/site-packages (from argon2-cffi-bindings->argon2-cffi->notebook->jupyter>=1.0.0->mbrl) (1.15.1)\n",
      "Requirement already satisfied: executing in /home/jeeva/anaconda3/lib/python3.11/site-packages (from stack-data->ipython>=7.23.1->ipykernel->jupyter>=1.0.0->mbrl) (0.8.3)\n",
      "Requirement already satisfied: asttokens in /home/jeeva/anaconda3/lib/python3.11/site-packages (from stack-data->ipython>=7.23.1->ipykernel->jupyter>=1.0.0->mbrl) (2.0.5)\n",
      "Requirement already satisfied: pure-eval in /home/jeeva/anaconda3/lib/python3.11/site-packages (from stack-data->ipython>=7.23.1->ipykernel->jupyter>=1.0.0->mbrl) (0.2.2)\n",
      "Requirement already satisfied: sniffio>=1.1 in /home/jeeva/anaconda3/lib/python3.11/site-packages (from anyio<4,>=3.1.0->jupyter-server>=1.8->nbclassic>=0.4.7->notebook->jupyter>=1.0.0->mbrl) (1.2.0)\n",
      "Requirement already satisfied: pycparser in /home/jeeva/anaconda3/lib/python3.11/site-packages (from cffi>=1.0.1->argon2-cffi-bindings->argon2-cffi->notebook->jupyter>=1.0.0->mbrl) (2.21)\n",
      "\u001b[33mDEPRECATION: omegaconf 2.0.6 has a non-standard dependency specifier PyYAML>=5.1.*. pip 24.0 will enforce this behaviour change. A possible replacement is to upgrade to a newer version of omegaconf or contact the author to suggest that they release a version with a conforming dependency specifiers. Discussion can be found at https://github.com/pypa/pip/issues/12063\u001b[0m\u001b[33m\n",
      "\u001b[0mRequirement already satisfied: hydra-core in /home/jeeva/anaconda3/lib/python3.11/site-packages (1.0.3)\n",
      "Requirement already satisfied: omegaconf>=2.0.2 in /home/jeeva/anaconda3/lib/python3.11/site-packages (from hydra-core) (2.0.6)\n",
      "Requirement already satisfied: antlr4-python3-runtime==4.8 in /home/jeeva/anaconda3/lib/python3.11/site-packages (from hydra-core) (4.8)\n",
      "Requirement already satisfied: PyYAML>=5.1.* in /home/jeeva/anaconda3/lib/python3.11/site-packages (from omegaconf>=2.0.2->hydra-core) (6.0)\n",
      "Requirement already satisfied: typing-extensions in /home/jeeva/anaconda3/lib/python3.11/site-packages (from omegaconf>=2.0.2->hydra-core) (4.7.1)\n",
      "\u001b[33mDEPRECATION: omegaconf 2.0.6 has a non-standard dependency specifier PyYAML>=5.1.*. pip 24.0 will enforce this behaviour change. A possible replacement is to upgrade to a newer version of omegaconf or contact the author to suggest that they release a version with a conforming dependency specifiers. Discussion can be found at https://github.com/pypa/pip/issues/12063\u001b[0m\u001b[33m\n",
      "\u001b[0mCollecting hydra\n",
      "  Using cached Hydra-2.5.tar.gz (82 kB)\n",
      "  Preparing metadata (setup.py) ... \u001b[?25ldone\n",
      "\u001b[?25hBuilding wheels for collected packages: hydra\n",
      "  Building wheel for hydra (setup.py) ... \u001b[?25lerror\n",
      "  \u001b[1;31merror\u001b[0m: \u001b[1msubprocess-exited-with-error\u001b[0m\n",
      "  \n",
      "  \u001b[31m×\u001b[0m \u001b[32mpython setup.py bdist_wheel\u001b[0m did not run successfully.\n",
      "  \u001b[31m│\u001b[0m exit code: \u001b[1;36m1\u001b[0m\n",
      "  \u001b[31m╰─>\u001b[0m \u001b[31m[17 lines of output]\u001b[0m\n",
      "  \u001b[31m   \u001b[0m running bdist_wheel\n",
      "  \u001b[31m   \u001b[0m running build\n",
      "  \u001b[31m   \u001b[0m running build_py\n",
      "  \u001b[31m   \u001b[0m creating build\n",
      "  \u001b[31m   \u001b[0m creating build/lib.linux-x86_64-cpython-311\n",
      "  \u001b[31m   \u001b[0m copying src/hydra.py -> build/lib.linux-x86_64-cpython-311\n",
      "  \u001b[31m   \u001b[0m running build_ext\n",
      "  \u001b[31m   \u001b[0m building '_hydra' extension\n",
      "  \u001b[31m   \u001b[0m creating build/temp.linux-x86_64-cpython-311\n",
      "  \u001b[31m   \u001b[0m creating build/temp.linux-x86_64-cpython-311/src\n",
      "  \u001b[31m   \u001b[0m gcc -pthread -B /home/jeeva/anaconda3/compiler_compat -DNDEBUG -fwrapv -O2 -Wall -fPIC -O2 -isystem /home/jeeva/anaconda3/include -fPIC -O2 -isystem /home/jeeva/anaconda3/include -fPIC -I/tmp/pip-install-1d_hnmtv/hydra_699774d0fd5149ddbafd0bca4caef48f/src -I/home/jeeva/anaconda3/include/python3.11 -c src/MurmurHash3.c -o build/temp.linux-x86_64-cpython-311/src/MurmurHash3.o -std=gnu99 -O2 -D_LARGEFILE64_SOURCE\n",
      "  \u001b[31m   \u001b[0m gcc -pthread -B /home/jeeva/anaconda3/compiler_compat -DNDEBUG -fwrapv -O2 -Wall -fPIC -O2 -isystem /home/jeeva/anaconda3/include -fPIC -O2 -isystem /home/jeeva/anaconda3/include -fPIC -I/tmp/pip-install-1d_hnmtv/hydra_699774d0fd5149ddbafd0bca4caef48f/src -I/home/jeeva/anaconda3/include/python3.11 -c src/_hydra.c -o build/temp.linux-x86_64-cpython-311/src/_hydra.o -std=gnu99 -O2 -D_LARGEFILE64_SOURCE\n",
      "  \u001b[31m   \u001b[0m src/_hydra.c:61:12: fatal error: longintrepr.h: No such file or directory\n",
      "  \u001b[31m   \u001b[0m    61 |   #include \"longintrepr.h\"\n",
      "  \u001b[31m   \u001b[0m       |            ^~~~~~~~~~~~~~~\n",
      "  \u001b[31m   \u001b[0m compilation terminated.\n",
      "  \u001b[31m   \u001b[0m error: command '/usr/bin/gcc' failed with exit code 1\n",
      "  \u001b[31m   \u001b[0m \u001b[31m[end of output]\u001b[0m\n",
      "  \n"
     ]
    },
    {
     "name": "stdout",
     "output_type": "stream",
     "text": [
      "  \u001b[1;35mnote\u001b[0m: This error originates from a subprocess, and is likely not a problem with pip.\n",
      "\u001b[31m  ERROR: Failed building wheel for hydra\u001b[0m\u001b[31m\n",
      "\u001b[0m\u001b[?25h  Running setup.py clean for hydra\n",
      "Failed to build hydra\n",
      "\u001b[31mERROR: Could not build wheels for hydra, which is required to install pyproject.toml-based projects\u001b[0m\u001b[31m\n",
      "\u001b[0mRequirement already satisfied: matplotlib in /home/jeeva/anaconda3/lib/python3.11/site-packages (3.7.2)\n",
      "Requirement already satisfied: contourpy>=1.0.1 in /home/jeeva/anaconda3/lib/python3.11/site-packages (from matplotlib) (1.0.5)\n",
      "Requirement already satisfied: cycler>=0.10 in /home/jeeva/anaconda3/lib/python3.11/site-packages (from matplotlib) (0.11.0)\n",
      "Requirement already satisfied: fonttools>=4.22.0 in /home/jeeva/anaconda3/lib/python3.11/site-packages (from matplotlib) (4.25.0)\n",
      "Requirement already satisfied: kiwisolver>=1.0.1 in /home/jeeva/anaconda3/lib/python3.11/site-packages (from matplotlib) (1.4.4)\n",
      "Requirement already satisfied: numpy>=1.20 in /home/jeeva/anaconda3/lib/python3.11/site-packages (from matplotlib) (1.24.3)\n",
      "Requirement already satisfied: packaging>=20.0 in /home/jeeva/anaconda3/lib/python3.11/site-packages (from matplotlib) (23.1)\n",
      "Requirement already satisfied: pillow>=6.2.0 in /home/jeeva/anaconda3/lib/python3.11/site-packages (from matplotlib) (9.4.0)\n",
      "Requirement already satisfied: pyparsing<3.1,>=2.3.1 in /home/jeeva/anaconda3/lib/python3.11/site-packages (from matplotlib) (3.0.9)\n",
      "Requirement already satisfied: python-dateutil>=2.7 in /home/jeeva/anaconda3/lib/python3.11/site-packages (from matplotlib) (2.8.2)\n",
      "Requirement already satisfied: six>=1.5 in /home/jeeva/anaconda3/lib/python3.11/site-packages (from python-dateutil>=2.7->matplotlib) (1.16.0)\n",
      "\u001b[33mDEPRECATION: omegaconf 2.0.6 has a non-standard dependency specifier PyYAML>=5.1.*. pip 24.0 will enforce this behaviour change. A possible replacement is to upgrade to a newer version of omegaconf or contact the author to suggest that they release a version with a conforming dependency specifiers. Discussion can be found at https://github.com/pypa/pip/issues/12063\u001b[0m\u001b[33m\n",
      "\u001b[0m"
     ]
    }
   ],
   "source": [
    "!pip install torch\n",
    "!pip install omegaconf\n",
    "!pip install mbrl\n",
    "!pip install hydra-core\n",
    "!pip install hydra\n",
    "!pip install matplotlib"
   ]
  },
  {
   "cell_type": "code",
   "execution_count": 5,
   "metadata": {},
   "outputs": [
    {
     "name": "stdout",
     "output_type": "stream",
     "text": [
      "/bin/bash: line 1: hydra-core: command not found\r\n"
     ]
    }
   ],
   "source": []
  },
  {
   "cell_type": "code",
   "execution_count": 4,
   "metadata": {},
   "outputs": [
    {
     "ename": "ValueError",
     "evalue": "mutable default <class 'hydra.conf.JobConf.JobConfig.OverrideDirname'> for field override_dirname is not allowed: use default_factory",
     "output_type": "error",
     "traceback": [
      "\u001b[0;31m---------------------------------------------------------------------------\u001b[0m",
      "\u001b[0;31mValueError\u001b[0m                                Traceback (most recent call last)",
      "Cell \u001b[0;32mIn[4], line 13\u001b[0m\n\u001b[1;32m     11\u001b[0m \u001b[38;5;28;01mimport\u001b[39;00m \u001b[38;5;21;01mmbrl\u001b[39;00m\u001b[38;5;21;01m.\u001b[39;00m\u001b[38;5;21;01menv\u001b[39;00m\u001b[38;5;21;01m.\u001b[39;00m\u001b[38;5;21;01mreward_fns\u001b[39;00m \u001b[38;5;28;01mas\u001b[39;00m \u001b[38;5;21;01mreward_fns\u001b[39;00m\n\u001b[1;32m     12\u001b[0m \u001b[38;5;28;01mimport\u001b[39;00m \u001b[38;5;21;01mmbrl\u001b[39;00m\u001b[38;5;21;01m.\u001b[39;00m\u001b[38;5;21;01menv\u001b[39;00m\u001b[38;5;21;01m.\u001b[39;00m\u001b[38;5;21;01mtermination_fns\u001b[39;00m \u001b[38;5;28;01mas\u001b[39;00m \u001b[38;5;21;01mtermination_fns\u001b[39;00m\n\u001b[0;32m---> 13\u001b[0m \u001b[38;5;28;01mimport\u001b[39;00m \u001b[38;5;21;01mmbrl\u001b[39;00m\u001b[38;5;21;01m.\u001b[39;00m\u001b[38;5;21;01mmodels\u001b[39;00m \u001b[38;5;28;01mas\u001b[39;00m \u001b[38;5;21;01mmodels\u001b[39;00m\n\u001b[1;32m     14\u001b[0m \u001b[38;5;28;01mimport\u001b[39;00m \u001b[38;5;21;01mmbrl\u001b[39;00m\u001b[38;5;21;01m.\u001b[39;00m\u001b[38;5;21;01mplanning\u001b[39;00m \u001b[38;5;28;01mas\u001b[39;00m \u001b[38;5;21;01mplanning\u001b[39;00m\n\u001b[1;32m     15\u001b[0m \u001b[38;5;28;01mimport\u001b[39;00m \u001b[38;5;21;01mmbrl\u001b[39;00m\u001b[38;5;21;01m.\u001b[39;00m\u001b[38;5;21;01mutil\u001b[39;00m\u001b[38;5;21;01m.\u001b[39;00m\u001b[38;5;21;01mcommon\u001b[39;00m \u001b[38;5;28;01mas\u001b[39;00m \u001b[38;5;21;01mcommon_util\u001b[39;00m\n",
      "File \u001b[0;32m~/anaconda3/lib/python3.11/site-packages/mbrl/models/__init__.py:5\u001b[0m\n\u001b[1;32m      1\u001b[0m \u001b[38;5;66;03m# Copyright (c) Facebook, Inc. and its affiliates. All Rights Reserved.\u001b[39;00m\n\u001b[1;32m      2\u001b[0m \u001b[38;5;66;03m#\u001b[39;00m\n\u001b[1;32m      3\u001b[0m \u001b[38;5;66;03m# This source code is licensed under the MIT license found in the\u001b[39;00m\n\u001b[1;32m      4\u001b[0m \u001b[38;5;66;03m# LICENSE file in the root directory of this source tree.\u001b[39;00m\n\u001b[0;32m----> 5\u001b[0m \u001b[38;5;28;01mfrom\u001b[39;00m \u001b[38;5;21;01m.\u001b[39;00m\u001b[38;5;21;01mbasic_ensemble\u001b[39;00m \u001b[38;5;28;01mimport\u001b[39;00m BasicEnsemble\n\u001b[1;32m      6\u001b[0m \u001b[38;5;28;01mfrom\u001b[39;00m \u001b[38;5;21;01m.\u001b[39;00m\u001b[38;5;21;01mgaussian_mlp\u001b[39;00m \u001b[38;5;28;01mimport\u001b[39;00m GaussianMLP\n\u001b[1;32m      7\u001b[0m \u001b[38;5;28;01mfrom\u001b[39;00m \u001b[38;5;21;01m.\u001b[39;00m\u001b[38;5;21;01mmodel\u001b[39;00m \u001b[38;5;28;01mimport\u001b[39;00m Ensemble, Model\n",
      "File \u001b[0;32m~/anaconda3/lib/python3.11/site-packages/mbrl/models/basic_ensemble.py:8\u001b[0m\n\u001b[1;32m      5\u001b[0m \u001b[38;5;28;01mimport\u001b[39;00m \u001b[38;5;21;01mwarnings\u001b[39;00m\n\u001b[1;32m      6\u001b[0m \u001b[38;5;28;01mfrom\u001b[39;00m \u001b[38;5;21;01mtyping\u001b[39;00m \u001b[38;5;28;01mimport\u001b[39;00m Any, Dict, Optional, Sequence, Tuple, Union\n\u001b[0;32m----> 8\u001b[0m \u001b[38;5;28;01mimport\u001b[39;00m \u001b[38;5;21;01mhydra\u001b[39;00m\n\u001b[1;32m      9\u001b[0m \u001b[38;5;28;01mimport\u001b[39;00m \u001b[38;5;21;01momegaconf\u001b[39;00m\n\u001b[1;32m     10\u001b[0m \u001b[38;5;28;01mimport\u001b[39;00m \u001b[38;5;21;01mtorch\u001b[39;00m\n",
      "File \u001b[0;32m~/anaconda3/lib/python3.11/site-packages/hydra/__init__.py:5\u001b[0m\n\u001b[1;32m      1\u001b[0m \u001b[38;5;66;03m# Copyright (c) Facebook, Inc. and its affiliates. All Rights Reserved\u001b[39;00m\n\u001b[1;32m      2\u001b[0m \n\u001b[1;32m      3\u001b[0m \u001b[38;5;66;03m# Source of truth for Hydra's version\u001b[39;00m\n\u001b[1;32m      4\u001b[0m __version__ \u001b[38;5;241m=\u001b[39m \u001b[38;5;124m\"\u001b[39m\u001b[38;5;124m1.0.3\u001b[39m\u001b[38;5;124m\"\u001b[39m\n\u001b[0;32m----> 5\u001b[0m \u001b[38;5;28;01mfrom\u001b[39;00m \u001b[38;5;21;01mhydra\u001b[39;00m \u001b[38;5;28;01mimport\u001b[39;00m utils\n\u001b[1;32m      6\u001b[0m \u001b[38;5;28;01mfrom\u001b[39;00m \u001b[38;5;21;01mhydra\u001b[39;00m\u001b[38;5;21;01m.\u001b[39;00m\u001b[38;5;21;01merrors\u001b[39;00m \u001b[38;5;28;01mimport\u001b[39;00m MissingConfigException\n\u001b[1;32m      7\u001b[0m \u001b[38;5;28;01mfrom\u001b[39;00m \u001b[38;5;21;01mhydra\u001b[39;00m\u001b[38;5;21;01m.\u001b[39;00m\u001b[38;5;21;01mmain\u001b[39;00m \u001b[38;5;28;01mimport\u001b[39;00m main\n",
      "File \u001b[0;32m~/anaconda3/lib/python3.11/site-packages/hydra/utils.py:10\u001b[0m\n\u001b[1;32m      7\u001b[0m \u001b[38;5;28;01mfrom\u001b[39;00m \u001b[38;5;21;01momegaconf\u001b[39;00m \u001b[38;5;28;01mimport\u001b[39;00m DictConfig, OmegaConf\n\u001b[1;32m      8\u001b[0m \u001b[38;5;28;01mfrom\u001b[39;00m \u001b[38;5;21;01momegaconf\u001b[39;00m\u001b[38;5;21;01m.\u001b[39;00m\u001b[38;5;21;01m_utils\u001b[39;00m \u001b[38;5;28;01mimport\u001b[39;00m is_structured_config\n\u001b[0;32m---> 10\u001b[0m \u001b[38;5;28;01mfrom\u001b[39;00m \u001b[38;5;21;01mhydra\u001b[39;00m\u001b[38;5;21;01m.\u001b[39;00m\u001b[38;5;21;01m_internal\u001b[39;00m\u001b[38;5;21;01m.\u001b[39;00m\u001b[38;5;21;01mutils\u001b[39;00m \u001b[38;5;28;01mimport\u001b[39;00m (\n\u001b[1;32m     11\u001b[0m     _call_callable,\n\u001b[1;32m     12\u001b[0m     _get_cls_name,\n\u001b[1;32m     13\u001b[0m     _instantiate_class,\n\u001b[1;32m     14\u001b[0m     _locate,\n\u001b[1;32m     15\u001b[0m )\n\u001b[1;32m     16\u001b[0m \u001b[38;5;28;01mfrom\u001b[39;00m \u001b[38;5;21;01mhydra\u001b[39;00m\u001b[38;5;21;01m.\u001b[39;00m\u001b[38;5;21;01mcore\u001b[39;00m\u001b[38;5;21;01m.\u001b[39;00m\u001b[38;5;21;01mhydra_config\u001b[39;00m \u001b[38;5;28;01mimport\u001b[39;00m HydraConfig\n\u001b[1;32m     17\u001b[0m \u001b[38;5;28;01mfrom\u001b[39;00m \u001b[38;5;21;01mhydra\u001b[39;00m\u001b[38;5;21;01m.\u001b[39;00m\u001b[38;5;21;01merrors\u001b[39;00m \u001b[38;5;28;01mimport\u001b[39;00m HydraException, InstantiationException\n",
      "File \u001b[0;32m~/anaconda3/lib/python3.11/site-packages/hydra/_internal/utils.py:21\u001b[0m\n\u001b[1;32m     19\u001b[0m \u001b[38;5;28;01mfrom\u001b[39;00m \u001b[38;5;21;01mhydra\u001b[39;00m\u001b[38;5;21;01m.\u001b[39;00m\u001b[38;5;21;01m_internal\u001b[39;00m\u001b[38;5;21;01m.\u001b[39;00m\u001b[38;5;21;01mconfig_search_path_impl\u001b[39;00m \u001b[38;5;28;01mimport\u001b[39;00m ConfigSearchPathImpl\n\u001b[1;32m     20\u001b[0m \u001b[38;5;28;01mfrom\u001b[39;00m \u001b[38;5;21;01mhydra\u001b[39;00m\u001b[38;5;21;01m.\u001b[39;00m\u001b[38;5;21;01mcore\u001b[39;00m\u001b[38;5;21;01m.\u001b[39;00m\u001b[38;5;21;01mconfig_search_path\u001b[39;00m \u001b[38;5;28;01mimport\u001b[39;00m ConfigSearchPath, SearchPathQuery\n\u001b[0;32m---> 21\u001b[0m \u001b[38;5;28;01mfrom\u001b[39;00m \u001b[38;5;21;01mhydra\u001b[39;00m\u001b[38;5;21;01m.\u001b[39;00m\u001b[38;5;21;01mcore\u001b[39;00m\u001b[38;5;21;01m.\u001b[39;00m\u001b[38;5;21;01mutils\u001b[39;00m \u001b[38;5;28;01mimport\u001b[39;00m get_valid_filename, split_config_path\n\u001b[1;32m     22\u001b[0m \u001b[38;5;28;01mfrom\u001b[39;00m \u001b[38;5;21;01mhydra\u001b[39;00m\u001b[38;5;21;01m.\u001b[39;00m\u001b[38;5;21;01merrors\u001b[39;00m \u001b[38;5;28;01mimport\u001b[39;00m (\n\u001b[1;32m     23\u001b[0m     CompactHydraException,\n\u001b[1;32m     24\u001b[0m     InstantiationException,\n\u001b[1;32m     25\u001b[0m     SearchPathException,\n\u001b[1;32m     26\u001b[0m )\n\u001b[1;32m     27\u001b[0m \u001b[38;5;28;01mfrom\u001b[39;00m \u001b[38;5;21;01mhydra\u001b[39;00m\u001b[38;5;21;01m.\u001b[39;00m\u001b[38;5;21;01mtypes\u001b[39;00m \u001b[38;5;28;01mimport\u001b[39;00m ObjectConf, TaskFunction\n",
      "File \u001b[0;32m~/anaconda3/lib/python3.11/site-packages/hydra/core/utils.py:17\u001b[0m\n\u001b[1;32m     13\u001b[0m \u001b[38;5;28;01mfrom\u001b[39;00m \u001b[38;5;21;01mtyping\u001b[39;00m \u001b[38;5;28;01mimport\u001b[39;00m Any, Dict, Optional, Sequence, Tuple, Union, cast\n\u001b[1;32m     15\u001b[0m \u001b[38;5;28;01mfrom\u001b[39;00m \u001b[38;5;21;01momegaconf\u001b[39;00m \u001b[38;5;28;01mimport\u001b[39;00m DictConfig, OmegaConf, open_dict, read_write\n\u001b[0;32m---> 17\u001b[0m \u001b[38;5;28;01mfrom\u001b[39;00m \u001b[38;5;21;01mhydra\u001b[39;00m\u001b[38;5;21;01m.\u001b[39;00m\u001b[38;5;21;01mcore\u001b[39;00m\u001b[38;5;21;01m.\u001b[39;00m\u001b[38;5;21;01mhydra_config\u001b[39;00m \u001b[38;5;28;01mimport\u001b[39;00m HydraConfig\n\u001b[1;32m     18\u001b[0m \u001b[38;5;28;01mfrom\u001b[39;00m \u001b[38;5;21;01mhydra\u001b[39;00m\u001b[38;5;21;01m.\u001b[39;00m\u001b[38;5;21;01mcore\u001b[39;00m\u001b[38;5;21;01m.\u001b[39;00m\u001b[38;5;21;01msingleton\u001b[39;00m \u001b[38;5;28;01mimport\u001b[39;00m Singleton\n\u001b[1;32m     19\u001b[0m \u001b[38;5;28;01mfrom\u001b[39;00m \u001b[38;5;21;01mhydra\u001b[39;00m\u001b[38;5;21;01m.\u001b[39;00m\u001b[38;5;21;01mtypes\u001b[39;00m \u001b[38;5;28;01mimport\u001b[39;00m TaskFunction\n",
      "File \u001b[0;32m~/anaconda3/lib/python3.11/site-packages/hydra/core/hydra_config.py:6\u001b[0m\n\u001b[1;32m      2\u001b[0m \u001b[38;5;28;01mfrom\u001b[39;00m \u001b[38;5;21;01mtyping\u001b[39;00m \u001b[38;5;28;01mimport\u001b[39;00m Any, Optional\n\u001b[1;32m      4\u001b[0m \u001b[38;5;28;01mfrom\u001b[39;00m \u001b[38;5;21;01momegaconf\u001b[39;00m \u001b[38;5;28;01mimport\u001b[39;00m DictConfig, OmegaConf\n\u001b[0;32m----> 6\u001b[0m \u001b[38;5;28;01mfrom\u001b[39;00m \u001b[38;5;21;01mhydra\u001b[39;00m\u001b[38;5;21;01m.\u001b[39;00m\u001b[38;5;21;01mconf\u001b[39;00m \u001b[38;5;28;01mimport\u001b[39;00m HydraConf\n\u001b[1;32m      7\u001b[0m \u001b[38;5;28;01mfrom\u001b[39;00m \u001b[38;5;21;01mhydra\u001b[39;00m\u001b[38;5;21;01m.\u001b[39;00m\u001b[38;5;21;01mcore\u001b[39;00m\u001b[38;5;21;01m.\u001b[39;00m\u001b[38;5;21;01msingleton\u001b[39;00m \u001b[38;5;28;01mimport\u001b[39;00m Singleton\n\u001b[1;32m     10\u001b[0m \u001b[38;5;28;01mclass\u001b[39;00m \u001b[38;5;21;01mHydraConfig\u001b[39;00m(metaclass\u001b[38;5;241m=\u001b[39mSingleton):\n",
      "File \u001b[0;32m~/anaconda3/lib/python3.11/site-packages/hydra/conf/__init__.py:62\u001b[0m\n\u001b[1;32m     57\u001b[0m     task: List[\u001b[38;5;28mstr\u001b[39m] \u001b[38;5;241m=\u001b[39m field(default_factory\u001b[38;5;241m=\u001b[39m\u001b[38;5;28;01mlambda\u001b[39;00m: [])\n\u001b[1;32m     60\u001b[0m \u001b[38;5;66;03m# job runtime information will be populated here\u001b[39;00m\n\u001b[1;32m     61\u001b[0m \u001b[38;5;129m@dataclass\u001b[39m\n\u001b[0;32m---> 62\u001b[0m \u001b[38;5;28;01mclass\u001b[39;00m \u001b[38;5;21;01mJobConf\u001b[39;00m:\n\u001b[1;32m     63\u001b[0m     \u001b[38;5;66;03m# Job name, populated automatically unless specified by the user (in config or cli)\u001b[39;00m\n\u001b[1;32m     64\u001b[0m     name: \u001b[38;5;28mstr\u001b[39m \u001b[38;5;241m=\u001b[39m MISSING\n\u001b[1;32m     66\u001b[0m     \u001b[38;5;66;03m# Populated automatically by Hydra.\u001b[39;00m\n\u001b[1;32m     67\u001b[0m     \u001b[38;5;66;03m# Concatenation of job overrides that can be used as a part\u001b[39;00m\n\u001b[1;32m     68\u001b[0m     \u001b[38;5;66;03m# of the directory name.\u001b[39;00m\n\u001b[1;32m     69\u001b[0m     \u001b[38;5;66;03m# This can be configured via hydra.job.config.override_dirname\u001b[39;00m\n",
      "File \u001b[0;32m~/anaconda3/lib/python3.11/site-packages/hydra/conf/__init__.py:87\u001b[0m, in \u001b[0;36mJobConf\u001b[0;34m()\u001b[0m\n\u001b[1;32m     84\u001b[0m env_copy: List[\u001b[38;5;28mstr\u001b[39m] \u001b[38;5;241m=\u001b[39m field(default_factory\u001b[38;5;241m=\u001b[39m\u001b[38;5;28mlist\u001b[39m)\n\u001b[1;32m     86\u001b[0m \u001b[38;5;66;03m# Job config\u001b[39;00m\n\u001b[0;32m---> 87\u001b[0m \u001b[38;5;129m@dataclass\u001b[39m\n\u001b[1;32m     88\u001b[0m \u001b[38;5;28;01mclass\u001b[39;00m \u001b[38;5;21;01mJobConfig\u001b[39;00m:\n\u001b[1;32m     89\u001b[0m     \u001b[38;5;129m@dataclass\u001b[39m\n\u001b[1;32m     90\u001b[0m     \u001b[38;5;66;03m# configuration for the ${hydra.job.override_dirname} runtime variable\u001b[39;00m\n\u001b[1;32m     91\u001b[0m     \u001b[38;5;28;01mclass\u001b[39;00m \u001b[38;5;21;01mOverrideDirname\u001b[39;00m:\n\u001b[1;32m     92\u001b[0m         kv_sep: \u001b[38;5;28mstr\u001b[39m \u001b[38;5;241m=\u001b[39m \u001b[38;5;124m\"\u001b[39m\u001b[38;5;124m=\u001b[39m\u001b[38;5;124m\"\u001b[39m\n",
      "File \u001b[0;32m~/anaconda3/lib/python3.11/dataclasses.py:1230\u001b[0m, in \u001b[0;36mdataclass\u001b[0;34m(cls, init, repr, eq, order, unsafe_hash, frozen, match_args, kw_only, slots, weakref_slot)\u001b[0m\n\u001b[1;32m   1227\u001b[0m     \u001b[38;5;28;01mreturn\u001b[39;00m wrap\n\u001b[1;32m   1229\u001b[0m \u001b[38;5;66;03m# We're called as @dataclass without parens.\u001b[39;00m\n\u001b[0;32m-> 1230\u001b[0m \u001b[38;5;28;01mreturn\u001b[39;00m wrap(\u001b[38;5;28mcls\u001b[39m)\n",
      "File \u001b[0;32m~/anaconda3/lib/python3.11/dataclasses.py:1220\u001b[0m, in \u001b[0;36mdataclass.<locals>.wrap\u001b[0;34m(cls)\u001b[0m\n\u001b[1;32m   1219\u001b[0m \u001b[38;5;28;01mdef\u001b[39;00m \u001b[38;5;21mwrap\u001b[39m(\u001b[38;5;28mcls\u001b[39m):\n\u001b[0;32m-> 1220\u001b[0m     \u001b[38;5;28;01mreturn\u001b[39;00m _process_class(\u001b[38;5;28mcls\u001b[39m, init, \u001b[38;5;28mrepr\u001b[39m, eq, order, unsafe_hash,\n\u001b[1;32m   1221\u001b[0m                           frozen, match_args, kw_only, slots,\n\u001b[1;32m   1222\u001b[0m                           weakref_slot)\n",
      "File \u001b[0;32m~/anaconda3/lib/python3.11/dataclasses.py:958\u001b[0m, in \u001b[0;36m_process_class\u001b[0;34m(cls, init, repr, eq, order, unsafe_hash, frozen, match_args, kw_only, slots, weakref_slot)\u001b[0m\n\u001b[1;32m    955\u001b[0m         kw_only \u001b[38;5;241m=\u001b[39m \u001b[38;5;28;01mTrue\u001b[39;00m\n\u001b[1;32m    956\u001b[0m     \u001b[38;5;28;01melse\u001b[39;00m:\n\u001b[1;32m    957\u001b[0m         \u001b[38;5;66;03m# Otherwise it's a field of some type.\u001b[39;00m\n\u001b[0;32m--> 958\u001b[0m         cls_fields\u001b[38;5;241m.\u001b[39mappend(_get_field(\u001b[38;5;28mcls\u001b[39m, name, \u001b[38;5;28mtype\u001b[39m, kw_only))\n\u001b[1;32m    960\u001b[0m \u001b[38;5;28;01mfor\u001b[39;00m f \u001b[38;5;129;01min\u001b[39;00m cls_fields:\n\u001b[1;32m    961\u001b[0m     fields[f\u001b[38;5;241m.\u001b[39mname] \u001b[38;5;241m=\u001b[39m f\n",
      "File \u001b[0;32m~/anaconda3/lib/python3.11/dataclasses.py:815\u001b[0m, in \u001b[0;36m_get_field\u001b[0;34m(cls, a_name, a_type, default_kw_only)\u001b[0m\n\u001b[1;32m    811\u001b[0m \u001b[38;5;66;03m# For real fields, disallow mutable defaults.  Use unhashable as a proxy\u001b[39;00m\n\u001b[1;32m    812\u001b[0m \u001b[38;5;66;03m# indicator for mutability.  Read the __hash__ attribute from the class,\u001b[39;00m\n\u001b[1;32m    813\u001b[0m \u001b[38;5;66;03m# not the instance.\u001b[39;00m\n\u001b[1;32m    814\u001b[0m \u001b[38;5;28;01mif\u001b[39;00m f\u001b[38;5;241m.\u001b[39m_field_type \u001b[38;5;129;01mis\u001b[39;00m _FIELD \u001b[38;5;129;01mand\u001b[39;00m f\u001b[38;5;241m.\u001b[39mdefault\u001b[38;5;241m.\u001b[39m\u001b[38;5;18m__class__\u001b[39m\u001b[38;5;241m.\u001b[39m\u001b[38;5;21m__hash__\u001b[39m \u001b[38;5;129;01mis\u001b[39;00m \u001b[38;5;28;01mNone\u001b[39;00m:\n\u001b[0;32m--> 815\u001b[0m     \u001b[38;5;28;01mraise\u001b[39;00m \u001b[38;5;167;01mValueError\u001b[39;00m(\u001b[38;5;124mf\u001b[39m\u001b[38;5;124m'\u001b[39m\u001b[38;5;124mmutable default \u001b[39m\u001b[38;5;132;01m{\u001b[39;00m\u001b[38;5;28mtype\u001b[39m(f\u001b[38;5;241m.\u001b[39mdefault)\u001b[38;5;132;01m}\u001b[39;00m\u001b[38;5;124m for field \u001b[39m\u001b[38;5;124m'\u001b[39m\n\u001b[1;32m    816\u001b[0m                      \u001b[38;5;124mf\u001b[39m\u001b[38;5;124m'\u001b[39m\u001b[38;5;132;01m{\u001b[39;00mf\u001b[38;5;241m.\u001b[39mname\u001b[38;5;132;01m}\u001b[39;00m\u001b[38;5;124m is not allowed: use default_factory\u001b[39m\u001b[38;5;124m'\u001b[39m)\n\u001b[1;32m    818\u001b[0m \u001b[38;5;28;01mreturn\u001b[39;00m f\n",
      "\u001b[0;31mValueError\u001b[0m: mutable default <class 'hydra.conf.JobConf.JobConfig.OverrideDirname'> for field override_dirname is not allowed: use default_factory"
     ]
    }
   ],
   "source": [
    "from IPython import display\n",
    "%matplotlib inline\n",
    "import matplotlib as mpl\n",
    "import matplotlib.pyplot as plt\n",
    "import numpy as np\n",
    "import torch\n",
    "import omegaconf\n",
    "\n",
    "\n",
    "import mbrl.env.cartpole_continuous as cartpole_env\n",
    "import mbrl.env.reward_fns as reward_fns\n",
    "import mbrl.env.termination_fns as termination_fns\n",
    "import mbrl.models as models\n",
    "import mbrl.planning as planning\n",
    "import mbrl.util.common as common_util\n",
    "import mbrl.util as util\n",
    "\n",
    "\n",
    "%load_ext autoreload\n",
    "%autoreload 2\n",
    "\n",
    "mpl.rcParams.update({\"font.size\": 16})\n",
    "\n",
    "device = 'cuda:0' if torch.cuda.is_available() else 'cpu'"
   ]
  },
  {
   "cell_type": "markdown",
   "metadata": {},
   "source": [
    "# Creating the environment\n",
    "\n",
    "First we instantiate the environment and specify which reward function and termination function to use with the gym-like environment wrapper, along with some utility objects. The termination function tells the wrapper if an observation should cause an episode to end or not, and it is an input used in some algorithms, like [MBPO](https://github.com/JannerM/mbpo/blob/master/mbpo/static/halfcheetah.py). The reward function is used to compute the value of the reward given an observation, and it's used by some algorithms, like [PETS](https://github.com/kchua/handful-of-trials/blob/77fd8802cc30b7683f0227c90527b5414c0df34c/dmbrl/controllers/MPC.py#L65)."
   ]
  },
  {
   "cell_type": "code",
   "execution_count": null,
   "metadata": {},
   "outputs": [],
   "source": [
    "seed = 0\n",
    "env = cartpole_env.CartPoleEnv(render_mode=\"rgb_array\")\n",
    "env.reset(seed)\n",
    "rng = np.random.default_rng(seed=0)\n",
    "generator = torch.Generator(device=device)\n",
    "generator.manual_seed(seed)\n",
    "obs_shape = env.observation_space.shape\n",
    "act_shape = env.action_space.shape\n",
    "\n",
    "# This functions allows the model to evaluate the true rewards given an observation \n",
    "reward_fn = reward_fns.cartpole\n",
    "# This function allows the model to know if an observation should make the episode end\n",
    "term_fn = termination_fns.cartpole"
   ]
  },
  {
   "cell_type": "markdown",
   "metadata": {},
   "source": [
    "# Hydra configuration\n",
    "\n",
    "MBRL-Lib uses [Hydra](https://github.com/facebookresearch/hydra) to manage configurations. For the purpose of this example, you can think of the configuration object as a dictionary with key/value pairs--and equivalent attributes--that specify the model and algorithmic options. Our toolbox expects the configuration object to be organized as follows:"
   ]
  },
  {
   "cell_type": "code",
   "execution_count": null,
   "metadata": {},
   "outputs": [],
   "source": [
    "trial_length = 200\n",
    "num_trials = 10\n",
    "ensemble_size = 5\n",
    "\n",
    "# Everything with \"???\" indicates an option with a missing value.\n",
    "# Our utility functions will fill in these details using the \n",
    "# environment information\n",
    "cfg_dict = {\n",
    "    # dynamics model configuration\n",
    "    \"dynamics_model\": {\n",
    "        \"_target_\": \"mbrl.models.GaussianMLP\",\n",
    "        \"device\": device,\n",
    "        \"num_layers\": 3,\n",
    "        \"ensemble_size\": ensemble_size,\n",
    "        \"hid_size\": 200,\n",
    "        \"in_size\": \"???\",\n",
    "        \"out_size\": \"???\",\n",
    "        \"deterministic\": False,\n",
    "        \"propagation_method\": \"fixed_model\",\n",
    "        # can also configure activation function for GaussianMLP\n",
    "        \"activation_fn_cfg\": {\n",
    "            \"_target_\": \"torch.nn.LeakyReLU\",\n",
    "            \"negative_slope\": 0.01\n",
    "        }\n",
    "    },\n",
    "    # options for training the dynamics model\n",
    "    \"algorithm\": {\n",
    "        \"learned_rewards\": False,\n",
    "        \"target_is_delta\": True,\n",
    "        \"normalize\": True,\n",
    "    },\n",
    "    # these are experiment specific options\n",
    "    \"overrides\": {\n",
    "        \"trial_length\": trial_length,\n",
    "        \"num_steps\": num_trials * trial_length,\n",
    "        \"model_batch_size\": 32,\n",
    "        \"validation_ratio\": 0.05\n",
    "    }\n",
    "}\n",
    "cfg = omegaconf.OmegaConf.create(cfg_dict)"
   ]
  },
  {
   "cell_type": "markdown",
   "metadata": {},
   "source": [
    "<div class=\"alert alert-block alert-info\"><b>Note: </b> This example uses a probabilistic ensemble. You can also use a fully deterministic model with class GaussianMLP by setting ensemble_size=1, and deterministic=True. </div>"
   ]
  },
  {
   "cell_type": "markdown",
   "metadata": {},
   "source": [
    "# Creating a dynamics model\n",
    "\n",
    "Given the configuration above, the following two lines of code create a wrapper for 1-D transition reward models, and a gym-like environment that wraps it, which we can use for simulating the real environment. The 1-D model wrapper takes care of creating input/output data tensors to the underlying NN model (by concatenating observations, actions and rewards appropriately), normalizing the input data to the model, and other data processing tasks (e.g., converting observation targets to deltas with respect to the input observation)."
   ]
  },
  {
   "cell_type": "code",
   "execution_count": null,
   "metadata": {},
   "outputs": [],
   "source": [
    "# Create a 1-D dynamics model for this environment\n",
    "dynamics_model = common_util.create_one_dim_tr_model(cfg, obs_shape, act_shape)\n",
    "\n",
    "# Create a gym-like environment to encapsulate the model\n",
    "model_env = models.ModelEnv(env, dynamics_model, term_fn, reward_fn, generator=generator)"
   ]
  },
  {
   "cell_type": "markdown",
   "metadata": {},
   "source": [
    "# Create a replay buffer\n",
    "\n",
    "We can create a replay buffer for this environment an configuration using the following method"
   ]
  },
  {
   "cell_type": "code",
   "execution_count": null,
   "metadata": {},
   "outputs": [],
   "source": [
    "replay_buffer = common_util.create_replay_buffer(cfg, obs_shape, act_shape, rng=rng)"
   ]
  },
  {
   "cell_type": "markdown",
   "metadata": {},
   "source": [
    "We can now populate the replay buffer with random trajectories of a desired length, using a single function call to `util.rollout_agent_trajectories`. Note that we pass an agent of type `planning.RandomAgent` to generate the actions; however, this method accepts any agent that is a subclass of `planning.Agent`, allowing changing exploration strategies with minimal changes to the code. "
   ]
  },
  {
   "cell_type": "code",
   "execution_count": null,
   "metadata": {},
   "outputs": [],
   "source": [
    "common_util.rollout_agent_trajectories(\n",
    "    env,\n",
    "    trial_length, # initial exploration steps\n",
    "    planning.RandomAgent(env),\n",
    "    {}, # keyword arguments to pass to agent.act()\n",
    "    replay_buffer=replay_buffer,\n",
    "    trial_length=trial_length\n",
    ")\n",
    "\n",
    "print(\"# samples stored\", replay_buffer.num_stored)"
   ]
  },
  {
   "cell_type": "markdown",
   "metadata": {},
   "source": [
    "# CEM Agent\n",
    "\n",
    "The following config object and the subsequent function call create an agent that can plan using the Cross-Entropy Method over the model environment created above. When calling `planning.create_trajectory_optim_agent_for_model`, we also specify how many particles to use when propagating model uncertainty, as well as the uncertainty propagation method, \"fixed_model\", which corresponds to the method TS$\\infty$ in the PETS paper."
   ]
  },
  {
   "cell_type": "code",
   "execution_count": null,
   "metadata": {},
   "outputs": [],
   "source": [
    "agent_cfg = omegaconf.OmegaConf.create({\n",
    "    # this class evaluates many trajectories and picks the best one\n",
    "    \"_target_\": \"mbrl.planning.TrajectoryOptimizerAgent\",\n",
    "    \"planning_horizon\": 15,\n",
    "    \"replan_freq\": 1,\n",
    "    \"verbose\": False,\n",
    "    \"action_lb\": \"???\",\n",
    "    \"action_ub\": \"???\",\n",
    "    # this is the optimizer to generate and choose a trajectory\n",
    "    \"optimizer_cfg\": {\n",
    "        \"_target_\": \"mbrl.planning.CEMOptimizer\",\n",
    "        \"num_iterations\": 5,\n",
    "        \"elite_ratio\": 0.1,\n",
    "        \"population_size\": 500,\n",
    "        \"alpha\": 0.1,\n",
    "        \"device\": device,\n",
    "        \"lower_bound\": \"???\",\n",
    "        \"upper_bound\": \"???\",\n",
    "        \"return_mean_elites\": True,\n",
    "        \"clipped_normal\": False\n",
    "    }\n",
    "})\n",
    "\n",
    "agent = planning.create_trajectory_optim_agent_for_model(\n",
    "    model_env,\n",
    "    agent_cfg,\n",
    "    num_particles=20\n",
    ")"
   ]
  },
  {
   "cell_type": "markdown",
   "metadata": {},
   "source": [
    "# Running PETS"
   ]
  },
  {
   "cell_type": "markdown",
   "metadata": {},
   "source": [
    "Having a model and an agent, we can now run PETS with a simple loop and a few function calls. The first code block creates a callback to pass to the model trainer to accumulate the training losses and validation scores observed. The second block is just a utility function to update the agent's visualization."
   ]
  },
  {
   "cell_type": "code",
   "execution_count": null,
   "metadata": {},
   "outputs": [],
   "source": [
    "train_losses = []\n",
    "val_scores = []\n",
    "\n",
    "def train_callback(_model, _total_calls, _epoch, tr_loss, val_score, _best_val):\n",
    "    train_losses.append(tr_loss)\n",
    "    val_scores.append(val_score.mean().item())   # this returns val score per ensemble model"
   ]
  },
  {
   "cell_type": "code",
   "execution_count": null,
   "metadata": {},
   "outputs": [],
   "source": [
    "def update_axes(_axs, _frame, _text, _trial, _steps_trial, _all_rewards, force_update=False):\n",
    "    if not force_update and (_steps_trial % 10 != 0):\n",
    "        return\n",
    "    _axs[0].imshow(_frame)\n",
    "    _axs[0].set_xticks([])\n",
    "    _axs[0].set_yticks([])\n",
    "    _axs[1].clear()\n",
    "    _axs[1].set_xlim([0, num_trials + .1])\n",
    "    _axs[1].set_ylim([0, 200])\n",
    "    _axs[1].set_xlabel(\"Trial\")\n",
    "    _axs[1].set_ylabel(\"Trial reward\")\n",
    "    _axs[1].plot(_all_rewards, 'bs-')\n",
    "    _text.set_text(f\"Trial {_trial + 1}: {_steps_trial} steps\")\n",
    "    display.display(plt.gcf())  \n",
    "    display.clear_output(wait=True)"
   ]
  },
  {
   "cell_type": "markdown",
   "metadata": {},
   "source": [
    "The following lines implement the PETS algorithm. First, we create a model trainer and pass some hyperparameters for the optimizer (Adam), along with references to the model instance to use. Then we start a loop where we execute actions of ``agent`` in the environment and train the model at the beginning of the episode (by calling ``model_trainer.train()``. At every step in the loop, we execute an agent action in the environment and populate the replay buffer by calling ``util.step_env_and_add_to_buffer()``. Importantly, at the beginning of each episode we also call ``agent.reset()`` to clear any episode dependent cache; in the case of a ``TrajectoryOptimizerAgent``, this means clearing the previous action sequence found, which is shifted at every call to obtain an initial solution for the optimizer. \n",
    "\n",
    "The rest of the code is mostly bookkeeping to keep track of the total reward observed during each episode, and to make sure episodes terminate after some desired length. After running this code, you should see the agent reaching the maximum reward of 200 after a few episodes."
   ]
  },
  {
   "cell_type": "code",
   "execution_count": null,
   "metadata": {
    "scrolled": true
   },
   "outputs": [],
   "source": [
    "# Create a trainer for the model\n",
    "model_trainer = models.ModelTrainer(dynamics_model, optim_lr=1e-3, weight_decay=5e-5)\n",
    "\n",
    "# Create visualization objects\n",
    "fig, axs = plt.subplots(1, 2, figsize=(14, 3.75), gridspec_kw={\"width_ratios\": [1, 1]})\n",
    "ax_text = axs[0].text(300, 50, \"\")\n",
    "    \n",
    "# Main PETS loop\n",
    "all_rewards = [0]\n",
    "for trial in range(num_trials):\n",
    "    obs, _ = env.reset(None)    \n",
    "    agent.reset()\n",
    "    \n",
    "    terminated = False\n",
    "    total_reward = 0.0\n",
    "    steps_trial = 0\n",
    "    update_axes(axs, env.render(), ax_text, trial, steps_trial, all_rewards)\n",
    "    while not terminated:\n",
    "        # --------------- Model Training -----------------\n",
    "        if steps_trial == 0:\n",
    "            dynamics_model.update_normalizer(replay_buffer.get_all())  # update normalizer stats\n",
    "            \n",
    "            dataset_train, dataset_val = common_util.get_basic_buffer_iterators(\n",
    "                replay_buffer,\n",
    "                batch_size=cfg.overrides.model_batch_size,\n",
    "                val_ratio=cfg.overrides.validation_ratio,\n",
    "                ensemble_size=ensemble_size,\n",
    "                shuffle_each_epoch=True,\n",
    "                bootstrap_permutes=False,  # build bootstrap dataset using sampling with replacement\n",
    "            )\n",
    "                \n",
    "            model_trainer.train(\n",
    "                dataset_train, \n",
    "                dataset_val=dataset_val, \n",
    "                num_epochs=50, \n",
    "                patience=50, \n",
    "                callback=train_callback,\n",
    "                silent=True)\n",
    "\n",
    "        # --- Doing env step using the agent and adding to model dataset ---\n",
    "        next_obs, reward, terminated, truncated, _ = common_util.step_env_and_add_to_buffer(\n",
    "            env, obs, agent, {}, replay_buffer)\n",
    "            \n",
    "        update_axes(\n",
    "            axs, env.render(), ax_text, trial, steps_trial, all_rewards)\n",
    "        \n",
    "        obs = next_obs\n",
    "        total_reward += reward\n",
    "        steps_trial += 1\n",
    "        \n",
    "        if steps_trial == trial_length:\n",
    "            break\n",
    "    \n",
    "    all_rewards.append(total_reward)\n",
    "\n",
    "update_axes(axs, env.render(), ax_text, trial, steps_trial, all_rewards, force_update=True)"
   ]
  },
  {
   "cell_type": "markdown",
   "metadata": {},
   "source": [
    "Finally, below we check the results of the trainer callback, which show the training loss and validation score across all calls to ``model_trainer.train()``."
   ]
  },
  {
   "cell_type": "code",
   "execution_count": null,
   "metadata": {},
   "outputs": [],
   "source": [
    "fig, ax = plt.subplots(2, 1, figsize=(12, 10))\n",
    "ax[0].plot(train_losses)\n",
    "ax[0].set_xlabel(\"Total training epochs\")\n",
    "ax[0].set_ylabel(\"Training loss (avg. NLL)\")\n",
    "ax[1].plot(val_scores)\n",
    "ax[1].set_xlabel(\"Total training epochs\")\n",
    "ax[1].set_ylabel(\"Validation score (avg. MSE)\")\n",
    "plt.show()"
   ]
  },
  {
   "cell_type": "markdown",
   "metadata": {},
   "source": [
    "# Where to learn more about MBRL?"
   ]
  },
  {
   "cell_type": "markdown",
   "metadata": {},
   "source": [
    "To learn about the other features of the library, please check out our [documentation](https://facebookresearch.github.io/mbrl-lib/). Also take a look at our provided implementations of [PETS](https://github.com/facebookresearch/mbrl-lib/blob/main/mbrl/algorithms/pets.py), [MBPO](https://github.com/facebookresearch/mbrl-lib/blob/main/mbrl/algorithms/mbpo.py), and [PlaNet](https://github.com/facebookresearch/mbrl-lib/blob/main/mbrl/algorithms/planet.py), and their configuration [files](https://github.com/facebookresearch/mbrl-lib/tree/main/mbrl/examples/conf)."
   ]
  }
 ],
 "metadata": {
  "kernelspec": {
   "display_name": "Python 3 (ipykernel)",
   "language": "python",
   "name": "python3"
  },
  "language_info": {
   "codemirror_mode": {
    "name": "ipython",
    "version": 3
   },
   "file_extension": ".py",
   "mimetype": "text/x-python",
   "name": "python",
   "nbconvert_exporter": "python",
   "pygments_lexer": "ipython3",
   "version": "3.11.5"
  }
 },
 "nbformat": 4,
 "nbformat_minor": 4
}
