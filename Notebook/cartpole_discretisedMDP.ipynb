{
 "cells": [
  {
   "cell_type": "code",
   "execution_count": 1,
   "id": "2a92420d",
   "metadata": {},
   "outputs": [
    {
     "name": "stdout",
     "output_type": "stream",
     "text": [
      "Requirement already satisfied: tensorflow in /home/jeeva/anaconda3/lib/python3.11/site-packages (2.15.0.post1)\n",
      "Requirement already satisfied: absl-py>=1.0.0 in /home/jeeva/anaconda3/lib/python3.11/site-packages (from tensorflow) (2.0.0)\n",
      "Requirement already satisfied: astunparse>=1.6.0 in /home/jeeva/anaconda3/lib/python3.11/site-packages (from tensorflow) (1.6.3)\n",
      "Requirement already satisfied: flatbuffers>=23.5.26 in /home/jeeva/anaconda3/lib/python3.11/site-packages (from tensorflow) (23.5.26)\n",
      "Requirement already satisfied: gast!=0.5.0,!=0.5.1,!=0.5.2,>=0.2.1 in /home/jeeva/anaconda3/lib/python3.11/site-packages (from tensorflow) (0.5.4)\n",
      "Requirement already satisfied: google-pasta>=0.1.1 in /home/jeeva/anaconda3/lib/python3.11/site-packages (from tensorflow) (0.2.0)\n",
      "Requirement already satisfied: h5py>=2.9.0 in /home/jeeva/anaconda3/lib/python3.11/site-packages (from tensorflow) (3.9.0)\n",
      "Requirement already satisfied: libclang>=13.0.0 in /home/jeeva/anaconda3/lib/python3.11/site-packages (from tensorflow) (16.0.6)\n",
      "Requirement already satisfied: ml-dtypes~=0.2.0 in /home/jeeva/anaconda3/lib/python3.11/site-packages (from tensorflow) (0.2.0)\n",
      "Requirement already satisfied: numpy<2.0.0,>=1.23.5 in /home/jeeva/anaconda3/lib/python3.11/site-packages (from tensorflow) (1.24.3)\n",
      "Requirement already satisfied: opt-einsum>=2.3.2 in /home/jeeva/anaconda3/lib/python3.11/site-packages (from tensorflow) (3.3.0)\n",
      "Requirement already satisfied: packaging in /home/jeeva/anaconda3/lib/python3.11/site-packages (from tensorflow) (23.1)\n",
      "Requirement already satisfied: protobuf!=4.21.0,!=4.21.1,!=4.21.2,!=4.21.3,!=4.21.4,!=4.21.5,<5.0.0dev,>=3.20.3 in /home/jeeva/anaconda3/lib/python3.11/site-packages (from tensorflow) (4.23.4)\n",
      "Requirement already satisfied: setuptools in /home/jeeva/anaconda3/lib/python3.11/site-packages (from tensorflow) (68.0.0)\n",
      "Requirement already satisfied: six>=1.12.0 in /home/jeeva/anaconda3/lib/python3.11/site-packages (from tensorflow) (1.16.0)\n",
      "Requirement already satisfied: termcolor>=1.1.0 in /home/jeeva/anaconda3/lib/python3.11/site-packages (from tensorflow) (2.4.0)\n",
      "Requirement already satisfied: typing-extensions>=3.6.6 in /home/jeeva/anaconda3/lib/python3.11/site-packages (from tensorflow) (4.7.1)\n",
      "Requirement already satisfied: wrapt<1.15,>=1.11.0 in /home/jeeva/anaconda3/lib/python3.11/site-packages (from tensorflow) (1.14.1)\n",
      "Requirement already satisfied: tensorflow-io-gcs-filesystem>=0.23.1 in /home/jeeva/anaconda3/lib/python3.11/site-packages (from tensorflow) (0.34.0)\n",
      "Requirement already satisfied: grpcio<2.0,>=1.24.3 in /home/jeeva/anaconda3/lib/python3.11/site-packages (from tensorflow) (1.60.0)\n",
      "Requirement already satisfied: tensorboard<2.16,>=2.15 in /home/jeeva/anaconda3/lib/python3.11/site-packages (from tensorflow) (2.15.1)\n",
      "Requirement already satisfied: tensorflow-estimator<2.16,>=2.15.0 in /home/jeeva/anaconda3/lib/python3.11/site-packages (from tensorflow) (2.15.0)\n",
      "Requirement already satisfied: keras<2.16,>=2.15.0 in /home/jeeva/anaconda3/lib/python3.11/site-packages (from tensorflow) (2.15.0)\n",
      "Requirement already satisfied: wheel<1.0,>=0.23.0 in /home/jeeva/anaconda3/lib/python3.11/site-packages (from astunparse>=1.6.0->tensorflow) (0.38.4)\n",
      "Requirement already satisfied: google-auth<3,>=1.6.3 in /home/jeeva/anaconda3/lib/python3.11/site-packages (from tensorboard<2.16,>=2.15->tensorflow) (2.25.2)\n",
      "Requirement already satisfied: google-auth-oauthlib<2,>=0.5 in /home/jeeva/anaconda3/lib/python3.11/site-packages (from tensorboard<2.16,>=2.15->tensorflow) (1.2.0)\n",
      "Requirement already satisfied: markdown>=2.6.8 in /home/jeeva/anaconda3/lib/python3.11/site-packages (from tensorboard<2.16,>=2.15->tensorflow) (3.4.1)\n",
      "Requirement already satisfied: requests<3,>=2.21.0 in /home/jeeva/anaconda3/lib/python3.11/site-packages (from tensorboard<2.16,>=2.15->tensorflow) (2.31.0)\n",
      "Requirement already satisfied: tensorboard-data-server<0.8.0,>=0.7.0 in /home/jeeva/anaconda3/lib/python3.11/site-packages (from tensorboard<2.16,>=2.15->tensorflow) (0.7.2)\n",
      "Requirement already satisfied: werkzeug>=1.0.1 in /home/jeeva/anaconda3/lib/python3.11/site-packages (from tensorboard<2.16,>=2.15->tensorflow) (2.2.3)\n",
      "Requirement already satisfied: cachetools<6.0,>=2.0.0 in /home/jeeva/anaconda3/lib/python3.11/site-packages (from google-auth<3,>=1.6.3->tensorboard<2.16,>=2.15->tensorflow) (5.3.2)\n",
      "Requirement already satisfied: pyasn1-modules>=0.2.1 in /home/jeeva/anaconda3/lib/python3.11/site-packages (from google-auth<3,>=1.6.3->tensorboard<2.16,>=2.15->tensorflow) (0.2.8)\n",
      "Requirement already satisfied: rsa<5,>=3.1.4 in /home/jeeva/anaconda3/lib/python3.11/site-packages (from google-auth<3,>=1.6.3->tensorboard<2.16,>=2.15->tensorflow) (4.9)\n",
      "Requirement already satisfied: requests-oauthlib>=0.7.0 in /home/jeeva/anaconda3/lib/python3.11/site-packages (from google-auth-oauthlib<2,>=0.5->tensorboard<2.16,>=2.15->tensorflow) (1.3.1)\n",
      "Requirement already satisfied: charset-normalizer<4,>=2 in /home/jeeva/anaconda3/lib/python3.11/site-packages (from requests<3,>=2.21.0->tensorboard<2.16,>=2.15->tensorflow) (2.0.4)\n",
      "Requirement already satisfied: idna<4,>=2.5 in /home/jeeva/anaconda3/lib/python3.11/site-packages (from requests<3,>=2.21.0->tensorboard<2.16,>=2.15->tensorflow) (3.4)\n",
      "Requirement already satisfied: urllib3<3,>=1.21.1 in /home/jeeva/anaconda3/lib/python3.11/site-packages (from requests<3,>=2.21.0->tensorboard<2.16,>=2.15->tensorflow) (1.26.16)\n",
      "Requirement already satisfied: certifi>=2017.4.17 in /home/jeeva/anaconda3/lib/python3.11/site-packages (from requests<3,>=2.21.0->tensorboard<2.16,>=2.15->tensorflow) (2023.7.22)\n",
      "Requirement already satisfied: MarkupSafe>=2.1.1 in /home/jeeva/anaconda3/lib/python3.11/site-packages (from werkzeug>=1.0.1->tensorboard<2.16,>=2.15->tensorflow) (2.1.1)\n",
      "Requirement already satisfied: pyasn1<0.5.0,>=0.4.6 in /home/jeeva/anaconda3/lib/python3.11/site-packages (from pyasn1-modules>=0.2.1->google-auth<3,>=1.6.3->tensorboard<2.16,>=2.15->tensorflow) (0.4.8)\n",
      "Requirement already satisfied: oauthlib>=3.0.0 in /home/jeeva/anaconda3/lib/python3.11/site-packages (from requests-oauthlib>=0.7.0->google-auth-oauthlib<2,>=0.5->tensorboard<2.16,>=2.15->tensorflow) (3.2.2)\n",
      "Requirement already satisfied: pandas in /home/jeeva/anaconda3/lib/python3.11/site-packages (2.0.3)\n",
      "Requirement already satisfied: python-dateutil>=2.8.2 in /home/jeeva/anaconda3/lib/python3.11/site-packages (from pandas) (2.8.2)\n",
      "Requirement already satisfied: pytz>=2020.1 in /home/jeeva/anaconda3/lib/python3.11/site-packages (from pandas) (2023.3.post1)\n",
      "Requirement already satisfied: tzdata>=2022.1 in /home/jeeva/anaconda3/lib/python3.11/site-packages (from pandas) (2023.3)\n",
      "Requirement already satisfied: numpy>=1.21.0 in /home/jeeva/anaconda3/lib/python3.11/site-packages (from pandas) (1.24.3)\n",
      "Requirement already satisfied: six>=1.5 in /home/jeeva/anaconda3/lib/python3.11/site-packages (from python-dateutil>=2.8.2->pandas) (1.16.0)\n"
     ]
    },
    {
     "name": "stderr",
     "output_type": "stream",
     "text": [
      "2023-12-18 12:55:39.238317: I external/local_tsl/tsl/cuda/cudart_stub.cc:31] Could not find cuda drivers on your machine, GPU will not be used.\n",
      "2023-12-18 12:55:39.967942: E external/local_xla/xla/stream_executor/cuda/cuda_dnn.cc:9261] Unable to register cuDNN factory: Attempting to register factory for plugin cuDNN when one has already been registered\n",
      "2023-12-18 12:55:39.968160: E external/local_xla/xla/stream_executor/cuda/cuda_fft.cc:607] Unable to register cuFFT factory: Attempting to register factory for plugin cuFFT when one has already been registered\n",
      "2023-12-18 12:55:40.084303: E external/local_xla/xla/stream_executor/cuda/cuda_blas.cc:1515] Unable to register cuBLAS factory: Attempting to register factory for plugin cuBLAS when one has already been registered\n",
      "2023-12-18 12:55:40.366038: I external/local_tsl/tsl/cuda/cudart_stub.cc:31] Could not find cuda drivers on your machine, GPU will not be used.\n",
      "2023-12-18 12:55:40.369077: I tensorflow/core/platform/cpu_feature_guard.cc:182] This TensorFlow binary is optimized to use available CPU instructions in performance-critical operations.\n",
      "To enable the following instructions: AVX2 FMA, in other operations, rebuild TensorFlow with the appropriate compiler flags.\n",
      "2023-12-18 12:55:42.668324: W tensorflow/compiler/tf2tensorrt/utils/py_utils.cc:38] TF-TRT Warning: Could not find TensorRT\n"
     ]
    }
   ],
   "source": [
    "import gym\n",
    "import numpy as np\n",
    "import matplotlib.pyplot as plt\n",
    "import random\n",
    "!pip install tensorflow\n",
    "!pip install pandas\n",
    "import pandas as pd\n",
    "from tensorflow.keras.models import Sequential\n",
    "from tensorflow.keras.layers import Dense\n",
    "from tensorflow.keras.optimizers import Adam\n",
    "from collections import deque"
   ]
  },
  {
   "cell_type": "code",
   "execution_count": 2,
   "id": "0db288fc",
   "metadata": {},
   "outputs": [],
   "source": [
    "# Initialize CartPole environment\n",
    "env = gym.make('CartPole-v1')"
   ]
  },
  {
   "cell_type": "code",
   "execution_count": null,
   "id": "b7cad772",
   "metadata": {},
   "outputs": [],
   "source": []
  },
  {
   "cell_type": "code",
   "execution_count": 43,
   "id": "6163a7b6",
   "metadata": {},
   "outputs": [],
   "source": [
    "def envToSamples(env, episodes=1000):\n",
    "    state_size = env.observation_space.shape[0]\n",
    "    action_size = env.action_space.n\n",
    "    variable_name = [\"\"]\n",
    "    samples = []\n",
    "    for episode in range(episodes):\n",
    "        state = env.reset()[0]\n",
    "        #print(type(state))\n",
    "        \n",
    "        while True :#episode_length <= max_episode_length:\n",
    "            # Exploration-exploitation trade-off\n",
    "            action = env.action_space.sample()\n",
    "                \n",
    "            #print(env.step(action))\n",
    "            next_state, reward, done, _, _ = env.step(action)\n",
    "            state = list(state)\n",
    "            action = [action]\n",
    "            reward = [reward]\n",
    "            next_state = list(next_state)\n",
    "            sample = state + action + reward + next_state\n",
    "            #print(sample)\n",
    "            \n",
    "            # Store experience in replay memory\n",
    "            #samples.append((state, action, reward, next_state))\n",
    "\n",
    "            samples.append(sample)\n",
    "            state = next_state\n",
    "\n",
    "            if done:\n",
    "                break\n",
    "    df = pd.DataFrame(samples)\n",
    "    '''\n",
    "    print(df.columns)\n",
    "    column_mapping = {str(i): f'variable_{i}' for i in range(state_size)}\n",
    "    print(column_mapping)\n",
    "    nx_column_mapping = {str(state_size+i+2): f'nx_variable_{i}' for i in range(state_size)}\n",
    "    df = df.rename(columns={str(state_size): 'action',str(state_size+1): 'reward'})\n",
    "    df = df.rename(columns=column_mapping)\n",
    "    df = df.rename(columns=nx_column_mapping)\n",
    "    '''\n",
    "    df.columns = [f'variable_{i}' for i in range(state_size)] + ['action','reward'] + [f'nx_variable_{i}' for i in range(state_size)]\n",
    "    return df"
   ]
  },
  {
   "cell_type": "code",
   "execution_count": 49,
   "id": "729a3a48",
   "metadata": {},
   "outputs": [],
   "source": [
    "#Function to return Minimum and Maximum value of a state feature\n",
    "def min_max_states(non_null_values_col, non_null_values_col_nx):\n",
    "    return min(non_null_values_col.min(),non_null_values_col_nx.min()), max(non_null_values_col.max(),non_null_values_col_nx.max())"
   ]
  },
  {
   "cell_type": "code",
   "execution_count": 51,
   "id": "401e5ef0",
   "metadata": {},
   "outputs": [],
   "source": [
    "def discretiseToBins(bins, df_data):\n",
    "    state_var = []\n",
    "    nx_state_var = []\n",
    "    for i in range(len(bins)):\n",
    "        col_name = 'variable_' + str(i)\n",
    "        col_name_nx = 'nx_' + col_name\n",
    "        non_null_values_col, non_null_values_col_nx = df_data[col_name].dropna(), df_data[col_name_nx].dropna()\n",
    "        state_var.append(col_name)\n",
    "        nx_state_var.append(col_name_nx)\n",
    "        if bins[i] > 1:\n",
    "            min_value, max_value = min_max_states(non_null_values_col, non_null_values_col_nx)\n",
    "            bin_size = (max_value - min_value) / bins[i]\n",
    "            bin = [min_value + i * bin_size for i in range(bins[i] + 1)]\n",
    "            df_data[col_name] = pd.cut(non_null_values_col, bins=bins[i], labels=False) + 1\n",
    "            df_data[col_name_nx] = pd.cut(non_null_values_col_nx, bins=bins[i], labels=False) + 1\n",
    "    df_discrete = pd.DataFrame(df_data['action'])\n",
    "    df_discrete['current_state'] = df_data.loc[:, state_var].apply(lambda row: ', '.join(map(str, row)), axis=1)\n",
    "    df_discrete['next_state'] = df_data.loc[:, nx_state_var].apply(lambda row: ', '.join(map(str, row)), axis=1)\n",
    "    \n",
    "    #Discretized Sample to MDP\n",
    "    df_empirical_probs = df_discrete.groupby(['current_state', 'action', 'next_state']).size().reset_index(name='count')\n",
    "    #print(df_empirical_probs)\n",
    "    df_empirical_count = df_discrete.groupby(['current_state', 'action']).size().reset_index(name='count_total')\n",
    "    #print(df_empirical_count)\n",
    "\n",
    "    df_empirical_probs = df_empirical_probs.merge(df_empirical_count, on=['current_state', 'action'])\n",
    "    df_empirical_probs['probability'] = df_empirical_probs['count'] / df_empirical_probs['count_total']\n",
    "    #print(df_empirical_probs)\n",
    "    \n",
    "    return df_empirical_probs[['current_state', 'action', 'next_state', 'probability']]"
   ]
  },
  {
   "cell_type": "code",
   "execution_count": 45,
   "id": "106d62c5",
   "metadata": {},
   "outputs": [
    {
     "name": "stdout",
     "output_type": "stream",
     "text": [
      "   variable_0  variable_1  variable_2  variable_3  action  reward  \\\n",
      "0   -0.047826   -0.042111   -0.043835   -0.001301       0     1.0   \n",
      "1   -0.048668   -0.236578   -0.043861    0.277235       0     1.0   \n",
      "2   -0.053400   -0.431048   -0.038317    0.555768       1     1.0   \n",
      "3   -0.062020   -0.235409   -0.027201    0.251264       0     1.0   \n",
      "4   -0.066729   -0.430132   -0.022176    0.535244       0     1.0   \n",
      "\n",
      "   nx_variable_0  nx_variable_1  nx_variable_2  nx_variable_3  \n",
      "0      -0.048668      -0.236578      -0.043861       0.277235  \n",
      "1      -0.053400      -0.431048      -0.038317       0.555768  \n",
      "2      -0.062020      -0.235409      -0.027201       0.251264  \n",
      "3      -0.066729      -0.430132      -0.022176       0.535244  \n",
      "4      -0.075331      -0.624936      -0.011471       0.820858  \n"
     ]
    }
   ],
   "source": [
    "samples = envToSamples(env,100)\n",
    "print(samples[0:5])"
   ]
  },
  {
   "cell_type": "code",
   "execution_count": 52,
   "id": "5211e54b",
   "metadata": {},
   "outputs": [
    {
     "name": "stdout",
     "output_type": "stream",
     "text": [
      "  current_state  action  next_state  probability\n",
      "0    1, 1, 1, 1       0  1, 1, 1, 1     0.687500\n",
      "1    1, 1, 1, 1       0  1, 1, 1, 2     0.250000\n",
      "2    1, 1, 1, 1       0  1, 1, 2, 2     0.062500\n",
      "3    1, 1, 1, 1       1  1, 1, 1, 1     0.818182\n",
      "4    1, 1, 1, 1       1  1, 2, 1, 1     0.181818\n"
     ]
    }
   ],
   "source": [
    "discretised_MDP = discretiseToBins([2,2,2,2],samples)\n",
    "print(discretised_MDP[0:5])"
   ]
  },
  {
   "cell_type": "code",
   "execution_count": 53,
   "id": "da9eb4f5",
   "metadata": {},
   "outputs": [],
   "source": [
    "def get_state_variable_names(environment):\n",
    "    # Get the observation space of the environment\n",
    "    observation_space = environment.observation_space\n",
    "\n",
    "    # Extract variable names from the observation space\n",
    "    state_variable_names = []\n",
    "    if isinstance(observation_space, gym.spaces.Dict):\n",
    "        # If the observation space is a dictionary\n",
    "        state_variable_names = list(observation_space.spaces.keys())\n",
    "    elif isinstance(observation_space, gym.spaces.Tuple):\n",
    "        # If the observation space is a tuple\n",
    "        state_variable_names = [f\"variable_{i+1}\" for i in range(len(observation_space))]\n",
    "    else:\n",
    "        # If the observation space is a single variable\n",
    "        state_variable_names = [\"state\"]\n",
    "\n",
    "    return state_variable_names"
   ]
  },
  {
   "cell_type": "code",
   "execution_count": 55,
   "id": "7e52acac",
   "metadata": {},
   "outputs": [
    {
     "name": "stdout",
     "output_type": "stream",
     "text": [
      "['state']\n"
     ]
    }
   ],
   "source": [
    "print(get_state_variable_names(env))"
   ]
  },
  {
   "cell_type": "code",
   "execution_count": null,
   "id": "c8e396d6",
   "metadata": {},
   "outputs": [],
   "source": []
  }
 ],
 "metadata": {
  "kernelspec": {
   "display_name": "Python 3 (ipykernel)",
   "language": "python",
   "name": "python3"
  },
  "language_info": {
   "codemirror_mode": {
    "name": "ipython",
    "version": 3
   },
   "file_extension": ".py",
   "mimetype": "text/x-python",
   "name": "python",
   "nbconvert_exporter": "python",
   "pygments_lexer": "ipython3",
   "version": "3.11.5"
  }
 },
 "nbformat": 4,
 "nbformat_minor": 5
}
