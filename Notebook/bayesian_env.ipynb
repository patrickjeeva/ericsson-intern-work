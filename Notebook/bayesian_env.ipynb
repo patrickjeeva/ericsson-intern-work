{
 "cells": [
  {
   "cell_type": "code",
   "execution_count": 40,
   "id": "2d44b7e4",
   "metadata": {},
   "outputs": [
    {
     "name": "stdout",
     "output_type": "stream",
     "text": [
      "Requirement already satisfied: torchbnn in /home/jeeva/anaconda3/lib/python3.11/site-packages (1.2)\n",
      "\u001b[33mDEPRECATION: omegaconf 2.0.6 has a non-standard dependency specifier PyYAML>=5.1.*. pip 24.0 will enforce this behaviour change. A possible replacement is to upgrade to a newer version of omegaconf or contact the author to suggest that they release a version with a conforming dependency specifiers. Discussion can be found at https://github.com/pypa/pip/issues/12063\u001b[0m\u001b[33m\n",
      "\u001b[0m\n",
      "\u001b[1m[\u001b[0m\u001b[34;49mnotice\u001b[0m\u001b[1;39;49m]\u001b[0m\u001b[39;49m A new release of pip is available: \u001b[0m\u001b[31;49m23.3.2\u001b[0m\u001b[39;49m -> \u001b[0m\u001b[32;49m24.0\u001b[0m\n",
      "\u001b[1m[\u001b[0m\u001b[34;49mnotice\u001b[0m\u001b[1;39;49m]\u001b[0m\u001b[39;49m To update, run: \u001b[0m\u001b[32;49mpip install --upgrade pip\u001b[0m\n"
     ]
    }
   ],
   "source": [
    "import gym\n",
    "!pip install torchbnn\n",
    "import numpy as np\n",
    "import pandas as pd\n",
    "import matplotlib.pyplot as plt\n",
    "import random\n",
    "\n",
    "import torch\n",
    "import torch.nn as nn\n",
    "import torch.nn.functional as F\n",
    "import torch.optim as optim\n",
    "\n",
    "import torchbnn as bnn\n",
    "\n",
    "import sklearn\n",
    "from sklearn.metrics import mean_squared_error, r2_score\n",
    "\n",
    "import pickle\n",
    "\n",
    "import os"
   ]
  },
  {
   "cell_type": "code",
   "execution_count": 41,
   "id": "ddc3916a",
   "metadata": {},
   "outputs": [
    {
     "name": "stdout",
     "output_type": "stream",
     "text": [
      "cuda\n"
     ]
    }
   ],
   "source": [
    "# Check GPU availability\n",
    "device = torch.device(\"cuda\" if torch.cuda.is_available() else \"cpu\")\n",
    "print(device)"
   ]
  },
  {
   "cell_type": "code",
   "execution_count": 42,
   "id": "dcd176e3",
   "metadata": {},
   "outputs": [],
   "source": [
    "# Initialize CartPole environment\n",
    "env_name = 'CartPole-v1'\n",
    "#env_name = 'MountainCarContinuous-v0'\n",
    "#env_name = 'MountainCar-v0'\n",
    "#env_name = 'Pendulum-v1'\n",
    "\n",
    "# Create the CartPole environment\n",
    "env = gym.make(env_name)"
   ]
  },
  {
   "cell_type": "code",
   "execution_count": 43,
   "id": "d8a53775",
   "metadata": {},
   "outputs": [],
   "source": [
    "class BayesianNN(nn.Module):\n",
    "    def __init__(self, input_size, output_size, num_hidden_layers, hidden_layer_nodes, activation):\n",
    "        super(BayesianNN, self).__init__()\n",
    "        self.input_size = input_size\n",
    "        self.output_size = output_size\n",
    "        self.num_hidden_layers = num_hidden_layers\n",
    "        self.hidden_layer_nodes = hidden_layer_nodes\n",
    "        self.activation = activation\n",
    "        \n",
    "        # Define the layers\n",
    "#         self.input_layer = nn.Linear(input_size, hidden_layer_nodes)\n",
    "        self.input_layer = bnn.BayesLinear(prior_mu=0, prior_sigma=0.1, in_features=input_size, out_features=hidden_layer_nodes)\n",
    "        self.hidden_layers = nn.ModuleList()\n",
    "        for _ in range(num_hidden_layers):\n",
    "#           self.hidden_layers.append(nn.Linear(hidden_layer_nodes, hidden_layer_nodes))\n",
    "            self.hidden_layers.append(bnn.BayesLinear(prior_mu=0, prior_sigma=0.1, in_features=hidden_layer_nodes, out_features=hidden_layer_nodes))\n",
    "#        self.output_layer = nn.Linear(hidden_layer_nodes, output_size)\n",
    "        self.output_layer = bnn.BayesLinear(prior_mu=0, prior_sigma=0.1, in_features=hidden_layer_nodes, out_features=output_size)\n",
    "        \n",
    "\n",
    "    def forward(self, x):\n",
    "        x = self.activation(self.input_layer(x))\n",
    "        for hidden_layer in self.hidden_layers:\n",
    "            x = self.activation(hidden_layer(x))\n",
    "        output = self.output_layer(x)\n",
    "        return output\n"
   ]
  },
  {
   "cell_type": "code",
   "execution_count": 44,
   "id": "9c268e0a",
   "metadata": {},
   "outputs": [],
   "source": [
    "#Initialize parameters for model\n",
    "action = env.action_space.sample()\n",
    "\n",
    "if isinstance(action, int):\n",
    "    input_size = env.observation_space.shape[0] + 1\n",
    "elif isinstance(action, np.ndarray):\n",
    "    input_size = env.observation_space.shape[0] + len(action)\n",
    "\n",
    "output_size = env.observation_space.shape[0] + 2\n",
    "num_hidden_layers = 3\n",
    "hidden_layer_nodes = 20\n",
    "activation = F.relu\n",
    "learning_rate = 0.01\n",
    "dropout_prob = 0.3\n",
    "num_networks = 5\n",
    "\n",
    "# Instantiate the model\n",
    "model = BayesianNN(input_size, output_size, num_hidden_layers, hidden_layer_nodes, activation).to(device)\n",
    "\n",
    "mse_loss = nn.MSELoss()\n",
    "kl_loss = bnn.BKLLoss(reduction='mean', last_layer_only=False)\n",
    "kl_weight = 0.01\n",
    "\n",
    "optimizer = optim.Adam(model.parameters(), lr=learning_rate)"
   ]
  },
  {
   "cell_type": "code",
   "execution_count": 45,
   "id": "112fd8a2",
   "metadata": {},
   "outputs": [],
   "source": [
    "batch_size = 32\n",
    "\n",
    "num_samples = '50k'\n",
    "\n",
    "# Load datasets\n",
    "with open(env_name + '_' + num_samples + '_train_dataset.pkl', 'rb') as f:\n",
    "    train_dataset_loaded = pickle.load(f)\n",
    "\n",
    "with open(env_name + '_' + num_samples + '_test_dataset.pkl', 'rb') as f:\n",
    "    test_dataset_loaded = pickle.load(f)\n",
    "\n",
    "train_loader = torch.utils.data.DataLoader(train_dataset_loaded, batch_size=batch_size, shuffle=True)\n",
    "test_loader = torch.utils.data.DataLoader(test_dataset_loaded, batch_size=batch_size, shuffle=False)"
   ]
  },
  {
   "cell_type": "code",
   "execution_count": 46,
   "id": "f7e75a52",
   "metadata": {},
   "outputs": [
    {
     "name": "stdout",
     "output_type": "stream",
     "text": [
      "Epoch [1/50], Training Loss: 4.3209929001808165\n",
      "Epoch [1/50], Test Loss: 2.176631441893288\n",
      "Epoch [2/50], Training Loss: 1.7719168792724609\n",
      "Epoch [2/50], Test Loss: 1.5489615304782367\n",
      "Epoch [3/50], Training Loss: 1.5208581707954407\n",
      "Epoch [3/50], Test Loss: 1.5089779858010264\n",
      "Epoch [4/50], Training Loss: 1.4358794254779816\n",
      "Epoch [4/50], Test Loss: 1.4459783335844167\n",
      "Epoch [5/50], Training Loss: 1.399498890209198\n",
      "Epoch [5/50], Test Loss: 1.3802752746179843\n",
      "Epoch [6/50], Training Loss: 1.38739108915329\n",
      "Epoch [6/50], Test Loss: 1.3216576334386587\n",
      "Epoch [7/50], Training Loss: 1.3771313128948213\n",
      "Epoch [7/50], Test Loss: 1.4034194814892242\n",
      "Epoch [8/50], Training Loss: 1.3788355412483215\n",
      "Epoch [8/50], Test Loss: 1.3331870884179307\n",
      "Epoch [9/50], Training Loss: 1.3698842994689941\n",
      "Epoch [9/50], Test Loss: 1.4189365970821808\n",
      "Epoch [10/50], Training Loss: 1.356469921875\n",
      "Epoch [10/50], Test Loss: 1.4153417162240123\n",
      "Epoch [11/50], Training Loss: 1.3542790043354034\n",
      "Epoch [11/50], Test Loss: 1.3305909532708482\n",
      "Epoch [12/50], Training Loss: 1.3520019957065583\n",
      "Epoch [12/50], Test Loss: 1.3413890030818245\n",
      "Epoch [13/50], Training Loss: 1.3482550387859344\n",
      "Epoch [13/50], Test Loss: 1.3360233556348295\n",
      "Epoch [14/50], Training Loss: 1.344299518108368\n",
      "Epoch [14/50], Test Loss: 1.3387651129271656\n",
      "Epoch [15/50], Training Loss: 1.3409643657207488\n",
      "Epoch [15/50], Test Loss: 1.3322331733977832\n",
      "Epoch [16/50], Training Loss: 1.3423091443538666\n",
      "Epoch [16/50], Test Loss: 1.3237949284120871\n",
      "Epoch [17/50], Training Loss: 1.3376509799480438\n",
      "Epoch [17/50], Test Loss: 1.281833062347132\n",
      "Epoch [18/50], Training Loss: 1.331981659269333\n",
      "Epoch [18/50], Test Loss: 1.4542625811153327\n",
      "Epoch [19/50], Training Loss: 1.3286822874546051\n",
      "Epoch [19/50], Test Loss: 1.4398605256034924\n",
      "Epoch [20/50], Training Loss: 1.323258252429962\n",
      "Epoch [20/50], Test Loss: 1.3650358856295626\n",
      "Epoch [21/50], Training Loss: 1.3299906739234924\n",
      "Epoch [21/50], Test Loss: 1.433040500829776\n",
      "Epoch [22/50], Training Loss: 1.3181120501041412\n",
      "Epoch [22/50], Test Loss: 1.3560999176753596\n",
      "Epoch [23/50], Training Loss: 1.3243043637275695\n",
      "Epoch [23/50], Test Loss: 1.325205863283846\n",
      "Epoch [24/50], Training Loss: 1.317031459236145\n",
      "Epoch [24/50], Test Loss: 1.331786692523347\n",
      "Epoch [25/50], Training Loss: 1.3229246755599975\n",
      "Epoch [25/50], Test Loss: 1.3057404171925384\n",
      "Epoch [26/50], Training Loss: 1.3167563234806061\n",
      "Epoch [26/50], Test Loss: 1.363971497875433\n",
      "Epoch [27/50], Training Loss: 1.3194214495658874\n",
      "Epoch [27/50], Test Loss: 1.3489390419314082\n",
      "Epoch [28/50], Training Loss: 1.3208504614830017\n",
      "Epoch [28/50], Test Loss: 1.3726942979108792\n",
      "Epoch [29/50], Training Loss: 1.3118825707912445\n",
      "Epoch [29/50], Test Loss: 1.3485457470622688\n",
      "Epoch [30/50], Training Loss: 1.315033673095703\n",
      "Epoch [30/50], Test Loss: 1.3071944862128067\n",
      "Epoch [31/50], Training Loss: 1.313842840528488\n",
      "Epoch [31/50], Test Loss: 1.2809158883536587\n",
      "Epoch [32/50], Training Loss: 1.3157835549354553\n",
      "Epoch [32/50], Test Loss: 1.3385267491919546\n",
      "Epoch [33/50], Training Loss: 1.3127562746047974\n",
      "Epoch [33/50], Test Loss: 1.3601702072749884\n",
      "Epoch [34/50], Training Loss: 1.3121639217853547\n",
      "Epoch [34/50], Test Loss: 1.2785117186296482\n",
      "Epoch [35/50], Training Loss: 1.3165174578189849\n",
      "Epoch [35/50], Test Loss: 1.3675411661592916\n",
      "Epoch [36/50], Training Loss: 1.3193673132896424\n",
      "Epoch [36/50], Test Loss: 1.3527124864986528\n",
      "Epoch [37/50], Training Loss: 1.3101544010162354\n",
      "Epoch [37/50], Test Loss: 1.3329995253596443\n",
      "Epoch [38/50], Training Loss: 1.3158547030448913\n",
      "Epoch [38/50], Test Loss: 1.4278683207286433\n",
      "Epoch [39/50], Training Loss: 1.3154577415943145\n",
      "Epoch [39/50], Test Loss: 1.368920742894133\n",
      "Epoch [40/50], Training Loss: 1.314366037416458\n",
      "Epoch [40/50], Test Loss: 1.2990624904632568\n",
      "Epoch [41/50], Training Loss: 1.3181327251911164\n",
      "Epoch [41/50], Test Loss: 1.304401226698781\n",
      "Epoch [42/50], Training Loss: 1.3156515195846559\n",
      "Epoch [42/50], Test Loss: 1.374446177444519\n",
      "Epoch [43/50], Training Loss: 1.3119709087848663\n",
      "Epoch [43/50], Test Loss: 1.3283217821639186\n",
      "Epoch [44/50], Training Loss: 1.3184349687099457\n",
      "Epoch [44/50], Test Loss: 1.3248669318497752\n",
      "Epoch [45/50], Training Loss: 1.3188881894588471\n",
      "Epoch [45/50], Test Loss: 1.2779727751454606\n",
      "Epoch [46/50], Training Loss: 1.3122521643161773\n",
      "Epoch [46/50], Test Loss: 1.3280510755773551\n",
      "Epoch [47/50], Training Loss: 1.3119146770954133\n",
      "Epoch [47/50], Test Loss: 1.2964959919643098\n",
      "Epoch [48/50], Training Loss: 1.3132233097553254\n",
      "Epoch [48/50], Test Loss: 1.3356917513826023\n",
      "Epoch [49/50], Training Loss: 1.304779022884369\n",
      "Epoch [49/50], Test Loss: 1.3805208223315473\n",
      "Epoch [50/50], Training Loss: 1.3208881773471832\n",
      "Epoch [50/50], Test Loss: 1.3000570194789778\n"
     ]
    }
   ],
   "source": [
    "model_weights_file_path = 'bayesian_'+ env_name + '_' + num_samples +'.pth' \n",
    "\n",
    "'''\n",
    "if os.path.exists(model_weights_file_path):\n",
    "    model.load_state_dict(torch.load('model_weights.pth'))\n",
    "'''\n",
    "\n",
    "# Training loop with evaluation\n",
    "num_epochs = 50\n",
    "train_losses = []\n",
    "test_losses = []\n",
    "save_interval = 100\n",
    "for epoch in range(num_epochs):\n",
    "    model.train()\n",
    "    running_loss = 0.0\n",
    "    for inputs, labels in train_loader:\n",
    "        inputs, labels = inputs.to(device), labels.to(device)\n",
    "        optimizer.zero_grad()\n",
    "        outputs = model(inputs)\n",
    "        loss = mse_loss(outputs, labels) + kl_weight * kl_loss(model)\n",
    "        loss.backward()\n",
    "        optimizer.step()\n",
    "        running_loss += loss.item()\n",
    "    epoch_train_loss = running_loss / len(train_loader)\n",
    "    print(f\"Epoch [{epoch + 1}/{num_epochs}], Training Loss: {epoch_train_loss}\")\n",
    "    train_losses.append(epoch_train_loss)\n",
    "    \n",
    "    # Evaluation on test data\n",
    "    #model.eval()\n",
    "    running_test_loss = 0.0\n",
    "    with torch.no_grad():\n",
    "        for inputs, labels in test_loader:\n",
    "            inputs, labels = inputs.to(device), labels.to(device)\n",
    "            outputs = model(inputs)\n",
    "            test_loss = mse_loss(outputs, labels) + kl_weight * kl_loss(model)\n",
    "            running_test_loss += test_loss.item()\n",
    "    epoch_test_loss = running_test_loss / len(test_loader)\n",
    "    print(f\"Epoch [{epoch + 1}/{num_epochs}], Test Loss: {epoch_test_loss}\")\n",
    "    \n",
    "    if (epoch + 1) % save_interval == 0:\n",
    "        # Save model state\n",
    "        torch.save(model.state_dict(), f'bayesian_{env_name}_{num_samples}_epoch_{epoch+1}.pt')\n",
    "        \n",
    "    test_losses.append(epoch_test_loss)"
   ]
  },
  {
   "cell_type": "code",
   "execution_count": 47,
   "id": "118fe1ce",
   "metadata": {},
   "outputs": [
    {
     "data": {
      "image/png": "[encoded data removed]",
      "text/plain": [
       "<Figure size 640x480 with 1 Axes>"
      ]
     },
     "metadata": {},
     "output_type": "display_data"
    }
   ],
   "source": [
    "# Plotting the evaluation loss curve\n",
    "plt.plot(range(1, num_epochs + 1), test_losses, label='Test Loss')\n",
    "plt.plot(range(1, num_epochs + 1), train_losses, label='Training Loss')\n",
    "plt.xlabel('Epochs')\n",
    "plt.ylabel('Loss')\n",
    "plt.title('Evaluation Loss Curve')\n",
    "plt.legend()\n",
    "plt.grid(True)\n",
    "# Save the plot\n",
    "plt.savefig('bayesian_'+ env_name + '_' + num_samples + '_evaluation_loss_curve.png')\n",
    "plt.show()"
   ]
  },
  {
   "cell_type": "code",
   "execution_count": 48,
   "id": "173783ea",
   "metadata": {},
   "outputs": [
    {
     "name": "stdout",
     "output_type": "stream",
     "text": [
      "Mean Squared Error (MSE): 1.2588964700698853\n",
      "R-squared: 0.7249796625345267\n"
     ]
    }
   ],
   "source": [
    "# Switch model to evaluation mode\n",
    "#model.eval()\n",
    "\n",
    "# Lists to store predictions and true labels\n",
    "predictions = []\n",
    "true_labels = []\n",
    "\n",
    "# Iterate over test data\n",
    "with torch.no_grad():\n",
    "    for inputs, labels in test_loader:\n",
    "        inputs, labels = inputs.to(device), labels.to(device)\n",
    "        outputs = model(inputs)\n",
    "        predictions.extend(outputs.cpu().numpy())\n",
    "        true_labels.extend(labels.cpu().numpy())\n",
    "\n",
    "# Convert lists to numpy arrays\n",
    "predictions = np.array(predictions)\n",
    "true_labels = np.array(true_labels)\n",
    "\n",
    "# Calculate Mean Squared Error (MSE) and R-squared\n",
    "mse = mean_squared_error(true_labels, predictions)\n",
    "r2 = r2_score(true_labels, predictions)\n",
    "\n",
    "print(f\"Mean Squared Error (MSE): {mse}\")\n",
    "print(f\"R-squared: {r2}\")"
   ]
  },
  {
   "cell_type": "code",
   "execution_count": 49,
   "id": "bebb5154",
   "metadata": {},
   "outputs": [],
   "source": [
    "model_weights_file_path = 'bayesian_'+ env_name + '_' + num_samples +'.pth' \n",
    "# Save the trained model\n",
    "torch.save(model.state_dict(), model_weights_file_path)"
   ]
  },
  {
   "cell_type": "code",
   "execution_count": 50,
   "id": "69800231",
   "metadata": {},
   "outputs": [
    {
     "data": {
      "text/plain": [
       "<All keys matched successfully>"
      ]
     },
     "execution_count": 50,
     "metadata": {},
     "output_type": "execute_result"
    }
   ],
   "source": [
    "# Instantiate the model\n",
    "model = BayesianNN(input_size, output_size, num_hidden_layers, hidden_layer_nodes, activation).to(device)\n",
    "\n",
    "model.load_state_dict(torch.load(model_weights_file_path))"
   ]
  },
  {
   "cell_type": "code",
   "execution_count": null,
   "id": "73e42474",
   "metadata": {},
   "outputs": [],
   "source": []
  }
 ],
 "metadata": {
  "kernelspec": {
   "display_name": "Python 3 (ipykernel)",
   "language": "python",
   "name": "python3"
  },
  "language_info": {
   "codemirror_mode": {
    "name": "ipython",
    "version": 3
   },
   "file_extension": ".py",
   "mimetype": "text/x-python",
   "name": "python",
   "nbconvert_exporter": "python",
   "pygments_lexer": "ipython3",
   "version": "3.11.5"
  }
 },
 "nbformat": 4,
 "nbformat_minor": 5
}
