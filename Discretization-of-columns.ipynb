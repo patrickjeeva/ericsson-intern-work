{
 "cells": [
  {
   "cell_type": "code",
   "execution_count": 1,
   "id": "0a0005c5",
   "metadata": {},
   "outputs": [],
   "source": [
    "import pandas as pd\n",
    "import numpy as np\n",
    "import math"
   ]
  },
  {
   "cell_type": "code",
   "execution_count": 2,
   "id": "d829a9bf",
   "metadata": {},
   "outputs": [],
   "source": [
    "#!pip install openpyxl xlrd\n",
    "df_data = pd.read_excel('dataformdp.xlsm')"
   ]
  },
  {
   "cell_type": "code",
   "execution_count": 3,
   "id": "66c7ba6c",
   "metadata": {},
   "outputs": [
    {
     "data": {
      "text/html": [
       "<div>\n",
       "<style scoped>\n",
       "    .dataframe tbody tr th:only-of-type {\n",
       "        vertical-align: middle;\n",
       "    }\n",
       "\n",
       "    .dataframe tbody tr th {\n",
       "        vertical-align: top;\n",
       "    }\n",
       "\n",
       "    .dataframe thead th {\n",
       "        text-align: right;\n",
       "    }\n",
       "</style>\n",
       "<table border=\"1\" class=\"dataframe\">\n",
       "  <thead>\n",
       "    <tr style=\"text-align: right;\">\n",
       "      <th></th>\n",
       "      <th>Unnamed: 0</th>\n",
       "      <th>cell_z</th>\n",
       "      <th>ret</th>\n",
       "      <th>interSiteDist</th>\n",
       "      <th>rrcCongestionRate</th>\n",
       "      <th>rrcCongestionRateNeigh</th>\n",
       "      <th>taOvershootingFactor</th>\n",
       "      <th>lowRsrpSamplesRateEdge</th>\n",
       "      <th>numCellsHighOverlapHighRsrpSrcAgg</th>\n",
       "      <th>numCellsHighOverlapHighRsrpTgtAgg</th>\n",
       "      <th>...</th>\n",
       "      <th>nx_numCellsHighOverlapHighRsrpSrcAgg</th>\n",
       "      <th>nx_numCellsHighOverlapHighRsrpTgtAgg</th>\n",
       "      <th>nx_numTimesInterf</th>\n",
       "      <th>nx_trafficShare</th>\n",
       "      <th>nx_frequency</th>\n",
       "      <th>nx_ret_rel</th>\n",
       "      <th>nx_mechanical_tilt</th>\n",
       "      <th>nx_capacity</th>\n",
       "      <th>nx_coverage</th>\n",
       "      <th>nx_quality</th>\n",
       "    </tr>\n",
       "  </thead>\n",
       "  <tbody>\n",
       "    <tr>\n",
       "      <th>count</th>\n",
       "      <td>1050.000000</td>\n",
       "      <td>1050.000000</td>\n",
       "      <td>1050.000000</td>\n",
       "      <td>1050.000000</td>\n",
       "      <td>1.050000e+03</td>\n",
       "      <td>1.050000e+03</td>\n",
       "      <td>1050.000000</td>\n",
       "      <td>1050.000000</td>\n",
       "      <td>1050.000000</td>\n",
       "      <td>1050.000000</td>\n",
       "      <td>...</td>\n",
       "      <td>1050.000000</td>\n",
       "      <td>1050.000000</td>\n",
       "      <td>1050.000000</td>\n",
       "      <td>1050.000000</td>\n",
       "      <td>1050.000000</td>\n",
       "      <td>1050.000000</td>\n",
       "      <td>1050.0</td>\n",
       "      <td>1.050000e+03</td>\n",
       "      <td>1.050000e+03</td>\n",
       "      <td>1.050000e+03</td>\n",
       "    </tr>\n",
       "    <tr>\n",
       "      <th>mean</th>\n",
       "      <td>524.500000</td>\n",
       "      <td>0.328952</td>\n",
       "      <td>0.703571</td>\n",
       "      <td>0.102000</td>\n",
       "      <td>1.225053e-04</td>\n",
       "      <td>2.728095e-04</td>\n",
       "      <td>0.597076</td>\n",
       "      <td>0.073973</td>\n",
       "      <td>0.614412</td>\n",
       "      <td>0.543082</td>\n",
       "      <td>...</td>\n",
       "      <td>0.604481</td>\n",
       "      <td>0.530880</td>\n",
       "      <td>0.179301</td>\n",
       "      <td>0.855477</td>\n",
       "      <td>0.164000</td>\n",
       "      <td>0.508173</td>\n",
       "      <td>0.0</td>\n",
       "      <td>1.564583e-04</td>\n",
       "      <td>6.481312e-01</td>\n",
       "      <td>7.521674e-01</td>\n",
       "    </tr>\n",
       "    <tr>\n",
       "      <th>std</th>\n",
       "      <td>303.253195</td>\n",
       "      <td>0.027102</td>\n",
       "      <td>0.289075</td>\n",
       "      <td>0.025625</td>\n",
       "      <td>3.767788e-03</td>\n",
       "      <td>2.933974e-03</td>\n",
       "      <td>0.159884</td>\n",
       "      <td>0.117438</td>\n",
       "      <td>0.189916</td>\n",
       "      <td>0.275982</td>\n",
       "      <td>...</td>\n",
       "      <td>0.181949</td>\n",
       "      <td>0.260344</td>\n",
       "      <td>0.093424</td>\n",
       "      <td>0.290615</td>\n",
       "      <td>0.066845</td>\n",
       "      <td>0.233406</td>\n",
       "      <td>0.0</td>\n",
       "      <td>3.586272e-03</td>\n",
       "      <td>4.509015e-01</td>\n",
       "      <td>3.515366e-01</td>\n",
       "    </tr>\n",
       "    <tr>\n",
       "      <th>min</th>\n",
       "      <td>0.000000</td>\n",
       "      <td>0.280000</td>\n",
       "      <td>0.000000</td>\n",
       "      <td>0.060000</td>\n",
       "      <td>0.000000e+00</td>\n",
       "      <td>0.000000e+00</td>\n",
       "      <td>0.268029</td>\n",
       "      <td>0.000000</td>\n",
       "      <td>0.229167</td>\n",
       "      <td>0.119666</td>\n",
       "      <td>...</td>\n",
       "      <td>0.229167</td>\n",
       "      <td>0.119666</td>\n",
       "      <td>0.029562</td>\n",
       "      <td>0.186398</td>\n",
       "      <td>0.070000</td>\n",
       "      <td>0.000000</td>\n",
       "      <td>0.0</td>\n",
       "      <td>8.880293e-16</td>\n",
       "      <td>8.880293e-16</td>\n",
       "      <td>8.880293e-16</td>\n",
       "    </tr>\n",
       "    <tr>\n",
       "      <th>25%</th>\n",
       "      <td>262.250000</td>\n",
       "      <td>0.306667</td>\n",
       "      <td>0.500000</td>\n",
       "      <td>0.100000</td>\n",
       "      <td>0.000000e+00</td>\n",
       "      <td>2.263750e-35</td>\n",
       "      <td>0.500808</td>\n",
       "      <td>0.000000</td>\n",
       "      <td>0.476190</td>\n",
       "      <td>0.323859</td>\n",
       "      <td>...</td>\n",
       "      <td>0.473684</td>\n",
       "      <td>0.327033</td>\n",
       "      <td>0.113247</td>\n",
       "      <td>0.671992</td>\n",
       "      <td>0.110000</td>\n",
       "      <td>0.333333</td>\n",
       "      <td>0.0</td>\n",
       "      <td>8.880293e-16</td>\n",
       "      <td>8.880293e-16</td>\n",
       "      <td>5.128850e-01</td>\n",
       "    </tr>\n",
       "    <tr>\n",
       "      <th>50%</th>\n",
       "      <td>524.500000</td>\n",
       "      <td>0.326667</td>\n",
       "      <td>0.700000</td>\n",
       "      <td>0.100000</td>\n",
       "      <td>3.250000e-44</td>\n",
       "      <td>1.054164e-24</td>\n",
       "      <td>0.575602</td>\n",
       "      <td>0.000000</td>\n",
       "      <td>0.579855</td>\n",
       "      <td>0.478472</td>\n",
       "      <td>...</td>\n",
       "      <td>0.574468</td>\n",
       "      <td>0.474055</td>\n",
       "      <td>0.155464</td>\n",
       "      <td>0.845148</td>\n",
       "      <td>0.190000</td>\n",
       "      <td>0.500000</td>\n",
       "      <td>0.0</td>\n",
       "      <td>8.880293e-16</td>\n",
       "      <td>1.000000e+00</td>\n",
       "      <td>1.000000e+00</td>\n",
       "    </tr>\n",
       "    <tr>\n",
       "      <th>75%</th>\n",
       "      <td>786.750000</td>\n",
       "      <td>0.346667</td>\n",
       "      <td>0.900000</td>\n",
       "      <td>0.110000</td>\n",
       "      <td>1.758533e-33</td>\n",
       "      <td>1.174205e-15</td>\n",
       "      <td>0.660012</td>\n",
       "      <td>0.125000</td>\n",
       "      <td>0.702703</td>\n",
       "      <td>0.716617</td>\n",
       "      <td>...</td>\n",
       "      <td>0.693742</td>\n",
       "      <td>0.677306</td>\n",
       "      <td>0.219557</td>\n",
       "      <td>1.043394</td>\n",
       "      <td>0.190000</td>\n",
       "      <td>0.666667</td>\n",
       "      <td>0.0</td>\n",
       "      <td>8.880293e-16</td>\n",
       "      <td>1.000000e+00</td>\n",
       "      <td>1.000000e+00</td>\n",
       "    </tr>\n",
       "    <tr>\n",
       "      <th>max</th>\n",
       "      <td>1049.000000</td>\n",
       "      <td>0.380000</td>\n",
       "      <td>1.500000</td>\n",
       "      <td>0.140000</td>\n",
       "      <td>1.219961e-01</td>\n",
       "      <td>5.834595e-02</td>\n",
       "      <td>1.300705</td>\n",
       "      <td>0.800000</td>\n",
       "      <td>1.500000</td>\n",
       "      <td>1.521476</td>\n",
       "      <td>...</td>\n",
       "      <td>1.500000</td>\n",
       "      <td>1.487571</td>\n",
       "      <td>0.561323</td>\n",
       "      <td>2.171339</td>\n",
       "      <td>0.260000</td>\n",
       "      <td>1.000000</td>\n",
       "      <td>0.0</td>\n",
       "      <td>1.083916e-01</td>\n",
       "      <td>1.000000e+00</td>\n",
       "      <td>1.000000e+00</td>\n",
       "    </tr>\n",
       "  </tbody>\n",
       "</table>\n",
       "<p>8 rows × 37 columns</p>\n",
       "</div>"
      ],
      "text/plain": [
       "        Unnamed: 0       cell_z          ret  interSiteDist  \\\n",
       "count  1050.000000  1050.000000  1050.000000    1050.000000   \n",
       "mean    524.500000     0.328952     0.703571       0.102000   \n",
       "std     303.253195     0.027102     0.289075       0.025625   \n",
       "min       0.000000     0.280000     0.000000       0.060000   \n",
       "25%     262.250000     0.306667     0.500000       0.100000   \n",
       "50%     524.500000     0.326667     0.700000       0.100000   \n",
       "75%     786.750000     0.346667     0.900000       0.110000   \n",
       "max    1049.000000     0.380000     1.500000       0.140000   \n",
       "\n",
       "       rrcCongestionRate  rrcCongestionRateNeigh  taOvershootingFactor  \\\n",
       "count       1.050000e+03            1.050000e+03           1050.000000   \n",
       "mean        1.225053e-04            2.728095e-04              0.597076   \n",
       "std         3.767788e-03            2.933974e-03              0.159884   \n",
       "min         0.000000e+00            0.000000e+00              0.268029   \n",
       "25%         0.000000e+00            2.263750e-35              0.500808   \n",
       "50%         3.250000e-44            1.054164e-24              0.575602   \n",
       "75%         1.758533e-33            1.174205e-15              0.660012   \n",
       "max         1.219961e-01            5.834595e-02              1.300705   \n",
       "\n",
       "       lowRsrpSamplesRateEdge  numCellsHighOverlapHighRsrpSrcAgg  \\\n",
       "count             1050.000000                        1050.000000   \n",
       "mean                 0.073973                           0.614412   \n",
       "std                  0.117438                           0.189916   \n",
       "min                  0.000000                           0.229167   \n",
       "25%                  0.000000                           0.476190   \n",
       "50%                  0.000000                           0.579855   \n",
       "75%                  0.125000                           0.702703   \n",
       "max                  0.800000                           1.500000   \n",
       "\n",
       "       numCellsHighOverlapHighRsrpTgtAgg  ...  \\\n",
       "count                        1050.000000  ...   \n",
       "mean                            0.543082  ...   \n",
       "std                             0.275982  ...   \n",
       "min                             0.119666  ...   \n",
       "25%                             0.323859  ...   \n",
       "50%                             0.478472  ...   \n",
       "75%                             0.716617  ...   \n",
       "max                             1.521476  ...   \n",
       "\n",
       "       nx_numCellsHighOverlapHighRsrpSrcAgg  \\\n",
       "count                           1050.000000   \n",
       "mean                               0.604481   \n",
       "std                                0.181949   \n",
       "min                                0.229167   \n",
       "25%                                0.473684   \n",
       "50%                                0.574468   \n",
       "75%                                0.693742   \n",
       "max                                1.500000   \n",
       "\n",
       "       nx_numCellsHighOverlapHighRsrpTgtAgg  nx_numTimesInterf  \\\n",
       "count                           1050.000000        1050.000000   \n",
       "mean                               0.530880           0.179301   \n",
       "std                                0.260344           0.093424   \n",
       "min                                0.119666           0.029562   \n",
       "25%                                0.327033           0.113247   \n",
       "50%                                0.474055           0.155464   \n",
       "75%                                0.677306           0.219557   \n",
       "max                                1.487571           0.561323   \n",
       "\n",
       "       nx_trafficShare  nx_frequency   nx_ret_rel  nx_mechanical_tilt  \\\n",
       "count      1050.000000   1050.000000  1050.000000              1050.0   \n",
       "mean          0.855477      0.164000     0.508173                 0.0   \n",
       "std           0.290615      0.066845     0.233406                 0.0   \n",
       "min           0.186398      0.070000     0.000000                 0.0   \n",
       "25%           0.671992      0.110000     0.333333                 0.0   \n",
       "50%           0.845148      0.190000     0.500000                 0.0   \n",
       "75%           1.043394      0.190000     0.666667                 0.0   \n",
       "max           2.171339      0.260000     1.000000                 0.0   \n",
       "\n",
       "        nx_capacity   nx_coverage    nx_quality  \n",
       "count  1.050000e+03  1.050000e+03  1.050000e+03  \n",
       "mean   1.564583e-04  6.481312e-01  7.521674e-01  \n",
       "std    3.586272e-03  4.509015e-01  3.515366e-01  \n",
       "min    8.880293e-16  8.880293e-16  8.880293e-16  \n",
       "25%    8.880293e-16  8.880293e-16  5.128850e-01  \n",
       "50%    8.880293e-16  1.000000e+00  1.000000e+00  \n",
       "75%    8.880293e-16  1.000000e+00  1.000000e+00  \n",
       "max    1.083916e-01  1.000000e+00  1.000000e+00  \n",
       "\n",
       "[8 rows x 37 columns]"
      ]
     },
     "execution_count": 3,
     "metadata": {},
     "output_type": "execute_result"
    }
   ],
   "source": [
    "df_data.describe()"
   ]
  },
  {
   "cell_type": "markdown",
   "id": "7fbbc177",
   "metadata": {},
   "source": [
    "# Understanding the Data"
   ]
  },
  {
   "cell_type": "markdown",
   "id": "1f2d0be2",
   "metadata": {},
   "source": [
    "Use Coverage, Quality and Capacity for state "
   ]
  },
  {
   "cell_type": "code",
   "execution_count": 4,
   "id": "5cd20783",
   "metadata": {},
   "outputs": [
    {
     "name": "stdout",
     "output_type": "stream",
     "text": [
      "0\n"
     ]
    },
    {
     "name": "stderr",
     "output_type": "stream",
     "text": [
      "/tmp/ipykernel_6994/2144402467.py:2: FutureWarning: The default value of regex will change from True to False in a future version. In addition, single character regular expressions will *not* be treated as literal strings when regex=True.\n",
      "  non_float_rows = df_data[(~df_data['coverage'].astype(str).str.replace('.', '').str.replace('e-', '').str.isnumeric() &\n"
     ]
    }
   ],
   "source": [
    "df_data.describe().coverage\n",
    "non_float_rows = df_data[(~df_data['coverage'].astype(str).str.replace('.', '').str.replace('e-', '').str.isnumeric() &\n",
    "                                 ~df_data['coverage'].astype(str).str.isdigit())]\n",
    "print(len(non_float_rows))"
   ]
  },
  {
   "cell_type": "code",
   "execution_count": 5,
   "id": "d8980f47",
   "metadata": {},
   "outputs": [
    {
     "name": "stdout",
     "output_type": "stream",
     "text": [
      "Series([], Name: coverage, dtype: float64)\n"
     ]
    },
    {
     "name": "stderr",
     "output_type": "stream",
     "text": [
      "/tmp/ipykernel_6994/2618359493.py:1: FutureWarning: The default value of regex will change from True to False in a future version. In addition, single character regular expressions will *not* be treated as literal strings when regex=True.\n",
      "  print(df_data[(~df_data['coverage'].astype(str).str.replace('.', '').str.replace('e-', '').str.isnumeric() &\n"
     ]
    }
   ],
   "source": [
    "print(df_data[(~df_data['coverage'].astype(str).str.replace('.', '').str.replace('e-', '').str.isnumeric() &\n",
    "                                 ~df_data['coverage'].astype(str).str.isdigit())].coverage)"
   ]
  },
  {
   "cell_type": "code",
   "execution_count": 6,
   "id": "8e4ffc46",
   "metadata": {},
   "outputs": [
    {
     "name": "stdout",
     "output_type": "stream",
     "text": [
      "0\n"
     ]
    },
    {
     "name": "stderr",
     "output_type": "stream",
     "text": [
      "/tmp/ipykernel_6994/2318912692.py:2: FutureWarning: The default value of regex will change from True to False in a future version. In addition, single character regular expressions will *not* be treated as literal strings when regex=True.\n",
      "  non_float_rows = df_data[~df_data['capacity'].astype(str).str.replace('.', '').str.replace('e-', '').str.isnumeric()]\n"
     ]
    }
   ],
   "source": [
    "df_data.describe().capacity\n",
    "non_float_rows = df_data[~df_data['capacity'].astype(str).str.replace('.', '').str.replace('e-', '').str.isnumeric()]\n",
    "print(len(non_float_rows))"
   ]
  },
  {
   "cell_type": "code",
   "execution_count": 7,
   "id": "ff58c00b",
   "metadata": {},
   "outputs": [
    {
     "name": "stdout",
     "output_type": "stream",
     "text": [
      "0\n"
     ]
    },
    {
     "name": "stderr",
     "output_type": "stream",
     "text": [
      "/tmp/ipykernel_6994/2577041903.py:2: FutureWarning: The default value of regex will change from True to False in a future version. In addition, single character regular expressions will *not* be treated as literal strings when regex=True.\n",
      "  non_float_rows = df_data[~df_data['quality'].astype(str).str.replace('.', '').str.replace('e-', '').str.isnumeric()]\n"
     ]
    }
   ],
   "source": [
    "df_data.describe().quality\n",
    "non_float_rows = df_data[~df_data['quality'].astype(str).str.replace('.', '').str.replace('e-', '').str.isnumeric()]\n",
    "print(len(non_float_rows))"
   ]
  },
  {
   "cell_type": "markdown",
   "id": "717c520c",
   "metadata": {},
   "source": [
    "# Columns to define a state"
   ]
  },
  {
   "cell_type": "code",
   "execution_count": 8,
   "id": "dc3e0b7a",
   "metadata": {},
   "outputs": [
    {
     "name": "stdout",
     "output_type": "stream",
     "text": [
      "['nx_capacity', 'nx_quality', 'nx_coverage']\n"
     ]
    }
   ],
   "source": [
    "state_var = ['capacity','quality','coverage']\n",
    "\n",
    "nx_state_var = [('nx_'+ i) for i in state_var]\n",
    "\n",
    "print(nx_state_var)"
   ]
  },
  {
   "cell_type": "markdown",
   "id": "b053995e",
   "metadata": {},
   "source": [
    "# Discretizing the columns"
   ]
  },
  {
   "cell_type": "code",
   "execution_count": 9,
   "id": "fc0be061",
   "metadata": {},
   "outputs": [
    {
     "name": "stdout",
     "output_type": "stream",
     "text": [
      "  column_name  no_of_bins  bin_size                          bin_list\n",
      "0    capacity        10.0       NaN                               NaN\n",
      "1     quality         NaN       0.5                               NaN\n",
      "2    coverage         NaN       NaN  [[0, 0.2], [0.2, 0.5], [0.5, 1]]\n"
     ]
    }
   ],
   "source": [
    "df_json = pd.read_json('fileSelection.json')\n",
    "\n",
    "# Display the DataFrame\n",
    "print(df_json)"
   ]
  },
  {
   "cell_type": "markdown",
   "id": "294efa25",
   "metadata": {},
   "source": [
    "# Discretisation"
   ]
  },
  {
   "cell_type": "code",
   "execution_count": 10,
   "id": "30c65cce",
   "metadata": {},
   "outputs": [],
   "source": [
    "#Function to return Minimum and Maximum value of a state feature\n",
    "def min_max_states(non_null_values_col, non_null_values_col_nx):\n",
    "    return min(non_null_values_col.min(),non_null_values_col_nx.min()), max(non_null_values_col.max(),non_null_values_col_nx.max())"
   ]
  },
  {
   "cell_type": "code",
   "execution_count": 11,
   "id": "8d7c3c1d",
   "metadata": {},
   "outputs": [],
   "source": [
    "for i, row in df_json.iterrows():\n",
    "    col_name = row['column_name']\n",
    "    col_name_nx = 'nx_' + col_name\n",
    "    non_null_values_col, non_null_values_col_nx = df_data[col_name].dropna(), df_data[col_name_nx].dropna()\n",
    "    \n",
    "    if row['no_of_bins'] is not None and not math.isnan(row['no_of_bins']):\n",
    "        bins = int(row['no_of_bins'])\n",
    "        min_value, max_value = min_max_states(non_null_values_col, non_null_values_col_nx)\n",
    "        bin_size = (max_value - min_value) / bins\n",
    "        bin = [min_value + i * bin_size for i in range(bins + 1)]\n",
    "        df_data[col_name] = pd.cut(non_null_values_col, bins=bins, labels=False) + 1\n",
    "        df_data[col_name_nx] = pd.cut(non_null_values_col_nx, bins=bins, labels=False) + 1\n",
    "    \n",
    "    elif row['bin_size'] is not None and not math.isnan(row['bin_size']):\n",
    "        bin_size = row['bin_size']\n",
    "        min_value, max_value = min_max_states(non_null_values_col, non_null_values_col_nx)\n",
    "        bin = [min_value + i * bin_size for i in range(bins + 1)]\n",
    "        df_data[col_name] = pd.cut(non_null_values_col, bins=bins, labels=False) + 1\n",
    "        df_data[col_name_nx] = pd.cut(non_null_values_col_nx, bins=bins, labels=False) + 1\n",
    "    \n",
    "    elif len(row['bin_list'])>0:\n",
    "        bin_list = row['bin_list']\n",
    "        if isinstance(bin_list, list):\n",
    "            bin_list = [interval for interval in bin_list if all(not math.isnan(value) for value in interval)]\n",
    "        if bin_list:\n",
    "            bin_intervals = [interval[0] for interval in bin_list] + [bin_list[-1][-1]]\n",
    "            df_data[col_name] = pd.cut(non_null_values_col, bins=bins, labels=False) + 1\n",
    "            df_data[col_name_nx] = pd.cut(non_null_values_col_nx, bins=bins, labels=False) + 1\n"
   ]
  },
  {
   "cell_type": "code",
   "execution_count": 15,
   "id": "18c05bf5",
   "metadata": {},
   "outputs": [],
   "source": [
    "#Modify the resultant state features in a single column as list of state features\n",
    "df_data['current_state'] = df_data[state_var].apply(lambda row: list(row), axis=1)\n",
    "df_data['next_state'] = df_data[nx_state_var].apply(lambda row: list(row), axis=1)"
   ]
  },
  {
   "cell_type": "code",
   "execution_count": 1,
   "id": "522d4611",
   "metadata": {},
   "outputs": [
    {
     "ename": "NameError",
     "evalue": "name 'df_data' is not defined",
     "output_type": "error",
     "traceback": [
      "\u001b[0;31m---------------------------------------------------------------------------\u001b[0m",
      "\u001b[0;31mNameError\u001b[0m                                 Traceback (most recent call last)",
      "Cell \u001b[0;32mIn[1], line 1\u001b[0m\n\u001b[0;32m----> 1\u001b[0m df_data[\u001b[38;5;124m'\u001b[39m\u001b[38;5;124mcurrent_state\u001b[39m\u001b[38;5;124m'\u001b[39m] \u001b[38;5;241m=\u001b[39m \u001b[43mdf_data\u001b[49m[state_var]\u001b[38;5;241m.\u001b[39mapply(\u001b[38;5;28;01mlambda\u001b[39;00m row: \u001b[38;5;124m'\u001b[39m\u001b[38;5;124m, \u001b[39m\u001b[38;5;124m'\u001b[39m\u001b[38;5;241m.\u001b[39mjoin(row), axis\u001b[38;5;241m=\u001b[39m\u001b[38;5;241m1\u001b[39m)\n\u001b[1;32m      2\u001b[0m df_data[\u001b[38;5;124m'\u001b[39m\u001b[38;5;124mcurrent_state\u001b[39m\u001b[38;5;124m'\u001b[39m] \u001b[38;5;241m=\u001b[39m df_data[state_var]\u001b[38;5;241m.\u001b[39mapply(\u001b[38;5;28;01mlambda\u001b[39;00m row: \u001b[38;5;124m'\u001b[39m\u001b[38;5;124m, \u001b[39m\u001b[38;5;124m'\u001b[39m\u001b[38;5;241m.\u001b[39mjoin(row), axis\u001b[38;5;241m=\u001b[39m\u001b[38;5;241m1\u001b[39m)\n",
      "\u001b[0;31mNameError\u001b[0m: name 'df_data' is not defined"
     ]
    }
   ],
   "source": [
    "#Doing the same with comma delimiter\n",
    "df_data['current_state'] = df_data.loc[:, state_var].apply(lambda row: ', '.join(map(str, row)), axis=1)\n",
    "df_data['next_state'] = df_data.loc[:, nx_state_var].apply(lambda row: ', '.join(map(str, row)), axis=1)"
   ]
  },
  {
   "cell_type": "code",
   "execution_count": 16,
   "id": "9e088010",
   "metadata": {},
   "outputs": [],
   "source": [
    "#\n",
    "file_path = 'discretisedFile.xlsm'\n",
    "df_data.to_excel(file_path, index=False)"
   ]
  },
  {
   "cell_type": "code",
   "execution_count": null,
   "id": "3a2788d2",
   "metadata": {},
   "outputs": [],
   "source": []
  }
 ],
 "metadata": {
  "kernelspec": {
   "display_name": "Python 3 (ipykernel)",
   "language": "python",
   "name": "python3"
  },
  "language_info": {
   "codemirror_mode": {
    "name": "ipython",
    "version": 3
   },
   "file_extension": ".py",
   "mimetype": "text/x-python",
   "name": "python",
   "nbconvert_exporter": "python",
   "pygments_lexer": "ipython3",
   "version": "3.10.6"
  }
 },
 "nbformat": 4,
 "nbformat_minor": 5
}
