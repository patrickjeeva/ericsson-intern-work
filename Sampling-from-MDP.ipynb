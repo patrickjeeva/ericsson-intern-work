{
 "cells": [
  {
   "cell_type": "code",
   "execution_count": 31,
   "id": "33b58e87",
   "metadata": {},
   "outputs": [],
   "source": [
    "import pandas as pd\n",
    "import numpy as np"
   ]
  },
  {
   "cell_type": "code",
   "execution_count": 20,
   "id": "6860c35a",
   "metadata": {},
   "outputs": [
    {
     "data": {
      "text/plain": [
       "pandas.core.frame.DataFrame"
      ]
     },
     "execution_count": 20,
     "metadata": {},
     "output_type": "execute_result"
    }
   ],
   "source": [
    "#columns = ['current_state', 'action', 'next_state', 'probability']\n",
    "#df = pd.DataFrame(pd.read_csv('mdp_1d_statedata.xls', header = None),columns=columns)\n",
    "df = pd.read_csv('mdp_1d_statedata.xls', header = None)\n",
    "type(df)"
   ]
  },
  {
   "cell_type": "code",
   "execution_count": 23,
   "id": "8ab2c5f4",
   "metadata": {},
   "outputs": [
    {
     "data": {
      "text/html": [
       "<div>\n",
       "<style scoped>\n",
       "    .dataframe tbody tr th:only-of-type {\n",
       "        vertical-align: middle;\n",
       "    }\n",
       "\n",
       "    .dataframe tbody tr th {\n",
       "        vertical-align: top;\n",
       "    }\n",
       "\n",
       "    .dataframe thead th {\n",
       "        text-align: right;\n",
       "    }\n",
       "</style>\n",
       "<table border=\"1\" class=\"dataframe\">\n",
       "  <thead>\n",
       "    <tr style=\"text-align: right;\">\n",
       "      <th></th>\n",
       "      <th>0</th>\n",
       "      <th>1</th>\n",
       "      <th>2</th>\n",
       "      <th>3</th>\n",
       "    </tr>\n",
       "  </thead>\n",
       "  <tbody>\n",
       "    <tr>\n",
       "      <th>0</th>\n",
       "      <td>State 1</td>\n",
       "      <td>Action A</td>\n",
       "      <td>State 2</td>\n",
       "      <td>0.3</td>\n",
       "    </tr>\n",
       "    <tr>\n",
       "      <th>1</th>\n",
       "      <td>State 1</td>\n",
       "      <td>Action A</td>\n",
       "      <td>State 3</td>\n",
       "      <td>0.7</td>\n",
       "    </tr>\n",
       "    <tr>\n",
       "      <th>2</th>\n",
       "      <td>State 1</td>\n",
       "      <td>Action B</td>\n",
       "      <td>State 1</td>\n",
       "      <td>0.5</td>\n",
       "    </tr>\n",
       "    <tr>\n",
       "      <th>3</th>\n",
       "      <td>State 1</td>\n",
       "      <td>Action B</td>\n",
       "      <td>State 2</td>\n",
       "      <td>0.5</td>\n",
       "    </tr>\n",
       "    <tr>\n",
       "      <th>4</th>\n",
       "      <td>State 2</td>\n",
       "      <td>Action A</td>\n",
       "      <td>State 1</td>\n",
       "      <td>0.4</td>\n",
       "    </tr>\n",
       "  </tbody>\n",
       "</table>\n",
       "</div>"
      ],
      "text/plain": [
       "         0          1         2    3\n",
       "0  State 1   Action A   State 2  0.3\n",
       "1  State 1   Action A   State 3  0.7\n",
       "2  State 1   Action B   State 1  0.5\n",
       "3  State 1   Action B   State 2  0.5\n",
       "4  State 2   Action A   State 1  0.4"
      ]
     },
     "execution_count": 23,
     "metadata": {},
     "output_type": "execute_result"
    }
   ],
   "source": [
    "df.head()"
   ]
  },
  {
   "cell_type": "code",
   "execution_count": 24,
   "id": "b60e9cdb",
   "metadata": {},
   "outputs": [],
   "source": [
    "columns = ['current_state', 'action', 'next_state', 'probability']\n",
    "df.columns = columns"
   ]
  },
  {
   "cell_type": "code",
   "execution_count": 25,
   "id": "f2d72c43",
   "metadata": {},
   "outputs": [
    {
     "data": {
      "text/html": [
       "<div>\n",
       "<style scoped>\n",
       "    .dataframe tbody tr th:only-of-type {\n",
       "        vertical-align: middle;\n",
       "    }\n",
       "\n",
       "    .dataframe tbody tr th {\n",
       "        vertical-align: top;\n",
       "    }\n",
       "\n",
       "    .dataframe thead th {\n",
       "        text-align: right;\n",
       "    }\n",
       "</style>\n",
       "<table border=\"1\" class=\"dataframe\">\n",
       "  <thead>\n",
       "    <tr style=\"text-align: right;\">\n",
       "      <th></th>\n",
       "      <th>current_state</th>\n",
       "      <th>action</th>\n",
       "      <th>next_state</th>\n",
       "      <th>probability</th>\n",
       "    </tr>\n",
       "  </thead>\n",
       "  <tbody>\n",
       "    <tr>\n",
       "      <th>0</th>\n",
       "      <td>State 1</td>\n",
       "      <td>Action A</td>\n",
       "      <td>State 2</td>\n",
       "      <td>0.3</td>\n",
       "    </tr>\n",
       "    <tr>\n",
       "      <th>1</th>\n",
       "      <td>State 1</td>\n",
       "      <td>Action A</td>\n",
       "      <td>State 3</td>\n",
       "      <td>0.7</td>\n",
       "    </tr>\n",
       "    <tr>\n",
       "      <th>2</th>\n",
       "      <td>State 1</td>\n",
       "      <td>Action B</td>\n",
       "      <td>State 1</td>\n",
       "      <td>0.5</td>\n",
       "    </tr>\n",
       "    <tr>\n",
       "      <th>3</th>\n",
       "      <td>State 1</td>\n",
       "      <td>Action B</td>\n",
       "      <td>State 2</td>\n",
       "      <td>0.5</td>\n",
       "    </tr>\n",
       "    <tr>\n",
       "      <th>4</th>\n",
       "      <td>State 2</td>\n",
       "      <td>Action A</td>\n",
       "      <td>State 1</td>\n",
       "      <td>0.4</td>\n",
       "    </tr>\n",
       "  </tbody>\n",
       "</table>\n",
       "</div>"
      ],
      "text/plain": [
       "  current_state     action next_state  probability\n",
       "0       State 1   Action A    State 2          0.3\n",
       "1       State 1   Action A    State 3          0.7\n",
       "2       State 1   Action B    State 1          0.5\n",
       "3       State 1   Action B    State 2          0.5\n",
       "4       State 2   Action A    State 1          0.4"
      ]
     },
     "execution_count": 25,
     "metadata": {},
     "output_type": "execute_result"
    }
   ],
   "source": [
    "df.head()"
   ]
  },
  {
   "cell_type": "code",
   "execution_count": 39,
   "id": "ca2b75c3",
   "metadata": {},
   "outputs": [
    {
     "name": "stdout",
     "output_type": "stream",
     "text": [
      "['State 1' 'State 2' 'State 3']\n",
      "<class 'numpy.ndarray'>\n"
     ]
    }
   ],
   "source": [
    "states = df['current_state'].unique()\n",
    "print(states)\n",
    "print(type(states))"
   ]
  },
  {
   "cell_type": "code",
   "execution_count": 59,
   "id": "802ab8a5",
   "metadata": {},
   "outputs": [],
   "source": [
    "random_samples = []\n",
    "num_samples = 100000  # Number of samples to generate\n",
    "\n",
    "for _ in range(num_samples):\n",
    "    random_state = np.random.choice(states)\n",
    "    #print(random_state)\n",
    "    sample_action = np.random.choice((df[df['current_state'] == random_state]).action.unique())\n",
    "    #print(sample_action)\n",
    "    sample_row = df[(df['current_state'] == random_state) & (df['action'] == sample_action)].sample(n=1, weights='probability').iloc[0]\n",
    "\n",
    "    # Extract the values from the selected row\n",
    "    current_state = sample_row['current_state']\n",
    "    action = sample_row['action']\n",
    "    next_state = sample_row['next_state']\n",
    "\n",
    "    # Add the sample to the list\n",
    "    random_samples.append([current_state, action, next_state])\n",
    "    #print(random_samples)"
   ]
  },
  {
   "cell_type": "code",
   "execution_count": 60,
   "id": "4ca7b48e",
   "metadata": {},
   "outputs": [
    {
     "data": {
      "text/html": [
       "<div>\n",
       "<style scoped>\n",
       "    .dataframe tbody tr th:only-of-type {\n",
       "        vertical-align: middle;\n",
       "    }\n",
       "\n",
       "    .dataframe tbody tr th {\n",
       "        vertical-align: top;\n",
       "    }\n",
       "\n",
       "    .dataframe thead th {\n",
       "        text-align: right;\n",
       "    }\n",
       "</style>\n",
       "<table border=\"1\" class=\"dataframe\">\n",
       "  <thead>\n",
       "    <tr style=\"text-align: right;\">\n",
       "      <th></th>\n",
       "      <th>current_state</th>\n",
       "      <th>action</th>\n",
       "      <th>next_state</th>\n",
       "    </tr>\n",
       "  </thead>\n",
       "  <tbody>\n",
       "    <tr>\n",
       "      <th>0</th>\n",
       "      <td>State 3</td>\n",
       "      <td>Action B</td>\n",
       "      <td>State 3</td>\n",
       "    </tr>\n",
       "    <tr>\n",
       "      <th>1</th>\n",
       "      <td>State 2</td>\n",
       "      <td>Action B</td>\n",
       "      <td>State 2</td>\n",
       "    </tr>\n",
       "    <tr>\n",
       "      <th>2</th>\n",
       "      <td>State 2</td>\n",
       "      <td>Action A</td>\n",
       "      <td>State 3</td>\n",
       "    </tr>\n",
       "    <tr>\n",
       "      <th>3</th>\n",
       "      <td>State 2</td>\n",
       "      <td>Action A</td>\n",
       "      <td>State 3</td>\n",
       "    </tr>\n",
       "    <tr>\n",
       "      <th>4</th>\n",
       "      <td>State 1</td>\n",
       "      <td>Action A</td>\n",
       "      <td>State 3</td>\n",
       "    </tr>\n",
       "  </tbody>\n",
       "</table>\n",
       "</div>"
      ],
      "text/plain": [
       "  current_state     action next_state\n",
       "0       State 3   Action B    State 3\n",
       "1       State 2   Action B    State 2\n",
       "2       State 2   Action A    State 3\n",
       "3       State 2   Action A    State 3\n",
       "4       State 1   Action A    State 3"
      ]
     },
     "execution_count": 60,
     "metadata": {},
     "output_type": "execute_result"
    }
   ],
   "source": [
    "df_samples = pd.DataFrame(random_samples, columns=['current_state', 'action', 'next_state'])\n",
    "df_samples.head()"
   ]
  },
  {
   "cell_type": "code",
   "execution_count": 61,
   "id": "65360905",
   "metadata": {},
   "outputs": [
    {
     "name": "stdout",
     "output_type": "stream",
     "text": [
      "   current_state     action next_state  count\n",
      "0        State 1   Action A    State 2   4910\n",
      "1        State 1   Action A    State 3  11649\n",
      "2        State 1   Action B    State 1   8381\n",
      "3        State 1   Action B    State 2   8437\n",
      "4        State 2   Action A    State 1   6718\n",
      "5        State 2   Action A    State 3  10034\n",
      "6        State 2   Action B    State 1   3305\n",
      "7        State 2   Action B    State 2  13278\n",
      "8        State 3   Action A    State 2  10081\n",
      "9        State 3   Action A    State 3   6601\n",
      "10       State 3   Action B    State 1   1680\n",
      "11       State 3   Action B    State 3  14926\n",
      "  current_state     action  count_total\n",
      "0       State 1   Action A        16559\n",
      "1       State 1   Action B        16818\n",
      "2       State 2   Action A        16752\n",
      "3       State 2   Action B        16583\n",
      "4       State 3   Action A        16682\n",
      "5       State 3   Action B        16606\n",
      "   current_state     action next_state  count  count_total  \\\n",
      "0        State 1   Action A    State 2   4910        16559   \n",
      "1        State 1   Action A    State 3  11649        16559   \n",
      "2        State 1   Action B    State 1   8381        16818   \n",
      "3        State 1   Action B    State 2   8437        16818   \n",
      "4        State 2   Action A    State 1   6718        16752   \n",
      "5        State 2   Action A    State 3  10034        16752   \n",
      "6        State 2   Action B    State 1   3305        16583   \n",
      "7        State 2   Action B    State 2  13278        16583   \n",
      "8        State 3   Action A    State 2  10081        16682   \n",
      "9        State 3   Action A    State 3   6601        16682   \n",
      "10       State 3   Action B    State 1   1680        16606   \n",
      "11       State 3   Action B    State 3  14926        16606   \n",
      "\n",
      "    empirical_probability  \n",
      "0                0.296515  \n",
      "1                0.703485  \n",
      "2                0.498335  \n",
      "3                0.501665  \n",
      "4                0.401027  \n",
      "5                0.598973  \n",
      "6                0.199300  \n",
      "7                0.800700  \n",
      "8                0.604304  \n",
      "9                0.395696  \n",
      "10               0.101168  \n",
      "11               0.898832  \n"
     ]
    }
   ],
   "source": [
    "df_empirical_probs = df_samples.groupby(['current_state', 'action', 'next_state']).size().reset_index(name='count')\n",
    "print(df_empirical_probs)\n",
    "df_empirical_count = df_samples.groupby(['current_state', 'action']).size().reset_index(name='count_total')\n",
    "print(df_empirical_count)\n",
    "\n",
    "df_empirical_probs = df_empirical_probs.merge(df_empirical_count, on=['current_state', 'action'])\n",
    "df_empirical_probs['empirical_probability'] = df_empirical_probs['count'] / df_empirical_probs['count_total']\n",
    "print(df_empirical_probs)\n"
   ]
  },
  {
   "cell_type": "code",
   "execution_count": 62,
   "id": "2d136521",
   "metadata": {},
   "outputs": [
    {
     "name": "stdout",
     "output_type": "stream",
     "text": [
      "   current_state     action next_state  probability  count  count_total  \\\n",
      "0        State 1   Action A    State 2          0.3   4910        16559   \n",
      "1        State 1   Action A    State 3          0.7  11649        16559   \n",
      "2        State 1   Action B    State 1          0.5   8381        16818   \n",
      "3        State 1   Action B    State 2          0.5   8437        16818   \n",
      "4        State 2   Action A    State 1          0.4   6718        16752   \n",
      "5        State 2   Action A    State 3          0.6  10034        16752   \n",
      "6        State 2   Action B    State 1          0.2   3305        16583   \n",
      "7        State 2   Action B    State 2          0.8  13278        16583   \n",
      "8        State 3   Action A    State 2          0.6  10081        16682   \n",
      "9        State 3   Action A    State 3          0.4   6601        16682   \n",
      "10       State 3   Action B    State 1          0.1   1680        16606   \n",
      "11       State 3   Action B    State 3          0.9  14926        16606   \n",
      "\n",
      "    empirical_probability  prob_diff  \n",
      "0                0.296515   0.003485  \n",
      "1                0.703485  -0.003485  \n",
      "2                0.498335   0.001665  \n",
      "3                0.501665  -0.001665  \n",
      "4                0.401027  -0.001027  \n",
      "5                0.598973   0.001027  \n",
      "6                0.199300   0.000700  \n",
      "7                0.800700  -0.000700  \n",
      "8                0.604304  -0.004304  \n",
      "9                0.395696   0.004304  \n",
      "10               0.101168  -0.001168  \n",
      "11               0.898832   0.001168  \n",
      "\n",
      "Do all probabilities match? False\n"
     ]
    }
   ],
   "source": [
    "df_merged = df.merge(df_empirical_probs, on=['current_state', 'action', 'next_state'], how='left')\n",
    "# Check if the empirical probabilities match the specified probabilities\n",
    "df_merged['prob_diff'] = df_merged['probability'] - df_merged['empirical_probability']\n",
    "all_probs_match = np.allclose(df_merged['probability'], df_merged['empirical_probability'])\n",
    "\n",
    "# Display the comparison results\n",
    "print(df_merged)\n",
    "print(\"\\nDo all probabilities match?\", all_probs_match)"
   ]
  },
  {
   "cell_type": "code",
   "execution_count": null,
   "id": "02ef244d",
   "metadata": {},
   "outputs": [],
   "source": []
  }
 ],
 "metadata": {
  "kernelspec": {
   "display_name": "Python 3 (ipykernel)",
   "language": "python",
   "name": "python3"
  },
  "language_info": {
   "codemirror_mode": {
    "name": "ipython",
    "version": 3
   },
   "file_extension": ".py",
   "mimetype": "text/x-python",
   "name": "python",
   "nbconvert_exporter": "python",
   "pygments_lexer": "ipython3",
   "version": "3.10.6"
  }
 },
 "nbformat": 4,
 "nbformat_minor": 5
}
