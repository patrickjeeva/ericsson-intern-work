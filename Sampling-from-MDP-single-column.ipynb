{
 "cells": [
  {
   "cell_type": "code",
   "execution_count": 7,
   "id": "33b58e87",
   "metadata": {},
   "outputs": [],
   "source": [
    "import pandas as pd\n",
    "import numpy as np"
   ]
  },
  {
   "cell_type": "code",
   "execution_count": 8,
   "id": "6860c35a",
   "metadata": {},
   "outputs": [
    {
     "data": {
      "text/plain": [
       "pandas.core.frame.DataFrame"
      ]
     },
     "execution_count": 8,
     "metadata": {},
     "output_type": "execute_result"
    }
   ],
   "source": [
    "#columns = ['current_state', 'action', 'next_state', 'probability']\n",
    "#df = pd.DataFrame(pd.read_csv('mdp_1d_statedata.xls', header = None),columns=columns)\n",
    "df = pd.read_csv('mdp_2d_data.xls')\n",
    "type(df)"
   ]
  },
  {
   "cell_type": "code",
   "execution_count": 9,
   "id": "8ab2c5f4",
   "metadata": {},
   "outputs": [
    {
     "data": {
      "text/html": [
       "<div>\n",
       "<style scoped>\n",
       "    .dataframe tbody tr th:only-of-type {\n",
       "        vertical-align: middle;\n",
       "    }\n",
       "\n",
       "    .dataframe tbody tr th {\n",
       "        vertical-align: top;\n",
       "    }\n",
       "\n",
       "    .dataframe thead th {\n",
       "        text-align: right;\n",
       "    }\n",
       "</style>\n",
       "<table border=\"1\" class=\"dataframe\">\n",
       "  <thead>\n",
       "    <tr style=\"text-align: right;\">\n",
       "      <th></th>\n",
       "      <th>Inventory</th>\n",
       "      <th>Price</th>\n",
       "      <th>probability</th>\n",
       "      <th>nx_Inventory</th>\n",
       "      <th>nx_Price</th>\n",
       "      <th>action</th>\n",
       "    </tr>\n",
       "  </thead>\n",
       "  <tbody>\n",
       "    <tr>\n",
       "      <th>0</th>\n",
       "      <td>10</td>\n",
       "      <td>5</td>\n",
       "      <td>0.6</td>\n",
       "      <td>9</td>\n",
       "      <td>5</td>\n",
       "      <td>a</td>\n",
       "    </tr>\n",
       "    <tr>\n",
       "      <th>1</th>\n",
       "      <td>10</td>\n",
       "      <td>5</td>\n",
       "      <td>0.4</td>\n",
       "      <td>8</td>\n",
       "      <td>5</td>\n",
       "      <td>a</td>\n",
       "    </tr>\n",
       "    <tr>\n",
       "      <th>2</th>\n",
       "      <td>10</td>\n",
       "      <td>5</td>\n",
       "      <td>0.3</td>\n",
       "      <td>9</td>\n",
       "      <td>6</td>\n",
       "      <td>a</td>\n",
       "    </tr>\n",
       "  </tbody>\n",
       "</table>\n",
       "</div>"
      ],
      "text/plain": [
       "   Inventory  Price  probability  nx_Inventory  nx_Price action\n",
       "0         10      5          0.6             9         5      a\n",
       "1         10      5          0.4             8         5      a\n",
       "2         10      5          0.3             9         6      a"
      ]
     },
     "execution_count": 9,
     "metadata": {},
     "output_type": "execute_result"
    }
   ],
   "source": [
    "df.head()"
   ]
  },
  {
   "cell_type": "code",
   "execution_count": 10,
   "id": "b60e9cdb",
   "metadata": {},
   "outputs": [
    {
     "data": {
      "text/plain": [
       "\"\\ncolumns = ['current_state', 'action', 'next_state', 'probability']\\ndf.columns = columns\\n\""
      ]
     },
     "execution_count": 10,
     "metadata": {},
     "output_type": "execute_result"
    }
   ],
   "source": [
    "'''\n",
    "columns = ['current_state', 'action', 'next_state', 'probability']\n",
    "df.columns = columns\n",
    "'''"
   ]
  },
  {
   "cell_type": "code",
   "execution_count": 11,
   "id": "f2d72c43",
   "metadata": {},
   "outputs": [
    {
     "data": {
      "text/html": [
       "<div>\n",
       "<style scoped>\n",
       "    .dataframe tbody tr th:only-of-type {\n",
       "        vertical-align: middle;\n",
       "    }\n",
       "\n",
       "    .dataframe tbody tr th {\n",
       "        vertical-align: top;\n",
       "    }\n",
       "\n",
       "    .dataframe thead th {\n",
       "        text-align: right;\n",
       "    }\n",
       "</style>\n",
       "<table border=\"1\" class=\"dataframe\">\n",
       "  <thead>\n",
       "    <tr style=\"text-align: right;\">\n",
       "      <th></th>\n",
       "      <th>Inventory</th>\n",
       "      <th>Price</th>\n",
       "      <th>probability</th>\n",
       "      <th>nx_Inventory</th>\n",
       "      <th>nx_Price</th>\n",
       "      <th>action</th>\n",
       "    </tr>\n",
       "  </thead>\n",
       "  <tbody>\n",
       "    <tr>\n",
       "      <th>0</th>\n",
       "      <td>10</td>\n",
       "      <td>5</td>\n",
       "      <td>0.6</td>\n",
       "      <td>9</td>\n",
       "      <td>5</td>\n",
       "      <td>a</td>\n",
       "    </tr>\n",
       "    <tr>\n",
       "      <th>1</th>\n",
       "      <td>10</td>\n",
       "      <td>5</td>\n",
       "      <td>0.4</td>\n",
       "      <td>8</td>\n",
       "      <td>5</td>\n",
       "      <td>a</td>\n",
       "    </tr>\n",
       "    <tr>\n",
       "      <th>2</th>\n",
       "      <td>10</td>\n",
       "      <td>5</td>\n",
       "      <td>0.3</td>\n",
       "      <td>9</td>\n",
       "      <td>6</td>\n",
       "      <td>a</td>\n",
       "    </tr>\n",
       "  </tbody>\n",
       "</table>\n",
       "</div>"
      ],
      "text/plain": [
       "   Inventory  Price  probability  nx_Inventory  nx_Price action\n",
       "0         10      5          0.6             9         5      a\n",
       "1         10      5          0.4             8         5      a\n",
       "2         10      5          0.3             9         6      a"
      ]
     },
     "execution_count": 11,
     "metadata": {},
     "output_type": "execute_result"
    }
   ],
   "source": [
    "df.head()"
   ]
  },
  {
   "cell_type": "code",
   "execution_count": 12,
   "id": "b8828ec5",
   "metadata": {},
   "outputs": [],
   "source": [
    "nx_state_var = [col for col in df.columns if col.startswith('nx') and col != 'action' and col != 'probability' and col != 'reward']\n",
    "#nx_state_var = ['nx_capacity']\n",
    "state_var = [col.replace('nx_', '') for col in nx_state_var]"
   ]
  },
  {
   "cell_type": "code",
   "execution_count": 28,
   "id": "5e811acb",
   "metadata": {},
   "outputs": [],
   "source": [
    "df['current_state'] = df.loc[:, state_var].apply(lambda row: ', '.join(map(str, row)), axis=1)\n",
    "df['next_state'] = df.loc[:, nx_state_var].apply(lambda row: ', '.join(map(str, row)), axis=1)"
   ]
  },
  {
   "cell_type": "code",
   "execution_count": 29,
   "id": "ca2b75c3",
   "metadata": {},
   "outputs": [
    {
     "name": "stdout",
     "output_type": "stream",
     "text": [
      "['10, 5']\n",
      "<class 'numpy.ndarray'>\n"
     ]
    }
   ],
   "source": [
    "states = df['current_state'].unique()\n",
    "print(states)\n",
    "print(type(states))"
   ]
  },
  {
   "cell_type": "code",
   "execution_count": 30,
   "id": "802ab8a5",
   "metadata": {},
   "outputs": [],
   "source": [
    "random_samples = []\n",
    "num_samples = 100000  # Number of samples to generate\n",
    "\n",
    "for _ in range(num_samples):\n",
    "    random_state = np.random.choice(states)\n",
    "    #print(random_state)\n",
    "    sample_action = np.random.choice((df[df['current_state'] == random_state]).action.unique())\n",
    "    #print(sample_action)\n",
    "    sample_row = df[(df['current_state'] == random_state) & (df['action'] == sample_action)].sample(n=1, weights='probability').iloc[0]\n",
    "\n",
    "    # Extract the values from the selected row\n",
    "    current_state = sample_row['current_state']\n",
    "    action = sample_row['action']\n",
    "    next_state = sample_row['next_state']\n",
    "\n",
    "    # Add the sample to the list\n",
    "    random_samples.append([current_state, action, next_state])\n",
    "    #print(random_samples)"
   ]
  },
  {
   "cell_type": "code",
   "execution_count": 31,
   "id": "4ca7b48e",
   "metadata": {},
   "outputs": [
    {
     "data": {
      "text/html": [
       "<div>\n",
       "<style scoped>\n",
       "    .dataframe tbody tr th:only-of-type {\n",
       "        vertical-align: middle;\n",
       "    }\n",
       "\n",
       "    .dataframe tbody tr th {\n",
       "        vertical-align: top;\n",
       "    }\n",
       "\n",
       "    .dataframe thead th {\n",
       "        text-align: right;\n",
       "    }\n",
       "</style>\n",
       "<table border=\"1\" class=\"dataframe\">\n",
       "  <thead>\n",
       "    <tr style=\"text-align: right;\">\n",
       "      <th></th>\n",
       "      <th>current_state</th>\n",
       "      <th>action</th>\n",
       "      <th>next_state</th>\n",
       "    </tr>\n",
       "  </thead>\n",
       "  <tbody>\n",
       "    <tr>\n",
       "      <th>0</th>\n",
       "      <td>10, 5</td>\n",
       "      <td>a</td>\n",
       "      <td>9, 6</td>\n",
       "    </tr>\n",
       "    <tr>\n",
       "      <th>1</th>\n",
       "      <td>10, 5</td>\n",
       "      <td>a</td>\n",
       "      <td>8, 5</td>\n",
       "    </tr>\n",
       "    <tr>\n",
       "      <th>2</th>\n",
       "      <td>10, 5</td>\n",
       "      <td>a</td>\n",
       "      <td>8, 5</td>\n",
       "    </tr>\n",
       "    <tr>\n",
       "      <th>3</th>\n",
       "      <td>10, 5</td>\n",
       "      <td>a</td>\n",
       "      <td>9, 6</td>\n",
       "    </tr>\n",
       "    <tr>\n",
       "      <th>4</th>\n",
       "      <td>10, 5</td>\n",
       "      <td>a</td>\n",
       "      <td>9, 5</td>\n",
       "    </tr>\n",
       "  </tbody>\n",
       "</table>\n",
       "</div>"
      ],
      "text/plain": [
       "  current_state action next_state\n",
       "0         10, 5      a       9, 6\n",
       "1         10, 5      a       8, 5\n",
       "2         10, 5      a       8, 5\n",
       "3         10, 5      a       9, 6\n",
       "4         10, 5      a       9, 5"
      ]
     },
     "execution_count": 31,
     "metadata": {},
     "output_type": "execute_result"
    }
   ],
   "source": [
    "df_samples = pd.DataFrame(random_samples, columns=['current_state', 'action', 'next_state'])\n",
    "df_samples.head()"
   ]
  },
  {
   "cell_type": "code",
   "execution_count": 32,
   "id": "65360905",
   "metadata": {},
   "outputs": [
    {
     "name": "stdout",
     "output_type": "stream",
     "text": [
      "  current_state action next_state  count\n",
      "0         10, 5      a       8, 5  30818\n",
      "1         10, 5      a       9, 5  46368\n",
      "2         10, 5      a       9, 6  22814\n",
      "  current_state action  count_total\n",
      "0         10, 5      a       100000\n",
      "  current_state action next_state  count  count_total  empirical_probability\n",
      "0         10, 5      a       8, 5  30818       100000                0.30818\n",
      "1         10, 5      a       9, 5  46368       100000                0.46368\n",
      "2         10, 5      a       9, 6  22814       100000                0.22814\n"
     ]
    }
   ],
   "source": [
    "df_empirical_probs = df_samples.groupby(['current_state', 'action', 'next_state']).size().reset_index(name='count')\n",
    "print(df_empirical_probs)\n",
    "df_empirical_count = df_samples.groupby(['current_state', 'action']).size().reset_index(name='count_total')\n",
    "print(df_empirical_count)\n",
    "\n",
    "df_empirical_probs = df_empirical_probs.merge(df_empirical_count, on=['current_state', 'action'])\n",
    "df_empirical_probs['empirical_probability'] = df_empirical_probs['count'] / df_empirical_probs['count_total']\n",
    "print(df_empirical_probs)\n"
   ]
  },
  {
   "cell_type": "code",
   "execution_count": 33,
   "id": "2d136521",
   "metadata": {},
   "outputs": [
    {
     "name": "stdout",
     "output_type": "stream",
     "text": [
      "   Inventory  Price  probability  nx_Inventory  nx_Price action current_state  \\\n",
      "0         10      5          0.6             9         5      a         10, 5   \n",
      "1         10      5          0.4             8         5      a         10, 5   \n",
      "2         10      5          0.3             9         6      a         10, 5   \n",
      "\n",
      "  next_state  count  count_total  empirical_probability  prob_diff  \n",
      "0       9, 5  46368       100000                0.46368    0.13632  \n",
      "1       8, 5  30818       100000                0.30818    0.09182  \n",
      "2       9, 6  22814       100000                0.22814    0.07186  \n",
      "\n",
      "Do all probabilities match? False\n"
     ]
    }
   ],
   "source": [
    "df_merged = df.merge(df_empirical_probs, on=['current_state', 'action', 'next_state'], how='left')\n",
    "# Check if the empirical probabilities match the specified probabilities\n",
    "df_merged['prob_diff'] = df_merged['probability'] - df_merged['empirical_probability']\n",
    "all_probs_match = np.allclose(df_merged['probability'], df_merged['empirical_probability'])\n",
    "\n",
    "# Display the comparison results\n",
    "print(df_merged)\n",
    "print(\"\\nDo all probabilities match?\", all_probs_match)"
   ]
  },
  {
   "cell_type": "code",
   "execution_count": null,
   "id": "02ef244d",
   "metadata": {},
   "outputs": [],
   "source": []
  }
 ],
 "metadata": {
  "kernelspec": {
   "display_name": "Python 3 (ipykernel)",
   "language": "python",
   "name": "python3"
  },
  "language_info": {
   "codemirror_mode": {
    "name": "ipython",
    "version": 3
   },
   "file_extension": ".py",
   "mimetype": "text/x-python",
   "name": "python",
   "nbconvert_exporter": "python",
   "pygments_lexer": "ipython3",
   "version": "3.10.6"
  }
 },
 "nbformat": 4,
 "nbformat_minor": 5
}
