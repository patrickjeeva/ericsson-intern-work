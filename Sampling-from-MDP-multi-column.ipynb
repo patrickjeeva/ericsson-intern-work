{
 "cells": [
  {
   "cell_type": "code",
   "execution_count": 62,
   "id": "33b58e87",
   "metadata": {},
   "outputs": [],
   "source": [
    "import pandas as pd\n",
    "import numpy as np"
   ]
  },
  {
   "cell_type": "code",
   "execution_count": 63,
   "id": "6860c35a",
   "metadata": {},
   "outputs": [
    {
     "data": {
      "text/plain": [
       "pandas.core.frame.DataFrame"
      ]
     },
     "execution_count": 63,
     "metadata": {},
     "output_type": "execute_result"
    }
   ],
   "source": [
    "#columns = ['current_state', 'action', 'next_state', 'probability']\n",
    "#df = pd.DataFrame(pd.read_csv('mdp_1d_statedata.xls', header = None),columns=columns)\n",
    "#df = pd.read_csv('mdp_1d_statedata.xls', header = None)\n",
    "df = pd.read_csv('mdp_2d_data.xls')\n",
    "#df = pd.read_excel('dataformdp.xlsm')\n",
    "type(df)"
   ]
  },
  {
   "cell_type": "code",
   "execution_count": 64,
   "id": "8ab2c5f4",
   "metadata": {},
   "outputs": [
    {
     "data": {
      "text/html": [
       "<div>\n",
       "<style scoped>\n",
       "    .dataframe tbody tr th:only-of-type {\n",
       "        vertical-align: middle;\n",
       "    }\n",
       "\n",
       "    .dataframe tbody tr th {\n",
       "        vertical-align: top;\n",
       "    }\n",
       "\n",
       "    .dataframe thead th {\n",
       "        text-align: right;\n",
       "    }\n",
       "</style>\n",
       "<table border=\"1\" class=\"dataframe\">\n",
       "  <thead>\n",
       "    <tr style=\"text-align: right;\">\n",
       "      <th></th>\n",
       "      <th>Inventory</th>\n",
       "      <th>Price</th>\n",
       "      <th>probability</th>\n",
       "      <th>nx_Inventory</th>\n",
       "      <th>nx_Price</th>\n",
       "      <th>action</th>\n",
       "    </tr>\n",
       "  </thead>\n",
       "  <tbody>\n",
       "    <tr>\n",
       "      <th>0</th>\n",
       "      <td>10</td>\n",
       "      <td>5</td>\n",
       "      <td>0.6</td>\n",
       "      <td>9</td>\n",
       "      <td>5</td>\n",
       "      <td>a</td>\n",
       "    </tr>\n",
       "    <tr>\n",
       "      <th>1</th>\n",
       "      <td>10</td>\n",
       "      <td>5</td>\n",
       "      <td>0.4</td>\n",
       "      <td>8</td>\n",
       "      <td>5</td>\n",
       "      <td>a</td>\n",
       "    </tr>\n",
       "    <tr>\n",
       "      <th>2</th>\n",
       "      <td>10</td>\n",
       "      <td>5</td>\n",
       "      <td>0.3</td>\n",
       "      <td>9</td>\n",
       "      <td>5</td>\n",
       "      <td>a</td>\n",
       "    </tr>\n",
       "  </tbody>\n",
       "</table>\n",
       "</div>"
      ],
      "text/plain": [
       "   Inventory  Price  probability  nx_Inventory  nx_Price action\n",
       "0         10      5          0.6             9         5      a\n",
       "1         10      5          0.4             8         5      a\n",
       "2         10      5          0.3             9         5      a"
      ]
     },
     "execution_count": 64,
     "metadata": {},
     "output_type": "execute_result"
    }
   ],
   "source": [
    "df.head()"
   ]
  },
  {
   "cell_type": "code",
   "execution_count": 65,
   "id": "b60e9cdb",
   "metadata": {},
   "outputs": [
    {
     "data": {
      "text/plain": [
       "\"\\ncolumns = ['current_state', 'action', 'next_state', 'probability']\\ndf.columns = columns\\n\""
      ]
     },
     "execution_count": 65,
     "metadata": {},
     "output_type": "execute_result"
    }
   ],
   "source": [
    "#If the Data has one state feature or state is stored as list with all features\n",
    "'''\n",
    "columns = ['current_state', 'action', 'next_state', 'probability']\n",
    "df.columns = columns\n",
    "'''"
   ]
  },
  {
   "cell_type": "code",
   "execution_count": 66,
   "id": "19c9825d",
   "metadata": {},
   "outputs": [
    {
     "name": "stdout",
     "output_type": "stream",
     "text": [
      "Index(['Inventory', 'Price', 'probability', 'nx_Inventory', 'nx_Price',\n",
      "       'action'],\n",
      "      dtype='object')\n",
      "['Inventory', 'Price']\n",
      "['nx_Inventory', 'nx_Price']\n"
     ]
    },
    {
     "data": {
      "text/plain": [
       "\"\\ndf['current_state'] = df[state_var].apply(lambda row: list(row), axis=1)\\ndf['next_state'] = df[nx_state_var].apply(lambda row: list(row), axis=1)\\n\""
      ]
     },
     "execution_count": 66,
     "metadata": {},
     "output_type": "execute_result"
    }
   ],
   "source": [
    "#If MDP has state features stored in multiple columns\n",
    "'''\n",
    "state_var = [col for col in df.columns if not col.startswith('nx') and col != 'action' and col != 'probability' and col != 'reward']\n",
    "nx_state_var = ['nx_' + col  for col in state_var]\n",
    "'''\n",
    "nx_state_var = [col for col in df.columns if col.startswith('nx') and col != 'action' and col != 'probability' and col != 'reward']\n",
    "state_var = [col.replace('nx_', '') for col in nx_state_var]\n",
    "\n",
    "print(df.columns)\n",
    "print(state_var)\n",
    "print(nx_state_var)\n",
    "'''\n",
    "df['current_state'] = df[state_var].apply(lambda row: list(row), axis=1)\n",
    "df['next_state'] = df[nx_state_var].apply(lambda row: list(row), axis=1)\n",
    "'''"
   ]
  },
  {
   "cell_type": "code",
   "execution_count": 67,
   "id": "f2d72c43",
   "metadata": {},
   "outputs": [
    {
     "data": {
      "text/html": [
       "<div>\n",
       "<style scoped>\n",
       "    .dataframe tbody tr th:only-of-type {\n",
       "        vertical-align: middle;\n",
       "    }\n",
       "\n",
       "    .dataframe tbody tr th {\n",
       "        vertical-align: top;\n",
       "    }\n",
       "\n",
       "    .dataframe thead th {\n",
       "        text-align: right;\n",
       "    }\n",
       "</style>\n",
       "<table border=\"1\" class=\"dataframe\">\n",
       "  <thead>\n",
       "    <tr style=\"text-align: right;\">\n",
       "      <th></th>\n",
       "      <th>Inventory</th>\n",
       "      <th>Price</th>\n",
       "      <th>probability</th>\n",
       "      <th>nx_Inventory</th>\n",
       "      <th>nx_Price</th>\n",
       "      <th>action</th>\n",
       "    </tr>\n",
       "  </thead>\n",
       "  <tbody>\n",
       "    <tr>\n",
       "      <th>0</th>\n",
       "      <td>10</td>\n",
       "      <td>5</td>\n",
       "      <td>0.6</td>\n",
       "      <td>9</td>\n",
       "      <td>5</td>\n",
       "      <td>a</td>\n",
       "    </tr>\n",
       "    <tr>\n",
       "      <th>1</th>\n",
       "      <td>10</td>\n",
       "      <td>5</td>\n",
       "      <td>0.4</td>\n",
       "      <td>8</td>\n",
       "      <td>5</td>\n",
       "      <td>a</td>\n",
       "    </tr>\n",
       "    <tr>\n",
       "      <th>2</th>\n",
       "      <td>10</td>\n",
       "      <td>5</td>\n",
       "      <td>0.3</td>\n",
       "      <td>9</td>\n",
       "      <td>5</td>\n",
       "      <td>a</td>\n",
       "    </tr>\n",
       "  </tbody>\n",
       "</table>\n",
       "</div>"
      ],
      "text/plain": [
       "   Inventory  Price  probability  nx_Inventory  nx_Price action\n",
       "0         10      5          0.6             9         5      a\n",
       "1         10      5          0.4             8         5      a\n",
       "2         10      5          0.3             9         5      a"
      ]
     },
     "execution_count": 67,
     "metadata": {},
     "output_type": "execute_result"
    }
   ],
   "source": [
    "df.head()"
   ]
  },
  {
   "cell_type": "code",
   "execution_count": 68,
   "id": "ca2b75c3",
   "metadata": {},
   "outputs": [
    {
     "name": "stdout",
     "output_type": "stream",
     "text": [
      "   Inventory  Price\n",
      "0         10      5\n",
      "<class 'pandas.core.frame.DataFrame'>\n"
     ]
    }
   ],
   "source": [
    "#states = pd.concat([df[state_var], df[nx_state_var]], axis=0)\n",
    "'''\n",
    "nx_states = df[nx_state_var]\n",
    "nx_states.columns = state_var\n",
    "states = df[state_var].append(nx_states, ignore_index=True)\n",
    "states = states.drop_duplicates()\n",
    "'''\n",
    "states = df[state_var].drop_duplicates()\n",
    "#states = df[state_var].unique()\n",
    "#states = df['current_state'].unique()\n",
    "print(states)\n",
    "print(type(states))"
   ]
  },
  {
   "cell_type": "code",
   "execution_count": 83,
   "id": "802ab8a5",
   "metadata": {},
   "outputs": [],
   "source": [
    "random_samples = []\n",
    "num_samples = 100000  # Number of samples to generate\n",
    "\n",
    "for _ in range(num_samples):\n",
    "    #random_state = np.random.choice(states)\n",
    "    random_state = states.sample(n=1) \n",
    "    state_value = random_state[state_var].values[0]\n",
    "    #print(random_state)\n",
    "    #print(random_state.columns == state_var)\n",
    "    #print(random_state.columns)\n",
    "    #print(type(random_state[state_var]))\n",
    "    #print(state_value)\n",
    "    #print(df[state_var] == state_value)\n",
    "    #print(df[df[state_var] == state_value])\n",
    "    random_state_tuple = pd.merge(df, random_state[state_var], on=state_var)\n",
    "    #print(random_state_tuple)\n",
    "    sample_action = (random_state_tuple.sample(n=1)).action.unique()[0]\n",
    "    #print(sample_action)\n",
    "    sample_row = random_state_tuple[random_state_tuple['action'] == sample_action].sample(n=1, weights='probability').iloc[0]\n",
    "\n",
    "    # Extract the values from the selected row\n",
    "    current_state = sample_row[state_var]\n",
    "    action = sample_row['action']\n",
    "    next_state = sample_row[nx_state_var]\n",
    "\n",
    "    # Add the sample to the list\n",
    "    random_samples.append(list(current_state) + [action] + list(next_state))\n",
    "    #print(random_samples)"
   ]
  },
  {
   "cell_type": "code",
   "execution_count": 84,
   "id": "4ca7b48e",
   "metadata": {},
   "outputs": [
    {
     "name": "stdout",
     "output_type": "stream",
     "text": [
      "['Inventory', 'Price', 'action', 'nx_Inventory', 'nx_Price']\n"
     ]
    },
    {
     "data": {
      "text/html": [
       "<div>\n",
       "<style scoped>\n",
       "    .dataframe tbody tr th:only-of-type {\n",
       "        vertical-align: middle;\n",
       "    }\n",
       "\n",
       "    .dataframe tbody tr th {\n",
       "        vertical-align: top;\n",
       "    }\n",
       "\n",
       "    .dataframe thead th {\n",
       "        text-align: right;\n",
       "    }\n",
       "</style>\n",
       "<table border=\"1\" class=\"dataframe\">\n",
       "  <thead>\n",
       "    <tr style=\"text-align: right;\">\n",
       "      <th></th>\n",
       "      <th>Inventory</th>\n",
       "      <th>Price</th>\n",
       "      <th>action</th>\n",
       "      <th>nx_Inventory</th>\n",
       "      <th>nx_Price</th>\n",
       "    </tr>\n",
       "  </thead>\n",
       "  <tbody>\n",
       "    <tr>\n",
       "      <th>0</th>\n",
       "      <td>10</td>\n",
       "      <td>5</td>\n",
       "      <td>a</td>\n",
       "      <td>9</td>\n",
       "      <td>5</td>\n",
       "    </tr>\n",
       "    <tr>\n",
       "      <th>1</th>\n",
       "      <td>10</td>\n",
       "      <td>5</td>\n",
       "      <td>a</td>\n",
       "      <td>9</td>\n",
       "      <td>5</td>\n",
       "    </tr>\n",
       "    <tr>\n",
       "      <th>2</th>\n",
       "      <td>10</td>\n",
       "      <td>5</td>\n",
       "      <td>a</td>\n",
       "      <td>8</td>\n",
       "      <td>5</td>\n",
       "    </tr>\n",
       "    <tr>\n",
       "      <th>3</th>\n",
       "      <td>10</td>\n",
       "      <td>5</td>\n",
       "      <td>a</td>\n",
       "      <td>9</td>\n",
       "      <td>5</td>\n",
       "    </tr>\n",
       "    <tr>\n",
       "      <th>4</th>\n",
       "      <td>10</td>\n",
       "      <td>5</td>\n",
       "      <td>a</td>\n",
       "      <td>9</td>\n",
       "      <td>5</td>\n",
       "    </tr>\n",
       "  </tbody>\n",
       "</table>\n",
       "</div>"
      ],
      "text/plain": [
       "   Inventory  Price action  nx_Inventory  nx_Price\n",
       "0         10      5      a             9         5\n",
       "1         10      5      a             9         5\n",
       "2         10      5      a             8         5\n",
       "3         10      5      a             9         5\n",
       "4         10      5      a             9         5"
      ]
     },
     "execution_count": 84,
     "metadata": {},
     "output_type": "execute_result"
    }
   ],
   "source": [
    "#df_samples = pd.DataFrame(random_samples, columns=['current_state', 'action', 'next_state'])\n",
    "col = state_var + ['action'] + nx_state_var\n",
    "print(col)\n",
    "df_samples = pd.DataFrame(random_samples, columns=col)\n",
    "df_samples.head()"
   ]
  },
  {
   "cell_type": "code",
   "execution_count": 85,
   "id": "65360905",
   "metadata": {},
   "outputs": [
    {
     "name": "stdout",
     "output_type": "stream",
     "text": [
      "   Inventory  Price action  nx_Inventory  nx_Price  count\n",
      "0         10      5      a             8         5  30603\n",
      "1         10      5      a             9         5  69397\n",
      "   Inventory  Price action  count_total\n",
      "0         10      5      a       100000\n",
      "   Inventory  Price action  nx_Inventory  nx_Price  count  count_total  \\\n",
      "0         10      5      a             8         5  30603       100000   \n",
      "1         10      5      a             9         5  69397       100000   \n",
      "\n",
      "   empirical_probability  \n",
      "0                0.30603  \n",
      "1                0.69397  \n"
     ]
    }
   ],
   "source": [
    "df_empirical_probs = df_samples.groupby(col).size().reset_index(name='count')\n",
    "print(df_empirical_probs)\n",
    "df_empirical_count = df_samples.groupby(state_var + ['action']).size().reset_index(name='count_total')\n",
    "print(df_empirical_count)\n",
    "\n",
    "df_empirical_probs = df_empirical_probs.merge(df_empirical_count, on=state_var + ['action'])\n",
    "df_empirical_probs['empirical_probability'] = df_empirical_probs['count'] / df_empirical_probs['count_total']\n",
    "print(df_empirical_probs)\n"
   ]
  },
  {
   "cell_type": "code",
   "execution_count": 87,
   "id": "2d136521",
   "metadata": {},
   "outputs": [
    {
     "name": "stdout",
     "output_type": "stream",
     "text": [
      "   Inventory  Price  probability  nx_Inventory  nx_Price action  count  \\\n",
      "0         10      5          0.6             9         5      a  69397   \n",
      "1         10      5          0.4             8         5      a  30603   \n",
      "2         10      5          0.3             9         5      a  69397   \n",
      "\n",
      "   count_total  empirical_probability  prob_diff  \n",
      "0       100000                0.69397   -0.09397  \n",
      "1       100000                0.30603    0.09397  \n",
      "2       100000                0.69397   -0.39397  \n",
      "\n",
      "Do all probabilities match? False\n"
     ]
    }
   ],
   "source": [
    "df_merged = df.merge(df_empirical_probs, on=col, how='left')\n",
    "# Check if the empirical probabilities match the specified probabilities\n",
    "df_merged['prob_diff'] = df_merged['probability'] - df_merged['empirical_probability']\n",
    "all_probs_match = np.allclose(df_merged['probability'], df_merged['empirical_probability'])\n",
    "\n",
    "# Display the comparison results\n",
    "print(df_merged)\n",
    "print(\"\\nDo all probabilities match?\", all_probs_match)"
   ]
  },
  {
   "cell_type": "code",
   "execution_count": null,
   "id": "02ef244d",
   "metadata": {},
   "outputs": [],
   "source": []
  }
 ],
 "metadata": {
  "kernelspec": {
   "display_name": "Python 3 (ipykernel)",
   "language": "python",
   "name": "python3"
  },
  "language_info": {
   "codemirror_mode": {
    "name": "ipython",
    "version": 3
   },
   "file_extension": ".py",
   "mimetype": "text/x-python",
   "name": "python",
   "nbconvert_exporter": "python",
   "pygments_lexer": "ipython3",
   "version": "3.10.6"
  }
 },
 "nbformat": 4,
 "nbformat_minor": 5
}
