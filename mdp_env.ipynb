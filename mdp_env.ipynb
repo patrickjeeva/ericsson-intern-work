{
 "cells": [
  {
   "cell_type": "code",
   "execution_count": 1,
   "id": "ac6b58e1",
   "metadata": {},
   "outputs": [],
   "source": [
    "import pandas as pd"
   ]
  },
  {
   "cell_type": "code",
   "execution_count": 4,
   "id": "4eccc184",
   "metadata": {},
   "outputs": [],
   "source": [
    "class mdp_env:\n",
    "    def __init__(self, env_name):\n",
    "        self.env_name = env_name\n",
    "        self.pets_env_name = 'pets_'+ env_name + '_sample.csv'\n",
    "        self.monte_carlo_dropout_env_name = 'monte_carlo_dropout_'+ env_name + '_sample.csv'\n",
    "        self.dyna_env_name = 'dyna_'+ env_name + '_sample.csv'\n",
    "        self.df_pets_env_name = pd.read_csv(self.pets_env_name)\n",
    "        self.df_monte_carlo_dropout_env_name = pd.read_csv(self.monte_carlo_dropout_env_name)\n",
    "        #self.df_dyna_env_name = pd.read_csv(self.dyna_env_name)\n",
    "        print(self.df_pets_env_name.columns)\n",
    "        print(self.df_monte_carlo_dropout_env_name.columns)\n",
    "        \n",
    "    def identify_bad_states():\n",
    "        self.df_pets_env_name['is_bad_state'] = 1\n",
    "        self.df_pets_env_name['is_bad_next_state'] = 1\n",
    "        self.df_pets_env_name.loc[(df['variable_0'] > -4.8) & (df['variable_0'] > 4.8) & (df['variable_2'] > -0.418) & (df['variable_2'] < 0.418), 'is_bad_state'] = 0\n",
    "        self.df_pets_env_name.loc[(df['nx_variable_0'] > -4.8) & (df['nx_variable_0'] > 4.8) & (df['nx_variable_2'] > -0.418) & (df['nx_variable_2'] < 0.418), 'is_bad_next_state'] = 0\n",
    "        \n",
    "        self.df_monte_carlo_dropout_env_name['is_bad_state'] = 1\n",
    "        self.df_monte_carlo_dropout_env_name['is_bad_next_state'] = 1\n",
    "        self.df_monte_carlo_dropout_env_name.loc[(df['variable_0'] > -4.8) & (df['variable_0'] > 4.8) & (df['variable_2'] > -0.418) & (df['variable_2'] < 0.418), 'is_bad_state'] = 0\n",
    "        self.df_monte_carlo_dropout_env_name.loc[(df['nx_variable_0'] > -4.8) & (df['nx_variable_0'] > 4.8) & (df['nx_variable_2'] > -0.418) & (df['nx_variable_2'] < 0.418), 'is_bad_next_state'] = 0\n",
    "\n",
    "        self.pets_good_states = self.df_pets_env_name[self.df_pets_env_name['is_bad_state'] == 0]\n",
    "        self.monte_carlo_dropout_good_states = self.df_monte_carlo_dropout_env_name[self.df_monte_carlo_dropout_env_name['is_bad_state'] == 0]\n",
    "        self.pets_good_next_states = self.df_pets_env_name[self.df_pets_env_name['is_bad_next_state'] == 0]\n",
    "        self.monte_carlo_dropout_good_next_states = self.df_monte_carlo_dropout_env_name[self.df_monte_carlo_dropout_env_name['is_bad_next_state'] == 0]\n",
    "        \n",
    "        col_name = self.df_pets_env_name.columns.startswith('variable')\n",
    "        nx_col_name = self.df_pets_env_name.columns.startswith('nx_variable')\n",
    "        \n",
    "        \n",
    "    def \n",
    "    \n",
    "    def max_min_value():\n",
    "        min(non_null_values_col.min(),non_null_values_col_nx.min()), max(non_null_values_col.max(),non_null_values_col_nx.max())\n",
    "        \n",
    "        "
   ]
  },
  {
   "cell_type": "code",
   "execution_count": 5,
   "id": "07b08c1c",
   "metadata": {},
   "outputs": [
    {
     "name": "stdout",
     "output_type": "stream",
     "text": [
      "Index(['variable_0', 'variable_1', 'variable_2', 'variable_3', 'action',\n",
      "       'reward', 'nx_variable_0', 'nx_variable_1', 'nx_variable_2',\n",
      "       'nx_variable_3'],\n",
      "      dtype='object')\n",
      "Index(['variable_0', 'variable_1', 'variable_2', 'variable_3', 'action',\n",
      "       'reward', 'nx_variable_0', 'nx_variable_1', 'nx_variable_2',\n",
      "       'nx_variable_3'],\n",
      "      dtype='object')\n"
     ]
    }
   ],
   "source": [
    "# Initialize CartPole environment\n",
    "env_name = 'CartPole-v1'\n",
    "#env_name = 'MountainCarContinuous-v0'\n",
    "#env_name = 'MountainCar-v0'\n",
    "#env_name = 'Pendulum-v1'\n",
    "\n",
    "mdp = mdp_env(env_name)"
   ]
  },
  {
   "cell_type": "code",
   "execution_count": null,
   "id": "14f9825a",
   "metadata": {},
   "outputs": [],
   "source": []
  }
 ],
 "metadata": {
  "kernelspec": {
   "display_name": "Python 3 (ipykernel)",
   "language": "python",
   "name": "python3"
  },
  "language_info": {
   "codemirror_mode": {
    "name": "ipython",
    "version": 3
   },
   "file_extension": ".py",
   "mimetype": "text/x-python",
   "name": "python",
   "nbconvert_exporter": "python",
   "pygments_lexer": "ipython3",
   "version": "3.11.5"
  }
 },
 "nbformat": 4,
 "nbformat_minor": 5
}
